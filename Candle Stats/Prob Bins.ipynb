{
 "cells": [
  {
   "cell_type": "code",
   "execution_count": null,
   "id": "e7080563",
   "metadata": {},
   "outputs": [],
   "source": [
    "import warnings, os\n",
    "import datetime as dt\n",
    "import itertools as it\n",
    "from numpy import nan, inf\n",
    "import numpy as np\n",
    "import pandas as pd\n",
    "import matplotlib as mpl\n",
    "import matplotlib.pyplot as plt\n",
    "import seaborn as sns\n",
    "\n",
    "warnings.filterwarnings('ignore')\n",
    "pd.set_option('display.width',       None)\n",
    "pd.set_option('display.max_columns', None)"
   ]
  },
  {
   "cell_type": "code",
   "execution_count": null,
   "id": "dce40b6e",
   "metadata": {},
   "outputs": [],
   "source": [
    "# import MetaTrader5 as mt5\n",
    "# # from vectorbt.portfolio import Portfolio as vbt_Portfolio"
   ]
  },
  {
   "cell_type": "markdown",
   "id": "35ff573d",
   "metadata": {},
   "source": [
    "# Connection"
   ]
  },
  {
   "cell_type": "code",
   "execution_count": null,
   "metadata": {},
   "outputs": [],
   "source": [
    "# RICO_REAL   = { 'login':16331371,   'password':'#582640Zz', 'server':'Rico-PRD'                 }\n",
    "# CLEAR_REAL  = { 'login':1018156111, 'password':'#582640Zz', 'server':'ClearInvestimentos-CLEAR' }\n",
    "\n",
    "# PATH_7 = r'C:\\Program Files\\MetaTrader 5 _7\\terminal64.exe'\n",
    "\n",
    "# assert mt5.initialize(PATH_7, **CLEAR_REAL)"
   ]
  },
  {
   "cell_type": "markdown",
   "id": "7b398591",
   "metadata": {},
   "source": [
    "# Variables"
   ]
  },
  {
   "cell_type": "code",
   "execution_count": null,
   "id": "c8b45545",
   "metadata": {},
   "outputs": [],
   "source": [
    "SYMBOLS = ['WIN$'] # ['WDO$']\n",
    "TFRAMES = ['M5','M15','H1','H4','D1']"
   ]
  },
  {
   "cell_type": "markdown",
   "id": "947f9e19",
   "metadata": {},
   "source": [
    "# Data"
   ]
  },
  {
   "cell_type": "code",
   "execution_count": null,
   "id": "7dde828a",
   "metadata": {},
   "outputs": [],
   "source": [
    "# def MT5_LOAD_DATA(SYMBOLS, TFRAMES, start_pos=0, count=99_999):\n",
    "#     Pipe = []\n",
    "#     for (symbol, TF) in it.product(SYMBOLS, TFRAMES):\n",
    "#         timeframe = { 'M1':mt5.TIMEFRAME_M1, 'M5':mt5.TIMEFRAME_M5, 'M10':mt5.TIMEFRAME_M10, 'M15':mt5.TIMEFRAME_M15, 'M20':mt5.TIMEFRAME_M20, 'M30':mt5.TIMEFRAME_M30, 'H1':mt5.TIMEFRAME_H1, 'H2':mt5.TIMEFRAME_H2, 'H3':mt5.TIMEFRAME_H3, 'H4':mt5.TIMEFRAME_H4, 'H6':mt5.TIMEFRAME_H6, 'H8':mt5.TIMEFRAME_H8, 'H12':mt5.TIMEFRAME_H12, 'D1':mt5.TIMEFRAME_D1, 'W1':mt5.TIMEFRAME_W1 }[TF]\n",
    "#         Raw       = pd.DataFrame(mt5.copy_rates_from_pos(symbol, timeframe, start_pos, count))\n",
    "#         Raw.insert(0, 'a',          Raw.index + 1)\n",
    "#         Raw.insert(1, 'z',          Raw.index - Raw.index.max())\n",
    "#         Raw.insert(2, 'symbol',     symbol)\n",
    "#         Raw.insert(3, 'tf',         TF)\n",
    "#         Raw.insert(4, 'datetime',   pd.to_datetime(Raw['time'], unit='s'))\n",
    "#         Pipe.append(Raw)\n",
    "#     pass\n",
    "#     return pd.concat(Pipe, ignore_index=1)\n",
    "\n",
    "# Raw = MT5_LOAD_DATA(SYMBOLS, TFRAMES)\n",
    "# Raw.head()"
   ]
  },
  {
   "cell_type": "code",
   "execution_count": null,
   "id": "1972eeeb",
   "metadata": {},
   "outputs": [],
   "source": [
    "# Raw.to_csv('Storage/Raw.csv', index=False)\n",
    "Raw = pd.read_csv('Storage/Raw.csv', parse_dates=['datetime'])\n",
    "Raw.head()"
   ]
  },
  {
   "cell_type": "code",
   "execution_count": null,
   "id": "9c9fb296",
   "metadata": {},
   "outputs": [],
   "source": [
    "def QUERY_SELECT(Raw, SYMBOLS, TFRAMES):\n",
    "    return Raw[Raw['symbol'].isin(SYMBOLS) & Raw['tf'].isin(TFRAMES)] .reset_index(drop=1)\n",
    "\n",
    "Query = QUERY_SELECT(Raw, SYMBOLS=['WIN$'], TFRAMES=['D1'])\n",
    "Query.head()"
   ]
  },
  {
   "cell_type": "code",
   "execution_count": null,
   "id": "eb3a4de9",
   "metadata": {},
   "outputs": [],
   "source": [
    "def FORMAT_SOURCE(Query):\n",
    "    Src = pd.DataFrame()\n",
    "    Src['A']        = Query['a']\n",
    "    Src['Z']        = Query['z']\n",
    "    Src['Symbol']   = Query['symbol']\n",
    "    Src['TF']       = Query['tf']\n",
    "    \n",
    "    Src['Datetime'] = Query['datetime']\n",
    "    Src['Date']     = Query['datetime'].dt.date\n",
    "    Src['Time']     = Query['datetime'].dt.time\n",
    "    \n",
    "    Src['Ticks']    = Query['tick_volume']\n",
    "    Src['Volume']   = Query['real_volume']\n",
    "    Src['Price']    = Query['close']\n",
    "    \n",
    "    Src['Open']     = Query['open']\n",
    "    Src['High']     = Query['high']\n",
    "    Src['Low']      = Query['low']\n",
    "    Src['Close']    = Query['close']\n",
    "\n",
    "    Src['Change']   = Src['Close'] - Src['Open']\n",
    "    Src['HL']       = Src['High']  - Src['Low']\n",
    "    return Src \n",
    "\n",
    "Src = FORMAT_SOURCE(Query)\n",
    "Src.head()"
   ]
  },
  {
   "cell_type": "code",
   "execution_count": null,
   "id": "aed6a664",
   "metadata": {},
   "outputs": [],
   "source": [
    "def CALCULATIONS(Src):\n",
    "\n",
    "    def _toint(x):\n",
    "        try:    return int(x)\n",
    "        except: return x\n",
    "\n",
    "    Calc = pd.DataFrame()\n",
    "    Calc['Symbol']  = Src['Symbol']\n",
    "    Calc['TF']      = Src['TF']\n",
    "\n",
    "    WINS = [0, 100, 200, 300, 500, 800, 1000, 1200, 1500, 1800, 2000, 2200, 2500, 2800, 3000, 3200, 3500, 3800, 4000, 4200, 4500, 4800, 5000, inf]\n",
    "    for (a,b) in [x for x in pd.Series(WINS).rolling(2) if (len(x) == 2)]:\n",
    "        Calc[f'Chg Abs {_toint(a)}-{_toint(b)}'] = Src.groupby(['Symbol','TF'], sort=0)['Change'].expanding().apply(lambda X: ((a <= X.abs()) & (X.abs() < b)).sum() / X.count() *100)  .reset_index(drop=1)\n",
    "\n",
    "    return Calc\n",
    "\n",
    "Calc = CALCULATIONS(Src)\n",
    "Calc.head()"
   ]
  },
  {
   "cell_type": "markdown",
   "id": "c99b7ff7",
   "metadata": {},
   "source": [
    "# Stats"
   ]
  },
  {
   "cell_type": "code",
   "execution_count": null,
   "id": "f36a5c8b",
   "metadata": {},
   "outputs": [
    {
     "data": {
      "text/plain": [
       "Symbol                WIN$\n",
       "TF                      D1\n",
       "Chg Abs 0-100          4.9\n",
       "Chg Abs 100-200       5.54\n",
       "Chg Abs 200-300       4.26\n",
       "Chg Abs 300-500       9.96\n",
       "Chg Abs 500-800      12.69\n",
       "Chg Abs 800-1000     10.68\n",
       "Chg Abs 1000-1200     7.31\n",
       "Chg Abs 1200-1500     10.2\n",
       "Chg Abs 1500-1800     8.35\n",
       "Chg Abs 1800-2000     4.42\n",
       "Chg Abs 2000-2200     3.29\n",
       "Chg Abs 2200-2500     4.74\n",
       "Chg Abs 2500-2800     3.61\n",
       "Chg Abs 2800-3000     1.29\n",
       "Chg Abs 3000-3200     1.85\n",
       "Chg Abs 3200-3500     2.09\n",
       "Chg Abs 3500-3800     1.61\n",
       "Chg Abs 3800-4000     0.48\n",
       "Chg Abs 4000-4200     0.72\n",
       "Chg Abs 4200-4500     0.56\n",
       "Chg Abs 4500-4800      0.4\n",
       "Chg Abs 4800-5000     0.24\n",
       "Chg Abs 5000-inf       0.8\n",
       "dtype: object"
      ]
     },
     "execution_count": 38,
     "metadata": {},
     "output_type": "execute_result"
    }
   ],
   "source": [
    "pd.Series(Calc.groupby(['Symbol','TF'], sort=0).tail(1).round(2).to_dict('records')[0])"
   ]
  }
 ],
 "metadata": {
  "kernelspec": {
   "display_name": "Python 3",
   "language": "python",
   "name": "python3"
  },
  "language_info": {
   "codemirror_mode": {
    "name": "ipython",
    "version": 3
   },
   "file_extension": ".py",
   "mimetype": "text/x-python",
   "name": "python",
   "nbconvert_exporter": "python",
   "pygments_lexer": "ipython3",
   "version": "3.13.3"
  }
 },
 "nbformat": 4,
 "nbformat_minor": 5
}
