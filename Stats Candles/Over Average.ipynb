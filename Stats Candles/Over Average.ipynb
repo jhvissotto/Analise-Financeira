{
 "cells": [
  {
   "cell_type": "code",
   "execution_count": null,
   "id": "e7080563",
   "metadata": {},
   "outputs": [],
   "source": [
    "import warnings, os\n",
    "import datetime as dt\n",
    "import itertools as it\n",
    "from numpy import nan, inf\n",
    "import numpy as np\n",
    "import pandas as pd\n",
    "\n",
    "warnings.filterwarnings('ignore')\n",
    "pd.set_option('display.width',       None)\n",
    "pd.set_option('display.max_columns', None)"
   ]
  },
  {
   "cell_type": "markdown",
   "id": "947f9e19",
   "metadata": {},
   "source": [
    "# Load"
   ]
  },
  {
   "cell_type": "code",
   "execution_count": null,
   "id": "1972eeeb",
   "metadata": {},
   "outputs": [],
   "source": [
    "Raw = pd.read_csv('Storage/Raw.csv', parse_dates=['datetime'])\n",
    "Raw.head()"
   ]
  },
  {
   "cell_type": "code",
   "execution_count": null,
   "id": "8d67df41",
   "metadata": {},
   "outputs": [],
   "source": [
    "def QUERY_SELECT(Raw, SYMBOLS, TFRAMES):\n",
    "    return Raw[Raw['symbol'].isin(SYMBOLS) & Raw['tf'].isin(TFRAMES)] .reset_index(drop=1)\n",
    "\n",
    "Query = QUERY_SELECT(Raw, SYMBOLS=['WIN$'], TFRAMES=['M5','M15','H1','H3','D1','W1'])\n",
    "Query.head()"
   ]
  },
  {
   "cell_type": "markdown",
   "id": "34e15110",
   "metadata": {},
   "source": [
    "# Data"
   ]
  },
  {
   "cell_type": "code",
   "execution_count": null,
   "id": "eb3a4de9",
   "metadata": {},
   "outputs": [],
   "source": [
    "def FORMAT_SOURCE(Query):\n",
    "    Src = pd.DataFrame()\n",
    "    Src['A']        = Query['a']\n",
    "    Src['Z']        = Query['z']\n",
    "    Src['Symbol']   = Query['symbol']\n",
    "    Src['TF']       = Query['tf']\n",
    "    \n",
    "    Src['Datetime'] = Query['datetime']\n",
    "    Src['Date']     = Query['datetime'].dt.date\n",
    "    Src['Time']     = Query['datetime'].dt.time\n",
    "    \n",
    "    Src['Ticks']    = Query['tick_volume']\n",
    "    Src['Volume']   = Query['real_volume']\n",
    "    Src['Price']    = Query['close']\n",
    "    \n",
    "    Src['Open']     = Query['open']\n",
    "    Src['High']     = Query['high']\n",
    "    Src['Low']      = Query['low']\n",
    "    Src['Close']    = Query['close']\n",
    "\n",
    "    Src['Change']   = Src['Close'] - Src['Open']\n",
    "    Src['HL']       = Src['High']  - Src['Low']\n",
    "    return Src \n",
    "\n",
    "Src = FORMAT_SOURCE(Query)\n",
    "Src.head()"
   ]
  },
  {
   "cell_type": "code",
   "execution_count": null,
   "id": "e12955cb",
   "metadata": {},
   "outputs": [],
   "source": [
    "def CALCULATIONS(Src):\n",
    "    Calc = pd.DataFrame(Src)\n",
    "    Calc['Chg Abs']         = Calc['Change'].abs() \n",
    "    Calc['Chg Abs Avg']     = Calc.groupby('TF', sort=0)['Chg Abs'] .expanding().mean()     .reset_index(drop=1)\n",
    "    Calc['HL Avg']          = Calc.groupby('TF', sort=0)['HL']      .expanding().mean()     .reset_index(drop=1)\n",
    "\n",
    "    Calc['Chg Abs > Avg']   = Calc['Chg Abs'] > Calc['Chg Abs Avg']\n",
    "    Calc['HL > Avg']        = Calc['HL']      > Calc['HL Avg']\n",
    "    return Calc\n",
    "\n",
    "Calc = CALCULATIONS(Src)\n",
    "Calc.head()"
   ]
  },
  {
   "cell_type": "markdown",
   "id": "fa643ac1",
   "metadata": {},
   "source": [
    "# Stats"
   ]
  },
  {
   "cell_type": "code",
   "execution_count": null,
   "id": "c3a3b1d2",
   "metadata": {},
   "outputs": [],
   "source": [
    "Calc.groupby('TF', sort=0)[['HL > Avg','Chg Abs > Avg']].mean().mul(100).round(0).astype(int)"
   ]
  },
  {
   "cell_type": "code",
   "execution_count": null,
   "id": "668b46ae",
   "metadata": {},
   "outputs": [],
   "source": [
    "Calc.groupby('TF', sort=0)[['HL','Chg Abs']].apply(lambda S: (S > S.mean()).mean()).mul(100).round(0).astype(int)"
   ]
  },
  {
   "cell_type": "markdown",
   "id": "554d9038",
   "metadata": {},
   "source": [
    "# Snippets"
   ]
  },
  {
   "cell_type": "code",
   "execution_count": null,
   "id": "84dad0d3",
   "metadata": {},
   "outputs": [],
   "source": [
    "def CALCULATIONS(Src):\n",
    "    Calc = pd.DataFrame(Src)\n",
    "    Calc['Chg Abs']         = Calc['Change'].abs() \n",
    "    Calc['Chg Abs Avg']     = Calc.groupby('TF', sort=0)['Chg Abs'] .expanding().mean()     #.reset_index(drop=1)\n",
    "    Calc['HL Avg']          = Calc.groupby('TF', sort=0)['HL']      .expanding().mean()     #.reset_index(drop=1)\n",
    "\n",
    "    Calc['Chg Abs > Avg']   = Calc['Chg Abs'] > Calc['Chg Abs Avg']\n",
    "    Calc['HL > Avg']        = Calc['HL']      > Calc['HL Avg']\n",
    "    return Calc\n",
    "\n",
    "# Each value is compared with full timeline average\n",
    "Calc.groupby('TF', sort=0)[['HL','Chg Abs']].apply(lambda S: (S > S.mean()).mean()) .mul(100).round(0).astype(int)\n",
    "\n",
    "# Each value is compared with only past window average\n",
    "Calc.groupby('TF', sort=0)[['HL > Avg','Chg Abs > Avg']].mean()                     .mul(100).round(0).astype(int)"
   ]
  }
 ],
 "metadata": {
  "kernelspec": {
   "display_name": "Python 3",
   "language": "python",
   "name": "python3"
  },
  "language_info": {
   "codemirror_mode": {
    "name": "ipython",
    "version": 3
   },
   "file_extension": ".py",
   "mimetype": "text/x-python",
   "name": "python",
   "nbconvert_exporter": "python",
   "pygments_lexer": "ipython3",
   "version": "3.13.3"
  }
 },
 "nbformat": 4,
 "nbformat_minor": 5
}
