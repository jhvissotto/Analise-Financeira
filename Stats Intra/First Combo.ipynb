{
 "cells": [
  {
   "cell_type": "code",
   "execution_count": null,
   "id": "e7080563",
   "metadata": {},
   "outputs": [],
   "source": [
    "import warnings\n",
    "import datetime as dt\n",
    "import itertools as it\n",
    "from numpy import nan\n",
    "import numpy as np\n",
    "import pandas as pd\n",
    "\n",
    "warnings.filterwarnings('ignore')\n",
    "pd.set_option('display.width',       None)\n",
    "pd.set_option('display.max_columns', None)"
   ]
  },
  {
   "cell_type": "markdown",
   "id": "947f9e19",
   "metadata": {},
   "source": [
    "# Load"
   ]
  },
  {
   "cell_type": "code",
   "execution_count": null,
   "id": "7db3b66c",
   "metadata": {},
   "outputs": [],
   "source": [
    "Raw = pd.read_csv('Storage/Metatrader_WINN.csv', parse_dates=['datetime'])\n",
    "Raw.head()"
   ]
  },
  {
   "cell_type": "code",
   "execution_count": null,
   "id": "ae0ec925",
   "metadata": {},
   "outputs": [],
   "source": [
    "def QUERY_SELECT(Raw, SYMBOLS, TFRAMES):\n",
    "    return Raw[Raw['symbol'].isin(SYMBOLS) & Raw['tf'].isin(TFRAMES)] .reset_index(drop=1)\n",
    "\n",
    "Query = QUERY_SELECT(Raw, SYMBOLS=['WIN$N'], TFRAMES=['M5'])\n",
    "Query.head()"
   ]
  },
  {
   "cell_type": "markdown",
   "id": "ca884b94",
   "metadata": {},
   "source": [
    "# Data"
   ]
  },
  {
   "cell_type": "code",
   "execution_count": null,
   "id": "fea02097",
   "metadata": {},
   "outputs": [],
   "source": [
    "def FORMAT_SOURCE(Query):\n",
    "    Src = pd.DataFrame()\n",
    "    Src[['A','Z']]                      = Query[['a','z']]\n",
    "    Src[['Symbol','TF']]                = Query[['symbol','tf']]\n",
    "    \n",
    "    Src['Datetime']                     = Query['datetime']\n",
    "    Src['Date']                         = Query['datetime'].dt.date\n",
    "    Src['Time']                         = Query['datetime'].dt.time\n",
    "    Src['ID T']                         = Src.groupby(['Symbol','TF','Date'], sort=0, group_keys=0)['Time'].rank()\n",
    "\n",
    "    Src[['Ticks','Volume']]             = Query[['tick_volume','real_volume']]\n",
    "    Src[['Open','High','Low','Close']]  = Query[['open','high','low','close']]\n",
    "    Src[['Price']]                      = Query[['close']]\n",
    "\n",
    "    # Src['Change']       = (Src['Close'] - Src['Open'])\n",
    "    # Src['Hilo']         = (Src['High']  - Src['Low'])\n",
    "\n",
    "    # Src['Sign Bull']    = Src['Change'].apply(lambda x: +1 if x >= 0 else nan)\n",
    "    # Src['Sign Bear']    = Src['Change'].apply(lambda x: -1 if x <  0 else nan)\n",
    "    return Src \n",
    "\n",
    "Src = FORMAT_SOURCE(Query)\n",
    "Src.head()"
   ]
  },
  {
   "cell_type": "code",
   "execution_count": null,
   "id": "cb580457",
   "metadata": {},
   "outputs": [],
   "source": [
    "def CALCULATIONS(Src):\n",
    "    Calc = pd.DataFrame(Src)\n",
    "    Calc_by = Calc.groupby(['Symbol','TF','Date'], sort=0, group_keys=0)\n",
    "    \n",
    "    Calc['Day Open']        = Calc_by['High'] .transform('first')\n",
    "    Calc['Day High']        = Calc_by['High'] .transform('max')\n",
    "    Calc['Day Low']         = Calc_by['Low']  .transform('min')\n",
    "    Calc['Day Close']       = Calc_by['High'] .transform('last')\n",
    "\n",
    "    Calc['Day Hilo']        = Calc['Day High']  - Calc['Day Low'] \n",
    "    Calc['Day Change']      = Calc['Day Close'] - Calc['Day Open'] \n",
    "    Calc['Day Chg Abs']     = Calc['Day Change'].abs()\n",
    "\n",
    "\n",
    "    Calc['ID Cumax']        = Calc_by['High'] .expanding().max()    .reset_index(drop=1)\n",
    "    Calc['ID Cumin']        = Calc_by['Low']  .expanding().min()    .reset_index(drop=1)\n",
    "    Calc['ID CumHL']        = Calc['ID Cumax'] - Calc['ID Cumin']\n",
    "\n",
    "    Calc['ID did Max']      = (Calc['ID Cumax'] >= Calc['Day High'])\n",
    "    Calc['ID did Min']      = (Calc['ID Cumin'] <= Calc['Day Low'])\n",
    "\n",
    "    Calc['ID did Max +M60'] = Calc_by['ID did Max'] .shift(-12+1)\n",
    "    Calc['ID did Min +M60'] = Calc_by['ID did Min'] .shift(-12+1)\n",
    "\n",
    "\n",
    "    Calc['Fwd Hilo']        = Calc['Day Hilo']  - Calc['ID CumHL']\n",
    "    Calc['Fwd Change']      = Calc['Day Close'] - Calc['Close']\n",
    "    Calc['Fwd Chg Abs']     = Calc['Fwd Change'].abs()\n",
    "\n",
    "\n",
    "    Calc['Variat M5']       = (Calc['Close'] - Calc_by['Open'].shift( +1 -1))\n",
    "    Calc['Variat M15']      = (Calc['Close'] - Calc_by['Open'].shift( +3 -1))\n",
    "    Calc['Variat M60']      = (Calc['Close'] - Calc_by['Open'].shift(+12 -1))\n",
    "\n",
    "    Calc['Return +M5']      = (Calc_by['Close'].shift( -1 +1) - Calc['Open'])\n",
    "    Calc['Return +M15']     = (Calc_by['Close'].shift( -3 +1) - Calc['Open'])\n",
    "    Calc['Return +M60']     = (Calc_by['Close'].shift(-12 +1) - Calc['Open'])\n",
    "\n",
    "\n",
    "    Calc['Var Sgn M5']      = Calc['Variat M5']   .apply(lambda x: -1 if (x < 0) else +1) \n",
    "    Calc['Var Sgn M15']     = Calc['Variat M15']  .apply(lambda x: -1 if (x < 0) else +1) \n",
    "    Calc['Var Sgn M60']     = Calc['Variat M60']  .apply(lambda x: -1 if (x < 0) else +1) \n",
    "\n",
    "    Calc['Rtn Sgn +M5']     = Calc['Return +M5']  .apply(lambda x: -1 if (x < 0) else +1) \n",
    "    Calc['Rtn Sgn +M15']    = Calc['Return +M15'] .apply(lambda x: -1 if (x < 0) else +1) \n",
    "    Calc['Rtn Sgn +M60']    = Calc['Return +M60'] .apply(lambda x: -1 if (x < 0) else +1) \n",
    "\n",
    "\n",
    "    Calc['Var Comb Bull']   = Calc.loc[:, 'Var Sgn M5':'Var Sgn M60'].eq(+1).all(axis=1)\n",
    "    Calc['Var Comb Bear']   = Calc.loc[:, 'Var Sgn M5':'Var Sgn M60'].eq(-1).all(axis=1)\n",
    "\n",
    "    Calc['Rtn Comb Bull']   = Calc.loc[:, 'Rtn Sgn +M5':'Rtn Sgn +M60'].eq(+1).all(axis=1)\n",
    "    Calc['Rtn Comb Bear']   = Calc.loc[:, 'Rtn Sgn +M5':'Rtn Sgn +M60'].eq(-1).all(axis=1)\n",
    "    return Calc\n",
    "\n",
    "Calc = CALCULATIONS(Src)\n",
    "Calc"
   ]
  },
  {
   "cell_type": "markdown",
   "id": "58459c54",
   "metadata": {},
   "source": [
    "# Stats - Counter"
   ]
  },
  {
   "cell_type": "code",
   "execution_count": 33,
   "id": "f7c95503",
   "metadata": {},
   "outputs": [
    {
     "data": {
      "text/plain": [
       "Rtn Comb Bull    30.8\n",
       "Rtn Comb Bear    32.2\n",
       "dtype: float64"
      ]
     },
     "execution_count": 33,
     "metadata": {},
     "output_type": "execute_result"
    }
   ],
   "source": [
    "pd.Series({\n",
    "    'Rtn Comb Bull': np.round(Calc[Calc['ID T'].eq(1)]['Rtn Comb Bull'].mean() *100, 1),\n",
    "    'Rtn Comb Bear': np.round(Calc[Calc['ID T'].eq(1)]['Rtn Comb Bear'].mean() *100, 1),\n",
    "})"
   ]
  },
  {
   "cell_type": "markdown",
   "id": "2d24bd67",
   "metadata": {},
   "source": [
    "# Stats - Hilos"
   ]
  },
  {
   "cell_type": "code",
   "execution_count": 34,
   "id": "ecadb482",
   "metadata": {},
   "outputs": [
    {
     "data": {
      "text/html": [
       "<div>\n",
       "<style scoped>\n",
       "    .dataframe tbody tr th:only-of-type {\n",
       "        vertical-align: middle;\n",
       "    }\n",
       "\n",
       "    .dataframe tbody tr th {\n",
       "        vertical-align: top;\n",
       "    }\n",
       "\n",
       "    .dataframe thead th {\n",
       "        text-align: right;\n",
       "    }\n",
       "</style>\n",
       "<table border=\"1\" class=\"dataframe\">\n",
       "  <thead>\n",
       "    <tr style=\"text-align: right;\">\n",
       "      <th></th>\n",
       "      <th>Cond</th>\n",
       "      <th>ID did Max +M60</th>\n",
       "      <th>ID did Min +M60</th>\n",
       "    </tr>\n",
       "  </thead>\n",
       "  <tbody>\n",
       "    <tr>\n",
       "      <th>0</th>\n",
       "      <td>Rtn Comb Bull</td>\n",
       "      <td>16.5</td>\n",
       "      <td>43.4</td>\n",
       "    </tr>\n",
       "    <tr>\n",
       "      <th>1</th>\n",
       "      <td>Rtn Comb Bear</td>\n",
       "      <td>42.6</td>\n",
       "      <td>14.1</td>\n",
       "    </tr>\n",
       "  </tbody>\n",
       "</table>\n",
       "</div>"
      ],
      "text/plain": [
       "            Cond  ID did Max +M60  ID did Min +M60\n",
       "0  Rtn Comb Bull             16.5             43.4\n",
       "1  Rtn Comb Bear             42.6             14.1"
      ]
     },
     "execution_count": 34,
     "metadata": {},
     "output_type": "execute_result"
    }
   ],
   "source": [
    "pd.DataFrame([\n",
    "    { 'Cond':'Rtn Comb Bull', **Calc[Calc['ID T'].eq(1) & Calc['Rtn Comb Bull']][['ID did Max +M60','ID did Min +M60']].mean().mul(100).apply(pd.to_numeric).round(1) }, \n",
    "    { 'Cond':'Rtn Comb Bear', **Calc[Calc['ID T'].eq(1) & Calc['Rtn Comb Bear']][['ID did Max +M60','ID did Min +M60']].mean().mul(100).apply(pd.to_numeric).round(1) }, \n",
    "])"
   ]
  },
  {
   "cell_type": "markdown",
   "id": "cc5c0646",
   "metadata": {},
   "source": [
    "# Stats - Daily Amplitude"
   ]
  },
  {
   "cell_type": "code",
   "execution_count": 35,
   "id": "bdb061db",
   "metadata": {},
   "outputs": [
    {
     "data": {
      "text/html": [
       "<div>\n",
       "<style scoped>\n",
       "    .dataframe tbody tr th:only-of-type {\n",
       "        vertical-align: middle;\n",
       "    }\n",
       "\n",
       "    .dataframe tbody tr th {\n",
       "        vertical-align: top;\n",
       "    }\n",
       "\n",
       "    .dataframe thead th {\n",
       "        text-align: right;\n",
       "    }\n",
       "</style>\n",
       "<table border=\"1\" class=\"dataframe\">\n",
       "  <thead>\n",
       "    <tr style=\"text-align: right;\">\n",
       "      <th></th>\n",
       "      <th>Cond</th>\n",
       "      <th>count</th>\n",
       "      <th>mean</th>\n",
       "      <th>std</th>\n",
       "      <th>min</th>\n",
       "      <th>25%</th>\n",
       "      <th>50%</th>\n",
       "      <th>75%</th>\n",
       "      <th>max</th>\n",
       "    </tr>\n",
       "  </thead>\n",
       "  <tbody>\n",
       "    <tr>\n",
       "      <th>0</th>\n",
       "      <td>Rtn Comb Bull</td>\n",
       "      <td>279</td>\n",
       "      <td>1923</td>\n",
       "      <td>869</td>\n",
       "      <td>610</td>\n",
       "      <td>1390</td>\n",
       "      <td>1680</td>\n",
       "      <td>2240</td>\n",
       "      <td>7400</td>\n",
       "    </tr>\n",
       "    <tr>\n",
       "      <th>1</th>\n",
       "      <td>Rtn Comb Bear</td>\n",
       "      <td>291</td>\n",
       "      <td>1899</td>\n",
       "      <td>798</td>\n",
       "      <td>660</td>\n",
       "      <td>1360</td>\n",
       "      <td>1715</td>\n",
       "      <td>2278</td>\n",
       "      <td>4625</td>\n",
       "    </tr>\n",
       "  </tbody>\n",
       "</table>\n",
       "</div>"
      ],
      "text/plain": [
       "            Cond  count  mean  std  min   25%   50%   75%   max\n",
       "0  Rtn Comb Bull    279  1923  869  610  1390  1680  2240  7400\n",
       "1  Rtn Comb Bear    291  1899  798  660  1360  1715  2278  4625"
      ]
     },
     "execution_count": 35,
     "metadata": {},
     "output_type": "execute_result"
    }
   ],
   "source": [
    "pd.DataFrame([\n",
    "    { 'Cond':'Rtn Comb Bull', **Calc[Calc['ID T'].eq(1) & Calc['Rtn Comb Bull']]['Day Hilo'].describe().round(0).astype(int) }, \n",
    "    { 'Cond':'Rtn Comb Bear', **Calc[Calc['ID T'].eq(1) & Calc['Rtn Comb Bear']]['Day Hilo'].describe().round(0).astype(int) }, \n",
    "])"
   ]
  },
  {
   "cell_type": "code",
   "execution_count": 36,
   "id": "4122d790",
   "metadata": {},
   "outputs": [
    {
     "data": {
      "text/html": [
       "<div>\n",
       "<style scoped>\n",
       "    .dataframe tbody tr th:only-of-type {\n",
       "        vertical-align: middle;\n",
       "    }\n",
       "\n",
       "    .dataframe tbody tr th {\n",
       "        vertical-align: top;\n",
       "    }\n",
       "\n",
       "    .dataframe thead th {\n",
       "        text-align: right;\n",
       "    }\n",
       "</style>\n",
       "<table border=\"1\" class=\"dataframe\">\n",
       "  <thead>\n",
       "    <tr style=\"text-align: right;\">\n",
       "      <th></th>\n",
       "      <th>Cond</th>\n",
       "      <th>count</th>\n",
       "      <th>mean</th>\n",
       "      <th>std</th>\n",
       "      <th>min</th>\n",
       "      <th>25%</th>\n",
       "      <th>50%</th>\n",
       "      <th>75%</th>\n",
       "      <th>max</th>\n",
       "    </tr>\n",
       "  </thead>\n",
       "  <tbody>\n",
       "    <tr>\n",
       "      <th>0</th>\n",
       "      <td>Rtn Comb Bull</td>\n",
       "      <td>279</td>\n",
       "      <td>962</td>\n",
       "      <td>820</td>\n",
       "      <td>5</td>\n",
       "      <td>360</td>\n",
       "      <td>760</td>\n",
       "      <td>1322</td>\n",
       "      <td>4525</td>\n",
       "    </tr>\n",
       "    <tr>\n",
       "      <th>1</th>\n",
       "      <td>Rtn Comb Bear</td>\n",
       "      <td>291</td>\n",
       "      <td>1045</td>\n",
       "      <td>829</td>\n",
       "      <td>5</td>\n",
       "      <td>422</td>\n",
       "      <td>875</td>\n",
       "      <td>1502</td>\n",
       "      <td>4085</td>\n",
       "    </tr>\n",
       "  </tbody>\n",
       "</table>\n",
       "</div>"
      ],
      "text/plain": [
       "            Cond  count  mean  std  min  25%  50%   75%   max\n",
       "0  Rtn Comb Bull    279   962  820    5  360  760  1322  4525\n",
       "1  Rtn Comb Bear    291  1045  829    5  422  875  1502  4085"
      ]
     },
     "execution_count": 36,
     "metadata": {},
     "output_type": "execute_result"
    }
   ],
   "source": [
    "pd.DataFrame([\n",
    "    { 'Cond':'Rtn Comb Bull', **Calc[Calc['ID T'].eq(1) & Calc['Rtn Comb Bull']]['Day Chg Abs'].describe().round(0).astype(int) }, \n",
    "    { 'Cond':'Rtn Comb Bear', **Calc[Calc['ID T'].eq(1) & Calc['Rtn Comb Bear']]['Day Chg Abs'].describe().round(0).astype(int) }, \n",
    "])"
   ]
  },
  {
   "cell_type": "code",
   "execution_count": 37,
   "id": "b5dc8d04",
   "metadata": {},
   "outputs": [
    {
     "data": {
      "text/html": [
       "<div>\n",
       "<style scoped>\n",
       "    .dataframe tbody tr th:only-of-type {\n",
       "        vertical-align: middle;\n",
       "    }\n",
       "\n",
       "    .dataframe tbody tr th {\n",
       "        vertical-align: top;\n",
       "    }\n",
       "\n",
       "    .dataframe thead th {\n",
       "        text-align: right;\n",
       "    }\n",
       "</style>\n",
       "<table border=\"1\" class=\"dataframe\">\n",
       "  <thead>\n",
       "    <tr style=\"text-align: right;\">\n",
       "      <th></th>\n",
       "      <th>Cond</th>\n",
       "      <th>count</th>\n",
       "      <th>mean</th>\n",
       "      <th>std</th>\n",
       "      <th>min</th>\n",
       "      <th>25%</th>\n",
       "      <th>50%</th>\n",
       "      <th>75%</th>\n",
       "      <th>max</th>\n",
       "    </tr>\n",
       "  </thead>\n",
       "  <tbody>\n",
       "    <tr>\n",
       "      <th>0</th>\n",
       "      <td>Rtn Comb Bull</td>\n",
       "      <td>279</td>\n",
       "      <td>286</td>\n",
       "      <td>1233</td>\n",
       "      <td>-3295</td>\n",
       "      <td>-432</td>\n",
       "      <td>245</td>\n",
       "      <td>992</td>\n",
       "      <td>4525</td>\n",
       "    </tr>\n",
       "    <tr>\n",
       "      <th>1</th>\n",
       "      <td>Rtn Comb Bear</td>\n",
       "      <td>291</td>\n",
       "      <td>-546</td>\n",
       "      <td>1219</td>\n",
       "      <td>-4085</td>\n",
       "      <td>-1168</td>\n",
       "      <td>-585</td>\n",
       "      <td>120</td>\n",
       "      <td>3575</td>\n",
       "    </tr>\n",
       "  </tbody>\n",
       "</table>\n",
       "</div>"
      ],
      "text/plain": [
       "            Cond  count  mean   std   min   25%  50%  75%   max\n",
       "0  Rtn Comb Bull    279   286  1233 -3295  -432  245  992  4525\n",
       "1  Rtn Comb Bear    291  -546  1219 -4085 -1168 -585  120  3575"
      ]
     },
     "execution_count": 37,
     "metadata": {},
     "output_type": "execute_result"
    }
   ],
   "source": [
    "pd.DataFrame([\n",
    "    { 'Cond':'Rtn Comb Bull', **Calc[Calc['ID T'].eq(1) & Calc['Rtn Comb Bull']]['Day Change'].describe().round(0).astype(int) }, \n",
    "    { 'Cond':'Rtn Comb Bear', **Calc[Calc['ID T'].eq(1) & Calc['Rtn Comb Bear']]['Day Change'].describe().round(0).astype(int) }, \n",
    "])"
   ]
  },
  {
   "cell_type": "markdown",
   "id": "da8c5914",
   "metadata": {},
   "source": [
    "# Stats - Points from first combo"
   ]
  },
  {
   "cell_type": "code",
   "execution_count": 38,
   "id": "cd9fc5ff",
   "metadata": {},
   "outputs": [
    {
     "data": {
      "text/html": [
       "<div>\n",
       "<style scoped>\n",
       "    .dataframe tbody tr th:only-of-type {\n",
       "        vertical-align: middle;\n",
       "    }\n",
       "\n",
       "    .dataframe tbody tr th {\n",
       "        vertical-align: top;\n",
       "    }\n",
       "\n",
       "    .dataframe thead th {\n",
       "        text-align: right;\n",
       "    }\n",
       "</style>\n",
       "<table border=\"1\" class=\"dataframe\">\n",
       "  <thead>\n",
       "    <tr style=\"text-align: right;\">\n",
       "      <th></th>\n",
       "      <th>Cond</th>\n",
       "      <th>count</th>\n",
       "      <th>mean</th>\n",
       "      <th>std</th>\n",
       "      <th>min</th>\n",
       "      <th>25%</th>\n",
       "      <th>50%</th>\n",
       "      <th>75%</th>\n",
       "      <th>max</th>\n",
       "    </tr>\n",
       "  </thead>\n",
       "  <tbody>\n",
       "    <tr>\n",
       "      <th>0</th>\n",
       "      <td>Var Comb Bull</td>\n",
       "      <td>214</td>\n",
       "      <td>124</td>\n",
       "      <td>1167</td>\n",
       "      <td>-3300</td>\n",
       "      <td>-619</td>\n",
       "      <td>212</td>\n",
       "      <td>819</td>\n",
       "      <td>4100</td>\n",
       "    </tr>\n",
       "    <tr>\n",
       "      <th>1</th>\n",
       "      <td>Var Comb Bear</td>\n",
       "      <td>192</td>\n",
       "      <td>-23</td>\n",
       "      <td>1085</td>\n",
       "      <td>-2390</td>\n",
       "      <td>-726</td>\n",
       "      <td>-65</td>\n",
       "      <td>609</td>\n",
       "      <td>3195</td>\n",
       "    </tr>\n",
       "  </tbody>\n",
       "</table>\n",
       "</div>"
      ],
      "text/plain": [
       "            Cond  count  mean   std   min  25%  50%  75%   max\n",
       "0  Var Comb Bull    214   124  1167 -3300 -619  212  819  4100\n",
       "1  Var Comb Bear    192   -23  1085 -2390 -726  -65  609  3195"
      ]
     },
     "execution_count": 38,
     "metadata": {},
     "output_type": "execute_result"
    }
   ],
   "source": [
    "pd.DataFrame([\n",
    "    { 'Cond':'Var Comb Bull', **Calc[Calc['ID T'].eq(12) & Calc['Var Comb Bull']]['Fwd Change'].describe().round(0).astype(int) }, \n",
    "    { 'Cond':'Var Comb Bear', **Calc[Calc['ID T'].eq(12) & Calc['Var Comb Bear']]['Fwd Change'].describe().round(0).astype(int) }, \n",
    "])"
   ]
  },
  {
   "cell_type": "code",
   "execution_count": 39,
   "id": "533a549b",
   "metadata": {},
   "outputs": [
    {
     "data": {
      "text/html": [
       "<div>\n",
       "<style scoped>\n",
       "    .dataframe tbody tr th:only-of-type {\n",
       "        vertical-align: middle;\n",
       "    }\n",
       "\n",
       "    .dataframe tbody tr th {\n",
       "        vertical-align: top;\n",
       "    }\n",
       "\n",
       "    .dataframe thead th {\n",
       "        text-align: right;\n",
       "    }\n",
       "</style>\n",
       "<table border=\"1\" class=\"dataframe\">\n",
       "  <thead>\n",
       "    <tr style=\"text-align: right;\">\n",
       "      <th></th>\n",
       "      <th>Cond</th>\n",
       "      <th>count</th>\n",
       "      <th>mean</th>\n",
       "      <th>std</th>\n",
       "      <th>min</th>\n",
       "      <th>25%</th>\n",
       "      <th>50%</th>\n",
       "      <th>75%</th>\n",
       "      <th>max</th>\n",
       "    </tr>\n",
       "  </thead>\n",
       "  <tbody>\n",
       "    <tr>\n",
       "      <th>0</th>\n",
       "      <td>Var Comb Bull</td>\n",
       "      <td>214</td>\n",
       "      <td>910</td>\n",
       "      <td>738</td>\n",
       "      <td>5</td>\n",
       "      <td>360</td>\n",
       "      <td>710</td>\n",
       "      <td>1269</td>\n",
       "      <td>4100</td>\n",
       "    </tr>\n",
       "    <tr>\n",
       "      <th>1</th>\n",
       "      <td>Var Comb Bear</td>\n",
       "      <td>192</td>\n",
       "      <td>848</td>\n",
       "      <td>674</td>\n",
       "      <td>25</td>\n",
       "      <td>325</td>\n",
       "      <td>710</td>\n",
       "      <td>1159</td>\n",
       "      <td>3195</td>\n",
       "    </tr>\n",
       "  </tbody>\n",
       "</table>\n",
       "</div>"
      ],
      "text/plain": [
       "            Cond  count  mean  std  min  25%  50%   75%   max\n",
       "0  Var Comb Bull    214   910  738    5  360  710  1269  4100\n",
       "1  Var Comb Bear    192   848  674   25  325  710  1159  3195"
      ]
     },
     "execution_count": 39,
     "metadata": {},
     "output_type": "execute_result"
    }
   ],
   "source": [
    "pd.DataFrame([\n",
    "    { 'Cond':'Var Comb Bull', **Calc[Calc['ID T'].eq(12) & Calc['Var Comb Bull']]['Fwd Chg Abs'].describe().round(0).astype(int) }, \n",
    "    { 'Cond':'Var Comb Bear', **Calc[Calc['ID T'].eq(12) & Calc['Var Comb Bear']]['Fwd Chg Abs'].describe().round(0).astype(int) }, \n",
    "])"
   ]
  },
  {
   "cell_type": "code",
   "execution_count": 40,
   "metadata": {},
   "outputs": [
    {
     "data": {
      "text/html": [
       "<div>\n",
       "<style scoped>\n",
       "    .dataframe tbody tr th:only-of-type {\n",
       "        vertical-align: middle;\n",
       "    }\n",
       "\n",
       "    .dataframe tbody tr th {\n",
       "        vertical-align: top;\n",
       "    }\n",
       "\n",
       "    .dataframe thead th {\n",
       "        text-align: right;\n",
       "    }\n",
       "</style>\n",
       "<table border=\"1\" class=\"dataframe\">\n",
       "  <thead>\n",
       "    <tr style=\"text-align: right;\">\n",
       "      <th></th>\n",
       "      <th>Cond</th>\n",
       "      <th>count</th>\n",
       "      <th>mean</th>\n",
       "      <th>std</th>\n",
       "      <th>min</th>\n",
       "      <th>25%</th>\n",
       "      <th>50%</th>\n",
       "      <th>75%</th>\n",
       "      <th>max</th>\n",
       "    </tr>\n",
       "  </thead>\n",
       "  <tbody>\n",
       "    <tr>\n",
       "      <th>0</th>\n",
       "      <td>Var Comb Bull</td>\n",
       "      <td>214</td>\n",
       "      <td>1142</td>\n",
       "      <td>707</td>\n",
       "      <td>55</td>\n",
       "      <td>675</td>\n",
       "      <td>995</td>\n",
       "      <td>1459</td>\n",
       "      <td>4180</td>\n",
       "    </tr>\n",
       "    <tr>\n",
       "      <th>1</th>\n",
       "      <td>Var Comb Bear</td>\n",
       "      <td>192</td>\n",
       "      <td>1139</td>\n",
       "      <td>651</td>\n",
       "      <td>35</td>\n",
       "      <td>688</td>\n",
       "      <td>1005</td>\n",
       "      <td>1446</td>\n",
       "      <td>3765</td>\n",
       "    </tr>\n",
       "  </tbody>\n",
       "</table>\n",
       "</div>"
      ],
      "text/plain": [
       "            Cond  count  mean  std  min  25%   50%   75%   max\n",
       "0  Var Comb Bull    214  1142  707   55  675   995  1459  4180\n",
       "1  Var Comb Bear    192  1139  651   35  688  1005  1446  3765"
      ]
     },
     "execution_count": 40,
     "metadata": {},
     "output_type": "execute_result"
    }
   ],
   "source": [
    "pd.DataFrame([\n",
    "    { 'Cond':'Var Comb Bull', **Calc[Calc['ID T'].eq(12) & Calc['Var Comb Bull']]['Fwd Hilo'].describe().round(0).astype(int) }, \n",
    "    { 'Cond':'Var Comb Bear', **Calc[Calc['ID T'].eq(12) & Calc['Var Comb Bear']]['Fwd Hilo'].describe().round(0).astype(int) }, \n",
    "])"
   ]
  },
  {
   "cell_type": "markdown",
   "id": "1abf6d13",
   "metadata": {},
   "source": [
    "# Snippets"
   ]
  },
  {
   "cell_type": "code",
   "execution_count": 42,
   "id": "e4e33ec5",
   "metadata": {},
   "outputs": [
    {
     "ename": "TabError",
     "evalue": "inconsistent use of tabs and spaces in indentation (<string>, line 30)",
     "output_type": "error",
     "traceback": [
      "  \u001b[36mFile \u001b[39m\u001b[32m<string>:30\u001b[39m\n\u001b[31m    \u001b[39m\u001b[31m...\u001b[39m\n       ^\n\u001b[31mTabError\u001b[39m\u001b[31m:\u001b[39m inconsistent use of tabs and spaces in indentation\n"
     ]
    }
   ],
   "source": [
    "def CALCULATIONS(Src):\n",
    "    Calc = pd.DataFrame(Src)\n",
    "    Calc_by = Calc.groupby(['Symbol','TF','Date'], sort=0, group_keys=0)\n",
    "    \n",
    "    Calc['Day Open']        = Calc_by['High'] .transform('first')\n",
    "    Calc['Day High']        = Calc_by['High'] .transform('max')\n",
    "    Calc['Day Low']         = Calc_by['Low']  .transform('min')\n",
    "    Calc['Day Close']       = Calc_by['High'] .transform('last')\n",
    "\n",
    "    Calc['Day Hilo']        = Calc['Day High']  - Calc['Day Low'] \n",
    "    Calc['Day Change']      = Calc['Day Close'] - Calc['Day Open'] \n",
    "    Calc['Day Chg Abs']     = Calc['Day Change'].abs()\n",
    "\n",
    "\n",
    "    Calc['ID Cumax']        = Calc_by['High'] .expanding().max()    .reset_index(drop=1)\n",
    "    Calc['ID Cumin']        = Calc_by['Low']  .expanding().min()    .reset_index(drop=1)\n",
    "    Calc['ID CumHL']        = Calc['ID Cumax'] - Calc['ID Cumin']\n",
    "\n",
    "    Calc['ID did Max']      = (Calc['ID Cumax'] >= Calc['Day High'])\n",
    "    Calc['ID did Min']      = (Calc['ID Cumin'] <= Calc['Day Low'])\n",
    "\n",
    "    Calc['ID did Max +M60'] = Calc_by['ID did Max'] .shift(-12+1)\n",
    "    Calc['ID did Min +M60'] = Calc_by['ID did Min'] .shift(-12+1)\n",
    "\n",
    "\n",
    "    Calc['Fwd Hilo']        = Calc['Day Hilo']  - Calc['ID CumHL']\n",
    "    Calc['Fwd Change']      = Calc['Day Close'] - Calc['Close']\n",
    "    Calc['Fwd Chg Abs']     = Calc['Fwd Change'].abs()\n",
    "    \n",
    "\t..."
   ]
  },
  {
   "cell_type": "code",
   "execution_count": null,
   "id": "5cd99930",
   "metadata": {},
   "outputs": [],
   "source": [
    "def CALCULATIONS(Src):\n",
    "\t...\n",
    "    \n",
    "    Calc['Variat M5']       = (Calc['Close'] - Calc_by['Open'].shift( +1 -1))\n",
    "    Calc['Variat M15']      = (Calc['Close'] - Calc_by['Open'].shift( +3 -1))\n",
    "    Calc['Variat M60']      = (Calc['Close'] - Calc_by['Open'].shift(+12 -1))\n",
    "\n",
    "    Calc['Return +M5']      = (Calc_by['Close'].shift( -1 +1) - Calc['Open'])\n",
    "    Calc['Return +M15']     = (Calc_by['Close'].shift( -3 +1) - Calc['Open'])\n",
    "    Calc['Return +M60']     = (Calc_by['Close'].shift(-12 +1) - Calc['Open'])\n",
    "\n",
    "\n",
    "    Calc['Var Sgn M5']      = Calc['Variat M5']   .apply(lambda x: -1 if (x < 0) else +1) \n",
    "    Calc['Var Sgn M15']     = Calc['Variat M15']  .apply(lambda x: -1 if (x < 0) else +1) \n",
    "    Calc['Var Sgn M60']     = Calc['Variat M60']  .apply(lambda x: -1 if (x < 0) else +1) \n",
    "\n",
    "    Calc['Rtn Sgn +M5']     = Calc['Return +M5']  .apply(lambda x: -1 if (x < 0) else +1) \n",
    "    Calc['Rtn Sgn +M15']    = Calc['Return +M15'] .apply(lambda x: -1 if (x < 0) else +1) \n",
    "    Calc['Rtn Sgn +M60']    = Calc['Return +M60'] .apply(lambda x: -1 if (x < 0) else +1) \n",
    "\n",
    "\n",
    "    Calc['Var Comb Bull']   = Calc.loc[:, 'Var Sgn M5':'Var Sgn M60'].eq(+1).all(axis=1)\n",
    "    Calc['Var Comb Bear']   = Calc.loc[:, 'Var Sgn M5':'Var Sgn M60'].eq(-1).all(axis=1)\n",
    "\n",
    "    Calc['Rtn Comb Bull']   = Calc.loc[:, 'Rtn Sgn +M5':'Rtn Sgn +M60'].eq(+1).all(axis=1)\n",
    "    Calc['Rtn Comb Bear']   = Calc.loc[:, 'Rtn Sgn +M5':'Rtn Sgn +M60'].eq(-1).all(axis=1)\n",
    "    return Calc"
   ]
  }
 ],
 "metadata": {
  "kernelspec": {
   "display_name": "Python 3",
   "language": "python",
   "name": "python3"
  },
  "language_info": {
   "codemirror_mode": {
    "name": "ipython",
    "version": 3
   },
   "file_extension": ".py",
   "mimetype": "text/x-python",
   "name": "python",
   "nbconvert_exporter": "python",
   "pygments_lexer": "ipython3",
   "version": "3.13.3"
  }
 },
 "nbformat": 4,
 "nbformat_minor": 5
}
