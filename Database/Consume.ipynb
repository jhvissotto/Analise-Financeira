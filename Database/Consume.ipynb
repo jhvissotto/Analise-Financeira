{
 "cells": [
  {
   "cell_type": "code",
   "execution_count": null,
   "id": "76235d10",
   "metadata": {},
   "outputs": [],
   "source": [
    "import pandas as pd"
   ]
  },
  {
   "cell_type": "markdown",
   "id": "94b94714",
   "metadata": {},
   "source": [
    "# Load"
   ]
  },
  {
   "cell_type": "code",
   "execution_count": null,
   "metadata": {},
   "outputs": [],
   "source": [
    "Raw = pd.read_csv(f'Metatrader_WINN.csv')\n",
    "Raw.head()"
   ]
  },
  {
   "cell_type": "markdown",
   "id": "3d67c501",
   "metadata": {},
   "source": [
    "# Data"
   ]
  },
  {
   "cell_type": "code",
   "execution_count": null,
   "id": "efbbb562",
   "metadata": {},
   "outputs": [],
   "source": [
    "TFRAME = 'M15'"
   ]
  },
  {
   "cell_type": "code",
   "execution_count": null,
   "id": "2b5382e5",
   "metadata": {},
   "outputs": [],
   "source": [
    "def QUERY_SELECT(SYMBOLS, TFRAMES):\n",
    "    return Raw[Raw['symbol'].isin(SYMBOLS) & Raw['tf'].isin(TFRAMES)] .reset_index(drop=1)\n",
    "\n",
    "Query = QUERY_SELECT(SYMBOLS=['WIN$N'], TFRAMES=[TFRAME])\n",
    "Query.head()"
   ]
  },
  {
   "cell_type": "markdown",
   "id": "09a36468",
   "metadata": {},
   "source": [
    "# Save"
   ]
  },
  {
   "cell_type": "code",
   "execution_count": null,
   "id": "803035ae",
   "metadata": {},
   "outputs": [],
   "source": [
    "Query.to_csv(f'Metatrader_WINN_{TFRAME}.csv', index=False)"
   ]
  },
  {
   "cell_type": "markdown",
   "id": "3c2fdbe8",
   "metadata": {},
   "source": [
    "# Inspect"
   ]
  },
  {
   "cell_type": "code",
   "execution_count": null,
   "id": "7a03f3a1",
   "metadata": {},
   "outputs": [],
   "source": [
    "pd.read_csv(f'Metatrader_WINN_{TFRAME}.csv')"
   ]
  }
 ],
 "metadata": {
  "kernelspec": {
   "display_name": "Python 3",
   "language": "python",
   "name": "python3"
  },
  "language_info": {
   "codemirror_mode": {
    "name": "ipython",
    "version": 3
   },
   "file_extension": ".py",
   "mimetype": "text/x-python",
   "name": "python",
   "nbconvert_exporter": "python",
   "pygments_lexer": "ipython3",
   "version": "3.13.3"
  }
 },
 "nbformat": 4,
 "nbformat_minor": 5
}
