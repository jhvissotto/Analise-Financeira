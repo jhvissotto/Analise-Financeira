{
 "cells": [
  {
   "cell_type": "code",
   "execution_count": null,
   "id": "e7080563",
   "metadata": {},
   "outputs": [],
   "source": [
    "import warnings, os\n",
    "import datetime as dt\n",
    "import itertools as it\n",
    "from numpy import nan, inf\n",
    "import numpy as np\n",
    "import pandas as pd\n",
    "import matplotlib as mpl\n",
    "import matplotlib.pyplot as plt\n",
    "import seaborn as sns\n",
    "\n",
    "warnings.filterwarnings('ignore')\n",
    "pd.set_option('display.width',       None)\n",
    "pd.set_option('display.max_columns', None)"
   ]
  },
  {
   "cell_type": "markdown",
   "id": "947f9e19",
   "metadata": {},
   "source": [
    "# Data"
   ]
  },
  {
   "cell_type": "code",
   "execution_count": null,
   "id": "1972eeeb",
   "metadata": {},
   "outputs": [],
   "source": [
    "Raw = pd.read_csv('Storage/Raw.csv', parse_dates=['datetime'])\n",
    "Raw.head()"
   ]
  },
  {
   "cell_type": "code",
   "execution_count": null,
   "id": "9c9fb296",
   "metadata": {},
   "outputs": [],
   "source": [
    "def QUERY_SELECT(Raw, SYMBOLS, TFRAMES):\n",
    "    return Raw[Raw['symbol'].isin(SYMBOLS) & Raw['tf'].isin(TFRAMES)] .reset_index(drop=1)\n",
    "\n",
    "Query = QUERY_SELECT(Raw, SYMBOLS=['WIN$'], TFRAMES=['D1'])\n",
    "Query.head()"
   ]
  },
  {
   "cell_type": "code",
   "execution_count": null,
   "id": "eb3a4de9",
   "metadata": {},
   "outputs": [],
   "source": [
    "def FORMAT_SOURCE(Query):\n",
    "    Src = pd.DataFrame()\n",
    "    Src['A']        = Query['a']\n",
    "    Src['Z']        = Query['z']\n",
    "    Src['Symbol']   = Query['symbol']\n",
    "    Src['TF']       = Query['tf']\n",
    "    \n",
    "    Src['Datetime'] = Query['datetime']\n",
    "    Src['Date']     = Query['datetime'].dt.date\n",
    "    Src['Time']     = Query['datetime'].dt.time\n",
    "    \n",
    "    Src['Ticks']    = Query['tick_volume']\n",
    "    Src['Volume']   = Query['real_volume']\n",
    "    Src['Price']    = Query['close']\n",
    "    \n",
    "    Src['Open']     = Query['open']\n",
    "    Src['High']     = Query['high']\n",
    "    Src['Low']      = Query['low']\n",
    "    Src['Close']    = Query['close']\n",
    "\n",
    "    Src['Change']   = Src['Close'] - Src['Open']\n",
    "    Src['HL']       = Src['High']  - Src['Low']\n",
    "    return Src \n",
    "\n",
    "Src = FORMAT_SOURCE(Query)\n",
    "Src.head()"
   ]
  },
  {
   "cell_type": "code",
   "execution_count": null,
   "id": "aed6a664",
   "metadata": {},
   "outputs": [],
   "source": [
    "def CALCULATIONS(Src):\n",
    "\n",
    "    def _toint(x):\n",
    "        try:    return int(x)\n",
    "        except: return x\n",
    "\n",
    "    Calc = pd.DataFrame()\n",
    "    Calc['Symbol']  = Src['Symbol']\n",
    "    Calc['TF']      = Src['TF']\n",
    "\n",
    "    WINS = [0, 100, 200, 300, 500, 800, 1000, 1200, 1500, 1800, 2000, 2200, 2500, 2800, 3000, 3200, 3500, 3800, 4000, 4200, 4500, 4800, 5000, inf]\n",
    "    for (a,b) in [x for x in pd.Series(WINS).rolling(2) if (len(x) == 2)]:\n",
    "        Calc[f'Chg Abs {_toint(a)}-{_toint(b)}'] = Src.groupby(['Symbol','TF'], sort=0)['Change'].expanding().apply(lambda X: ((a <= X.abs()) & (X.abs() < b)).sum() / X.count() *100)  .reset_index(drop=1)\n",
    "\n",
    "    return Calc\n",
    "\n",
    "Calc = CALCULATIONS(Src)\n",
    "Calc.head()"
   ]
  },
  {
   "cell_type": "markdown",
   "id": "c99b7ff7",
   "metadata": {},
   "source": [
    "# Stats"
   ]
  },
  {
   "cell_type": "code",
   "execution_count": null,
   "id": "f36a5c8b",
   "metadata": {},
   "outputs": [
    {
     "data": {
      "text/plain": [
       "Symbol                WIN$\n",
       "TF                      D1\n",
       "Chg Abs 0-100          4.9\n",
       "Chg Abs 100-200       5.54\n",
       "Chg Abs 200-300       4.26\n",
       "Chg Abs 300-500       9.96\n",
       "Chg Abs 500-800      12.69\n",
       "Chg Abs 800-1000     10.68\n",
       "Chg Abs 1000-1200     7.31\n",
       "Chg Abs 1200-1500     10.2\n",
       "Chg Abs 1500-1800     8.35\n",
       "Chg Abs 1800-2000     4.42\n",
       "Chg Abs 2000-2200     3.29\n",
       "Chg Abs 2200-2500     4.74\n",
       "Chg Abs 2500-2800     3.61\n",
       "Chg Abs 2800-3000     1.29\n",
       "Chg Abs 3000-3200     1.85\n",
       "Chg Abs 3200-3500     2.09\n",
       "Chg Abs 3500-3800     1.61\n",
       "Chg Abs 3800-4000     0.48\n",
       "Chg Abs 4000-4200     0.72\n",
       "Chg Abs 4200-4500     0.56\n",
       "Chg Abs 4500-4800      0.4\n",
       "Chg Abs 4800-5000     0.24\n",
       "Chg Abs 5000-inf       0.8\n",
       "dtype: object"
      ]
     },
     "execution_count": 38,
     "metadata": {},
     "output_type": "execute_result"
    }
   ],
   "source": [
    "pd.Series(Calc.groupby(['Symbol','TF'], sort=0).tail(1).round(2).to_dict('records')[0])"
   ]
  }
 ],
 "metadata": {
  "kernelspec": {
   "display_name": "Python 3",
   "language": "python",
   "name": "python3"
  },
  "language_info": {
   "codemirror_mode": {
    "name": "ipython",
    "version": 3
   },
   "file_extension": ".py",
   "mimetype": "text/x-python",
   "name": "python",
   "nbconvert_exporter": "python",
   "pygments_lexer": "ipython3",
   "version": "3.13.3"
  }
 },
 "nbformat": 4,
 "nbformat_minor": 5
}
