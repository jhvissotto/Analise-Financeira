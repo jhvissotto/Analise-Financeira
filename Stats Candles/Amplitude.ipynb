{
 "cells": [
  {
   "cell_type": "code",
   "execution_count": null,
   "id": "e7080563",
   "metadata": {},
   "outputs": [],
   "source": [
    "import warnings, os\n",
    "import datetime as dt\n",
    "import itertools as it\n",
    "from numpy import nan\n",
    "import numpy as np\n",
    "import pandas as pd\n",
    "import matplotlib as mpl\n",
    "import matplotlib.pyplot as plt\n",
    "import seaborn as sns\n",
    "\n",
    "warnings.filterwarnings('ignore')\n",
    "pd.set_option('display.width',       None)\n",
    "pd.set_option('display.max_columns', None)"
   ]
  },
  {
   "cell_type": "markdown",
   "id": "947f9e19",
   "metadata": {},
   "source": [
    "# Load"
   ]
  },
  {
   "cell_type": "code",
   "execution_count": null,
   "id": "1972eeeb",
   "metadata": {},
   "outputs": [],
   "source": [
    "Raw = pd.read_csv('Storage/Raw.csv', parse_dates=['datetime'])\n",
    "Raw.head()"
   ]
  },
  {
   "cell_type": "code",
   "execution_count": null,
   "id": "eb3a4de9",
   "metadata": {},
   "outputs": [],
   "source": [
    "def FORMAT_SOURCE(Raw):\n",
    "    Src = pd.DataFrame()\n",
    "    Src['A']        = Raw['a']\n",
    "    Src['Z']        = Raw['z']\n",
    "    Src['Symbol']   = Raw['symbol']\n",
    "    Src['TF']       = Raw['tf']\n",
    "    \n",
    "    Src['Datetime'] = Raw['datetime']\n",
    "    Src['Date']     = Raw['datetime'].dt.date\n",
    "    Src['Time']     = Raw['datetime'].dt.time\n",
    "    \n",
    "    Src['Ticks']    = Raw['tick_volume']\n",
    "    Src['Volume']   = Raw['real_volume']\n",
    "    Src['Price']    = Raw['close']\n",
    "    \n",
    "    Src['Open']     = Raw['open']\n",
    "    Src['High']     = Raw['high']\n",
    "    Src['Low']      = Raw['low']\n",
    "    Src['Close']    = Raw['close']\n",
    "\n",
    "    Src['Change']   = Src['Close'] - Src['Open']\n",
    "    Src['HL']       = Src['High']  - Src['Low']\n",
    "    return Src \n",
    "\n",
    "Src = FORMAT_SOURCE(Raw)\n",
    "Src.head()"
   ]
  },
  {
   "cell_type": "code",
   "execution_count": null,
   "id": "2f2e0d8d",
   "metadata": {},
   "outputs": [],
   "source": [
    "Src.groupby(['Symbol','TF'],sort=0)[['Datetime']].first()"
   ]
  },
  {
   "cell_type": "code",
   "execution_count": null,
   "id": "372010ea",
   "metadata": {},
   "outputs": [],
   "source": [
    "def CALCULATIONS(Src):\n",
    "    Calc = pd.DataFrame(Src)\n",
    "    Calc['Change Abs'] = Src['Change'].abs()\n",
    "    Calc['Change Pos'] = Src['Change'].apply(lambda x: x if (x >= 0) else nan)\n",
    "    Calc['Change Neg'] = Src['Change'].apply(lambda x: x if (x <  0) else nan)\n",
    "    return Calc\n",
    "\n",
    "Calc = CALCULATIONS(Src)\n",
    "Calc.head()"
   ]
  },
  {
   "cell_type": "markdown",
   "id": "9d23a18a",
   "metadata": {},
   "source": [
    "# Stats"
   ]
  },
  {
   "cell_type": "code",
   "execution_count": null,
   "id": "a35df6b1",
   "metadata": {},
   "outputs": [],
   "source": [
    "Calc.groupby(['Symbol','TF'], sort=0)[['Change']].describe().round(0).astype(int)"
   ]
  },
  {
   "cell_type": "code",
   "execution_count": null,
   "id": "2aa1ada2",
   "metadata": {},
   "outputs": [],
   "source": [
    "Calc.groupby(['Symbol','TF'], sort=0)[['Change Abs']].describe().round(0).astype(int)"
   ]
  },
  {
   "cell_type": "code",
   "execution_count": null,
   "id": "f744e22b",
   "metadata": {},
   "outputs": [],
   "source": [
    "Calc.groupby(['Symbol','TF'], sort=0)[['Change Pos']].describe().round(0).astype(int)"
   ]
  },
  {
   "cell_type": "code",
   "execution_count": null,
   "id": "ad3e76ea",
   "metadata": {},
   "outputs": [],
   "source": [
    "Calc.groupby(['Symbol','TF'], sort=0)[['Change Neg']].describe().round(0).astype(int)"
   ]
  },
  {
   "cell_type": "code",
   "execution_count": null,
   "id": "e97f00eb",
   "metadata": {},
   "outputs": [],
   "source": [
    "Calc.groupby(['Symbol','TF'], sort=0)[['HL']].describe().round(0).astype(int)"
   ]
  },
  {
   "cell_type": "code",
   "execution_count": null,
   "id": "7b94c6e2",
   "metadata": {},
   "outputs": [],
   "source": [
    "raise Exception('STOP')"
   ]
  },
  {
   "cell_type": "markdown",
   "id": "b4832c1f",
   "metadata": {},
   "source": [
    "# Chart"
   ]
  },
  {
   "cell_type": "code",
   "execution_count": null,
   "id": "b13a086c",
   "metadata": {},
   "outputs": [],
   "source": [
    "for SYMBOL, Asset in Src.groupby('Symbol', sort=0):\n",
    "\n",
    "    plt.title(f'{SYMBOL} - Candle Size Distribuition', fontweight='bold')\n",
    "\n",
    "    for TF, Data in Asset.groupby('TF', sort=0): \n",
    "        # sns.kdeplot(Data['Change'], label=TF)\n",
    "        # sns.histplot(Data['Change'], label=TF, stat='count', bins=100, element='step', fill=False)\n",
    "        plt.hist(Data['Change'], bins=100, label=TF, histtype='step')\n",
    "\n",
    "\n",
    "    plt.ylabel('Frequency')\n",
    "    plt.xlabel('Candle Size')\n",
    "\n",
    "    plt.yscale('log', base=10)\n",
    "    plt.gca().yaxis.set_major_formatter(mpl.ticker.ScalarFormatter())\n",
    "\n",
    "    plt.legend()\n",
    "    plt.tight_layout()\n",
    "    plt.show()"
   ]
  }
 ],
 "metadata": {
  "kernelspec": {
   "display_name": "Python 3",
   "language": "python",
   "name": "python3"
  },
  "language_info": {
   "codemirror_mode": {
    "name": "ipython",
    "version": 3
   },
   "file_extension": ".py",
   "mimetype": "text/x-python",
   "name": "python",
   "nbconvert_exporter": "python",
   "pygments_lexer": "ipython3",
   "version": "3.13.3"
  }
 },
 "nbformat": 4,
 "nbformat_minor": 5
}
