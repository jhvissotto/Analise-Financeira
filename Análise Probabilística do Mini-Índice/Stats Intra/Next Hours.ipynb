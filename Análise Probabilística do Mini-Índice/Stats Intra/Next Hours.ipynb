{
 "cells": [
  {
   "cell_type": "code",
   "execution_count": null,
   "id": "e7080563",
   "metadata": {},
   "outputs": [],
   "source": [
    "import warnings\n",
    "import datetime as dt\n",
    "import itertools as it\n",
    "from numpy import nan\n",
    "import numpy as np\n",
    "import pandas as pd\n",
    "\n",
    "warnings.filterwarnings('ignore')\n",
    "pd.set_option('display.width',       None)\n",
    "pd.set_option('display.max_columns', None)"
   ]
  },
  {
   "cell_type": "markdown",
   "id": "947f9e19",
   "metadata": {},
   "source": [
    "# Load"
   ]
  },
  {
   "cell_type": "code",
   "execution_count": null,
   "id": "7db3b66c",
   "metadata": {},
   "outputs": [],
   "source": [
    "Raw = pd.read_csv('Storage/Metatrader_WINN.csv', parse_dates=['datetime'])\n",
    "Raw.head()"
   ]
  },
  {
   "cell_type": "code",
   "execution_count": null,
   "id": "ae0ec925",
   "metadata": {},
   "outputs": [],
   "source": [
    "def QUERY_SELECT(Raw, SYMBOLS, TFRAMES):\n",
    "    return Raw[Raw['symbol'].isin(SYMBOLS) & Raw['tf'].isin(TFRAMES)] .reset_index(drop=1)\n",
    "\n",
    "Query = QUERY_SELECT(Raw, SYMBOLS=['WIN$N'], TFRAMES=['H1'])\n",
    "Query.head()"
   ]
  },
  {
   "cell_type": "markdown",
   "id": "ca884b94",
   "metadata": {},
   "source": [
    "# Data"
   ]
  },
  {
   "cell_type": "code",
   "execution_count": null,
   "id": "fea02097",
   "metadata": {},
   "outputs": [],
   "source": [
    "def FORMAT_SOURCE(Query):\n",
    "    Src = pd.DataFrame()\n",
    "    Src[['A','Z']]                      = Query[['a','z']]\n",
    "    Src[['Symbol','TF']]                = Query[['symbol','tf']]\n",
    "    \n",
    "    Src['Datetime']                     = Query['datetime']\n",
    "    Src['Date']                         = Query['datetime'].dt.date\n",
    "    Src['Time']                         = Query['datetime'].dt.time\n",
    "\n",
    "    Src[['Ticks','Volume']]             = Query[['tick_volume','real_volume']]\n",
    "    Src[['Open','High','Low','Close']]  = Query[['open','high','low','close']]\n",
    "    Src[['Price']]                      = Query[['close']]\n",
    "\n",
    "    Src['Change']   = (Src['Close'] - Src['Open'])\n",
    "    Src['Hilo']     = (Src['High']  - Src['Low'])\n",
    "    return Src \n",
    "\n",
    "Src = FORMAT_SOURCE(Query)\n",
    "Src.head()"
   ]
  },
  {
   "cell_type": "code",
   "execution_count": null,
   "id": "3141f75d",
   "metadata": {},
   "outputs": [],
   "source": [
    "def CALCULATIONS(Src):\n",
    "    Calc = pd.DataFrame(Src)\n",
    "    Calc['T'] = (-1) * Calc.groupby('Date', sort=0)['Time'].rank(ascending=False)\n",
    "\n",
    "    Calc[f'Change Pos'] = (Calc['Change'] >= 0)\n",
    "    Calc[f'Change Neg'] = (Calc['Change'] <  0)\n",
    "\n",
    "    FUTS = [1, 2]\n",
    "    for x in FUTS:  Calc[f'Change +{x}']     =  Calc.groupby('Date', sort=0)[f'Change'].shift(-x)\n",
    "    for x in FUTS:  Calc[f'Change +{x} Pos'] = (Calc[f'Change +{x}'] >= 0)\n",
    "    for x in FUTS:  Calc[f'Change +{x} Neg'] = (Calc[f'Change +{x}'] <  0)\n",
    "    return Calc\n",
    "\n",
    "Calc = CALCULATIONS(Src)\n",
    "Calc.head()"
   ]
  },
  {
   "cell_type": "markdown",
   "id": "8a16fd68",
   "metadata": {},
   "source": [
    "# Stats"
   ]
  },
  {
   "cell_type": "code",
   "execution_count": 16,
   "id": "4208a096",
   "metadata": {},
   "outputs": [
    {
     "data": {
      "text/html": [
       "<div>\n",
       "<style scoped>\n",
       "    .dataframe tbody tr th:only-of-type {\n",
       "        vertical-align: middle;\n",
       "    }\n",
       "\n",
       "    .dataframe tbody tr th {\n",
       "        vertical-align: top;\n",
       "    }\n",
       "\n",
       "    .dataframe thead th {\n",
       "        text-align: right;\n",
       "    }\n",
       "</style>\n",
       "<table border=\"1\" class=\"dataframe\">\n",
       "  <thead>\n",
       "    <tr style=\"text-align: right;\">\n",
       "      <th></th>\n",
       "      <th>Condition</th>\n",
       "      <th>Change +1 Pos</th>\n",
       "      <th>Change +1 Neg</th>\n",
       "    </tr>\n",
       "  </thead>\n",
       "  <tbody>\n",
       "    <tr>\n",
       "      <th>0</th>\n",
       "      <td>Change Pos</td>\n",
       "      <td>50.4</td>\n",
       "      <td>49.6</td>\n",
       "    </tr>\n",
       "    <tr>\n",
       "      <th>1</th>\n",
       "      <td>Change Neg</td>\n",
       "      <td>50.8</td>\n",
       "      <td>49.2</td>\n",
       "    </tr>\n",
       "  </tbody>\n",
       "</table>\n",
       "</div>"
      ],
      "text/plain": [
       "    Condition  Change +1 Pos  Change +1 Neg\n",
       "0  Change Pos           50.4           49.6\n",
       "1  Change Neg           50.8           49.2"
      ]
     },
     "execution_count": 16,
     "metadata": {},
     "output_type": "execute_result"
    }
   ],
   "source": [
    "pd.DataFrame([\n",
    "    { 'Condition':'Change Pos', **Calc[(Calc['T'] < (-1)) & Calc['Change Pos']][['Change +1 Pos','Change +1 Neg']].mean().mul(100).round(1) }, \n",
    "    { 'Condition':'Change Neg', **Calc[(Calc['T'] < (-1)) & Calc['Change Neg']][['Change +1 Pos','Change +1 Neg']].mean().mul(100).round(1) }, \n",
    "])"
   ]
  },
  {
   "cell_type": "markdown",
   "id": "88cb1c40",
   "metadata": {},
   "source": [
    "# Snippets"
   ]
  },
  {
   "cell_type": "code",
   "execution_count": null,
   "id": "2cb8e433",
   "metadata": {},
   "outputs": [],
   "source": [
    "def FORMAT_SOURCE(Query):\n",
    "    Src = pd.DataFrame()\n",
    "    Src['Change'] = (Src['Close'] - Src['Open'])\n",
    "    return Src \n",
    "\n",
    "\n",
    "def CALCULATIONS(Src):\n",
    "    Calc = pd.DataFrame(Src)\n",
    "    Calc['T'] = (-1) * Calc.groupby('Date', sort=0)['Time'].rank(ascending=False)\n",
    "\n",
    "    Calc[f'Change Pos'] = (Calc['Change'] >= 0)\n",
    "    Calc[f'Change Neg'] = (Calc['Change'] <  0)\n",
    "\n",
    "    FUTS = [1, 2]\n",
    "    for x in FUTS:  Calc[f'Change +{x}']     =  Calc.groupby('Date', sort=0)[f'Change'].shift(-x)\n",
    "    for x in FUTS:  Calc[f'Change +{x} Pos'] = (Calc[f'Change +{x}'] >= 0)\n",
    "    for x in FUTS:  Calc[f'Change +{x} Neg'] = (Calc[f'Change +{x}'] <  0)\n",
    "    return Calc\n",
    "\n",
    "\n",
    "pd.DataFrame([\n",
    "    { 'Condition':'Change Pos', **Calc[(Calc['T'] < (-1)) & Calc['Change Pos']][['Change +1 Pos','Change +1 Neg']].mean() }, \n",
    "    { 'Condition':'Change Neg', **Calc[(Calc['T'] < (-1)) & Calc['Change Neg']][['Change +1 Pos','Change +1 Neg']].mean() }, \n",
    "])"
   ]
  }
 ],
 "metadata": {
  "kernelspec": {
   "display_name": "Python 3",
   "language": "python",
   "name": "python3"
  },
  "language_info": {
   "codemirror_mode": {
    "name": "ipython",
    "version": 3
   },
   "file_extension": ".py",
   "mimetype": "text/x-python",
   "name": "python",
   "nbconvert_exporter": "python",
   "pygments_lexer": "ipython3",
   "version": "3.13.3"
  }
 },
 "nbformat": 4,
 "nbformat_minor": 5
}
