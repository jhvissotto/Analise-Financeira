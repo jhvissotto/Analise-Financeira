{
 "cells": [
  {
   "cell_type": "code",
   "execution_count": null,
   "id": "e7080563",
   "metadata": {},
   "outputs": [],
   "source": [
    "import warnings\n",
    "import datetime as dt\n",
    "import itertools as it\n",
    "from numpy import nan\n",
    "import numpy as np\n",
    "import pandas as pd\n",
    "\n",
    "warnings.filterwarnings('ignore')\n",
    "pd.set_option('display.width',       None)\n",
    "pd.set_option('display.max_columns', None)"
   ]
  },
  {
   "cell_type": "markdown",
   "id": "947f9e19",
   "metadata": {},
   "source": [
    "# Load"
   ]
  },
  {
   "cell_type": "code",
   "execution_count": null,
   "id": "7db3b66c",
   "metadata": {},
   "outputs": [],
   "source": [
    "Raw = pd.read_csv('Storage/Raw.csv', parse_dates=['datetime'])\n",
    "Raw.head()"
   ]
  },
  {
   "cell_type": "code",
   "execution_count": null,
   "id": "ae0ec925",
   "metadata": {},
   "outputs": [],
   "source": [
    "def QUERY_SELECT(Raw, SYMBOLS, TFRAMES):\n",
    "    return Raw[Raw['symbol'].isin(SYMBOLS) & Raw['tf'].isin(TFRAMES)] .reset_index(drop=1)\n",
    "\n",
    "Query = QUERY_SELECT(Raw, SYMBOLS=['WIN$'], TFRAMES=['H1'])\n",
    "Query.head()"
   ]
  },
  {
   "cell_type": "markdown",
   "id": "ca884b94",
   "metadata": {},
   "source": [
    "# Data"
   ]
  },
  {
   "cell_type": "code",
   "execution_count": null,
   "id": "fea02097",
   "metadata": {},
   "outputs": [],
   "source": [
    "def FORMAT_SOURCE(Query):\n",
    "    Src = pd.DataFrame()\n",
    "    Src[['A','Z']]                      = Query[['a','z']]\n",
    "    Src[['Symbol','TF']]                = Query[['symbol','tf']]\n",
    "    \n",
    "    Src['Datetime']                     = Query['datetime']\n",
    "    Src['Date']                         = Query['datetime'].dt.date\n",
    "    Src['Time']                         = Query['datetime'].dt.time\n",
    "\n",
    "    Src[['Ticks','Volume']]             = Query[['tick_volume','real_volume']]\n",
    "    Src[['Open','High','Low','Close']]  = Query[['open','high','low','close']]\n",
    "    Src[['Price']]                      = Query[['close']]\n",
    "\n",
    "    Src['Change']   = (Src['Close'] - Src['Open'])\n",
    "    Src['Hilo']     = (Src['High']  - Src['Low'])\n",
    "    return Src \n",
    "\n",
    "Src = FORMAT_SOURCE(Query)\n",
    "Src.head()"
   ]
  },
  {
   "cell_type": "code",
   "execution_count": null,
   "id": "3141f75d",
   "metadata": {},
   "outputs": [],
   "source": [
    "def CALCULATIONS(Src):\n",
    "    Calc = pd.DataFrame(Src)\n",
    "    Calc_by = Calc.groupby(['Date'], sort=0, group_keys=0)\n",
    "\n",
    "    # ================ Day Indicators ================ #\n",
    "    Calc['Day Open']    = Calc_by['Open'].transform('first')           .reset_index(drop=1)\n",
    "    Calc['Day High']    = Calc_by['High'].transform('max')             .reset_index(drop=1)\n",
    "    Calc['Day Low']     = Calc_by['Low'].transform('min')              .reset_index(drop=1)\n",
    "    Calc['Day Close']   = Calc_by['Close'].transform('last')           .reset_index(drop=1)\n",
    "\n",
    "    Calc['Day Hilo']    = Calc['Day High']  - Calc['Day Low']\n",
    "    Calc['Day Change']  = Calc['Day Close'] - Calc['Day Open']\n",
    "    Calc['Day Chg Abs'] = Calc['Day Chg'].abs()\n",
    "\n",
    "\n",
    "    # ================ Current Indicators ================ #\n",
    "    Calc['T']       = Calc.groupby('Date', sort=0)['Time'].rank()\n",
    "    \n",
    "    Calc['Chg Abs'] = Calc['Change'].abs()\n",
    "    Calc['Chg Avg'] = Calc['Chg Abs'].expanding().mean()\n",
    "\n",
    "\n",
    "    # ================ Current Signals ================ #\n",
    "    Calc['Change Pos']      = (Calc['Change']  >= 0)\n",
    "    Calc['Change Neg']      = (Calc['Change']  <  0)\n",
    "    Calc['Chg Abs > Avg']   = (Calc['Chg Abs'] >  Calc['Chg Avg'])\n",
    "\n",
    "    # ================ Forward Indicators ================ #\n",
    "    FUTS = [1, 2]\n",
    "    for x in FUTS:  Calc[f'Hilo +{x}']       =  Calc.groupby('Date', sort=0)[f'Hilo'].shift(-x)\n",
    "    for x in FUTS:  Calc[f'Change +{x}']     =  Calc.groupby('Date', sort=0)[f'Change'].shift(-x)\n",
    "    \n",
    "    # ================ Forward Signals ================ #\n",
    "    for x in FUTS:  Calc[f'Change +{x} Pos'] = (Calc[f'Change +{x}'] >= 0)\n",
    "    for x in FUTS:  Calc[f'Change +{x} Neg'] = (Calc[f'Change +{x}'] <  0)\n",
    "    return Calc\n",
    "\n",
    "Calc = CALCULATIONS(Src)\n",
    "Calc.head()"
   ]
  },
  {
   "cell_type": "markdown",
   "id": "aaecc0ec",
   "metadata": {},
   "source": [
    "# Stats"
   ]
  },
  {
   "cell_type": "code",
   "execution_count": null,
   "id": "c2ca82a7",
   "metadata": {},
   "outputs": [],
   "source": [
    "COND_BULL = (Calc['T']==1) & Calc['Chg Abs > Avg'] & Calc['Change Pos']\n",
    "COND_BEAR = (Calc['T']==1) & Calc['Chg Abs > Avg'] & Calc['Change Neg']"
   ]
  },
  {
   "cell_type": "code",
   "execution_count": null,
   "id": "7ef45dc7",
   "metadata": {},
   "outputs": [],
   "source": [
    "pd.DataFrame([\n",
    "    { 'Condition':'Change Pos', **Calc[COND_BULL][['Change +1 Pos','Change +1 Neg']].mean() }, \n",
    "    { 'Condition':'Change Neg', **Calc[COND_BEAR][['Change +1 Pos','Change +1 Neg']].mean() }, \n",
    "])"
   ]
  },
  {
   "cell_type": "code",
   "execution_count": null,
   "id": "01bb62c8",
   "metadata": {},
   "outputs": [],
   "source": [
    "pd.DataFrame([\n",
    "    { 'Condition':'Change Pos', **Calc[COND_BULL]['Change +1'].describe().T },\n",
    "    { 'Condition':'Change Neg', **Calc[COND_BEAR]['Change +1'].describe().T },\n",
    "])"
   ]
  },
  {
   "cell_type": "code",
   "execution_count": null,
   "id": "5a0a44b5",
   "metadata": {},
   "outputs": [],
   "source": [
    "pd.DataFrame([\n",
    "    { 'Condition':'Change Pos', **Calc[COND_BULL]['Hilo +1'].describe().T },\n",
    "    { 'Condition':'Change Neg', **Calc[COND_BEAR]['Hilo +1'].describe().T },\n",
    "])"
   ]
  },
  {
   "cell_type": "markdown",
   "id": "88cb1c40",
   "metadata": {},
   "source": [
    "# Snippets"
   ]
  },
  {
   "cell_type": "code",
   "execution_count": null,
   "id": "d9a00852",
   "metadata": {},
   "outputs": [],
   "source": [
    "def CALCULATIONS(Src):\n",
    "    Calc = pd.DataFrame(Src)\n",
    "    Calc['T'] = Calc.groupby('Date', sort=0)['Time'].rank()\n",
    "\n",
    "    # ================ Current Indicators ================ #\n",
    "    Calc['Change']  = (Calc['Close'] - Calc['Open'])\n",
    "    Calc['Hilo']    = (Calc['High']  - Calc['Low'])\n",
    "\n",
    "    Calc['Chg Abs'] = Calc['Change'].abs()\n",
    "    Calc['Chg Avg'] = Calc['Chg Abs'].expanding().mean()\n",
    "\n",
    "    # ================ Current Signals ================ #\n",
    "    Calc['Change Pos']      = (Calc['Change']  >= 0)\n",
    "    Calc['Change Neg']      = (Calc['Change']  <  0)\n",
    "    Calc['Chg Abs > Avg']   = (Calc['Chg Abs'] >  Calc['Chg Avg'])\n",
    "\n",
    "    # ================ Forward Indicators ================ #\n",
    "    FUTS = [1, 2]\n",
    "    for x in FUTS:  Calc[f'Hilo +{x}']       =  Calc.groupby('Date', sort=0)[f'Hilo'].shift(-x)\n",
    "    for x in FUTS:  Calc[f'Change +{x}']     =  Calc.groupby('Date', sort=0)[f'Change'].shift(-x)\n",
    "    \n",
    "    # ================ Forward Signals ================ #\n",
    "    for x in FUTS:  Calc[f'Change +{x} Pos'] = (Calc[f'Change +{x}'] >= 0)\n",
    "    for x in FUTS:  Calc[f'Change +{x} Neg'] = (Calc[f'Change +{x}'] <  0)\n",
    "    return Calc"
   ]
  },
  {
   "cell_type": "code",
   "execution_count": null,
   "id": "0d362070",
   "metadata": {},
   "outputs": [],
   "source": [
    "COND_BULL = (Calc['T']==1) & Calc['Chg Abs > Avg'] & Calc['Change Pos']\n",
    "COND_BEAR = (Calc['T']==1) & Calc['Chg Abs > Avg'] & Calc['Change Neg']\n",
    "\n",
    "pd.DataFrame([\n",
    "    { 'Condition':'Change Pos', **Calc[COND_BULL][['Change +1 Pos','Change +1 Neg']].mean() }, \n",
    "    { 'Condition':'Change Neg', **Calc[COND_BEAR][['Change +1 Pos','Change +1 Neg']].mean() }, \n",
    "])\n",
    "\n",
    "pd.DataFrame([\n",
    "    { 'Condition':'Change Pos', **Calc[COND_BULL]['Change +1'].describe().T },\n",
    "    { 'Condition':'Change Neg', **Calc[COND_BEAR]['Change +1'].describe().T },\n",
    "])\n",
    "\n",
    "pd.DataFrame([\n",
    "    { 'Condition':'Change Pos', **Calc[COND_BULL]['Hilo +1'].describe().T },\n",
    "    { 'Condition':'Change Neg', **Calc[COND_BEAR]['Hilo +1'].describe().T },\n",
    "])"
   ]
  }
 ],
 "metadata": {
  "kernelspec": {
   "display_name": "Python 3",
   "language": "python",
   "name": "python3"
  },
  "language_info": {
   "codemirror_mode": {
    "name": "ipython",
    "version": 3
   },
   "file_extension": ".py",
   "mimetype": "text/x-python",
   "name": "python",
   "nbconvert_exporter": "python",
   "pygments_lexer": "ipython3",
   "version": "3.13.3"
  }
 },
 "nbformat": 4,
 "nbformat_minor": 5
}
