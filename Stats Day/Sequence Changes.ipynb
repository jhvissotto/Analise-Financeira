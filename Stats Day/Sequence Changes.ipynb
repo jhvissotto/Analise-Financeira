{
 "cells": [
  {
   "cell_type": "code",
   "execution_count": null,
   "id": "e7080563",
   "metadata": {},
   "outputs": [],
   "source": [
    "import warnings, os\n",
    "import datetime as dt\n",
    "import itertools as it\n",
    "from numpy import nan, inf\n",
    "import numpy as np\n",
    "import pandas as pd\n",
    "import matplotlib.pyplot as plt\n",
    "\n",
    "warnings.filterwarnings('ignore')\n",
    "pd.set_option('display.width',       None)\n",
    "pd.set_option('display.max_columns', None)"
   ]
  },
  {
   "cell_type": "markdown",
   "id": "947f9e19",
   "metadata": {},
   "source": [
    "# Load"
   ]
  },
  {
   "cell_type": "code",
   "execution_count": null,
   "id": "1972eeeb",
   "metadata": {},
   "outputs": [],
   "source": [
    "Raw = pd.read_csv('Storage/Raw.csv', parse_dates=['datetime'])\n",
    "Raw.head()"
   ]
  },
  {
   "cell_type": "code",
   "execution_count": null,
   "id": "8d67df41",
   "metadata": {},
   "outputs": [],
   "source": [
    "def QUERY_SELECT(Raw, SYMBOLS, TFRAMES):\n",
    "    return Raw[Raw['symbol'].isin(SYMBOLS) & Raw['tf'].isin(TFRAMES)] .reset_index(drop=1)\n",
    "\n",
    "Query = QUERY_SELECT(Raw, SYMBOLS=['WIN$'], TFRAMES=['D1'])\n",
    "Query.head()"
   ]
  },
  {
   "cell_type": "markdown",
   "id": "34e15110",
   "metadata": {},
   "source": [
    "# Data"
   ]
  },
  {
   "cell_type": "code",
   "execution_count": null,
   "id": "eb3a4de9",
   "metadata": {},
   "outputs": [],
   "source": [
    "def FORMAT_SOURCE(Query):\n",
    "    Src = pd.DataFrame()\n",
    "    Src[['A','Z']]                      = Query[['a','z']]\n",
    "    Src[['Symbol','TF']]                = Query[['symbol','tf']]\n",
    "    Src['Datetime']                     = Query['datetime']\n",
    "    Src[['Ticks','Volume']]             = Query[['tick_volume','real_volume']]\n",
    "    Src[['Open','High','Low','Close']]  = Query[['open','high','low','close']]\n",
    "    Src[['Price']]                      = Query[['close']]\n",
    "\n",
    "    Src['Change']   = (Src['Close'] - Src['Open'])\n",
    "    Src['Hilo']     = (Src['High']  - Src['Low'])\n",
    "    return Src \n",
    "\n",
    "Src = FORMAT_SOURCE(Query)\n",
    "Src.head()"
   ]
  },
  {
   "cell_type": "code",
   "execution_count": null,
   "id": "07ec9fab",
   "metadata": {},
   "outputs": [],
   "source": [
    "BINS = [100,200,500,800,1000,1200,1500,1800,2000,2200,2500,2800,3000,3200,3500,3800,4000,4200,4500,4800,5000,5500,6000,6500,7000,7500,8000]"
   ]
  },
  {
   "cell_type": "code",
   "execution_count": null,
   "id": "91c86f47",
   "metadata": {},
   "outputs": [],
   "source": [
    "def CALCULATIONS(Src):\n",
    "    Calc = pd.DataFrame(Src)\n",
    "    Calc['Chg Abs'] = Calc['Change'].abs()\n",
    "\n",
    "    for b in BINS:  Calc[f'Chg Abs > {b}']      = (Calc[f'Chg Abs'] > b).astype(int)\n",
    "    for b in BINS:  Calc[f'Hilo > {b}']         = (Calc[f'Hilo']    > b).astype(int)\n",
    "    \n",
    "    for b in BINS:  Calc[f'Chg Abs > {b} +{1}'] =  Calc[f'Chg Abs > {b}'].shift(-1)\n",
    "    for b in BINS:  Calc[f'Chg Abs > {b} +{2}'] =  Calc[f'Chg Abs > {b}'].shift(-2)\n",
    "    for b in BINS:  Calc[f'Chg Abs > {b} +{3}'] =  Calc[f'Chg Abs > {b}'].shift(-3)\n",
    "\n",
    "    for b in BINS:  Calc[f'Hilo > {b} +{1}']    =  Calc[f'Hilo > {b}'].shift(-1)\n",
    "    for b in BINS:  Calc[f'Hilo > {b} +{2}']    =  Calc[f'Hilo > {b}'].shift(-2)\n",
    "    for b in BINS:  Calc[f'Hilo > {b} +{3}']    =  Calc[f'Hilo > {b}'].shift(-3)\n",
    "    return Calc\n",
    "\n",
    "Calc = CALCULATIONS(Src)\n",
    "Calc.head()"
   ]
  },
  {
   "cell_type": "markdown",
   "id": "ae8e8305",
   "metadata": {},
   "source": [
    "# Stats"
   ]
  },
  {
   "cell_type": "code",
   "execution_count": null,
   "id": "a1ab1465",
   "metadata": {},
   "outputs": [],
   "source": [
    "def STATS(Calc, Col):\n",
    "    pipe = []\n",
    "    for b in BINS:\n",
    "        Df = Calc[Calc[f'{Col} > {b}']==1] #.reset_index(drop=1)\n",
    "        pipe.append({ \n",
    "            f'{Col} > D0':  b,\n",
    "            f'{Col} > D+1': np.round(Df[f'{Col} > {b} +{1}'].mean() *100, 1), \n",
    "            f'{Col} > D+2': np.round(Df[f'{Col} > {b} +{2}'].mean() *100, 1), \n",
    "            f'{Col} > D+3': np.round(Df[f'{Col} > {b} +{3}'].mean() *100, 1), \n",
    "        })\n",
    "    pass\n",
    "    return pd.DataFrame(pipe)"
   ]
  },
  {
   "cell_type": "code",
   "execution_count": null,
   "id": "cc4fc61a",
   "metadata": {},
   "outputs": [],
   "source": [
    "STATS(Calc, Col='Chg Abs')"
   ]
  },
  {
   "cell_type": "code",
   "execution_count": null,
   "id": "13a3c87a",
   "metadata": {},
   "outputs": [],
   "source": [
    "STATS(Calc, Col='Hilo')"
   ]
  },
  {
   "cell_type": "markdown",
   "id": "9d1fbc96",
   "metadata": {},
   "source": [
    "# Snippets"
   ]
  },
  {
   "cell_type": "code",
   "execution_count": null,
   "id": "7ec21ee0",
   "metadata": {},
   "outputs": [],
   "source": [
    "def CALCULATIONS(Src):\n",
    "    Calc = pd.DataFrame(Src)\n",
    "    Calc['Chg Abs'] = Calc['Change'].abs()\n",
    "\n",
    "    for b in BINS:  Calc[f'Chg Abs > {b}']      = (Calc[f'Chg Abs'] > b).astype(int)\n",
    "    for b in BINS:  Calc[f'Hilo > {b}']         = (Calc[f'Hilo']    > b).astype(int)\n",
    "    \n",
    "    for b in BINS:  Calc[f'Chg Abs > {b} +{1}'] =  Calc[f'Chg Abs > {b}'].shift(-1)\n",
    "    for b in BINS:  Calc[f'Chg Abs > {b} +{2}'] =  Calc[f'Chg Abs > {b}'].shift(-2)\n",
    "    for b in BINS:  Calc[f'Chg Abs > {b} +{3}'] =  Calc[f'Chg Abs > {b}'].shift(-3)\n",
    "\n",
    "    for b in BINS:  Calc[f'Hilo > {b} +{1}']    =  Calc[f'Hilo > {b}'].shift(-1)\n",
    "    for b in BINS:  Calc[f'Hilo > {b} +{2}']    =  Calc[f'Hilo > {b}'].shift(-2)\n",
    "    for b in BINS:  Calc[f'Hilo > {b} +{3}']    =  Calc[f'Hilo > {b}'].shift(-3)\n",
    "    return Calc\n",
    "\n",
    "\n",
    "def STATS(Calc, Col):\n",
    "    pipe = []\n",
    "    for b in BINS:\n",
    "        Df = Calc[Calc[f'{Col} > {b}']==1] \n",
    "        pipe.append({ \n",
    "            f'{Col} > D0':  b,\n",
    "            f'{Col} > D+1': np.round(Df[f'{Col} > {b} +{1}'].mean() *100, 1), \n",
    "            f'{Col} > D+2': np.round(Df[f'{Col} > {b} +{2}'].mean() *100, 1), \n",
    "            f'{Col} > D+3': np.round(Df[f'{Col} > {b} +{3}'].mean() *100, 1), \n",
    "        })\n",
    "    pass\n",
    "    return pd.DataFrame(pipe)\n",
    "\n",
    "\n",
    "STATS(Calc, Col='Hilo')\n",
    "STATS(Calc, Col='Chg Abs')"
   ]
  }
 ],
 "metadata": {
  "kernelspec": {
   "display_name": "Python 3",
   "language": "python",
   "name": "python3"
  },
  "language_info": {
   "codemirror_mode": {
    "name": "ipython",
    "version": 3
   },
   "file_extension": ".py",
   "mimetype": "text/x-python",
   "name": "python",
   "nbconvert_exporter": "python",
   "pygments_lexer": "ipython3",
   "version": "3.13.3"
  }
 },
 "nbformat": 4,
 "nbformat_minor": 5
}
