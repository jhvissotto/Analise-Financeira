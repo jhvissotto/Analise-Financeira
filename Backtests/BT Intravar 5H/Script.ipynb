{
 "cells": [
  {
   "cell_type": "code",
   "execution_count": null,
   "id": "e7080563",
   "metadata": {},
   "outputs": [],
   "source": [
    "import warnings, os\n",
    "import datetime as dt\n",
    "import itertools as it\n",
    "import numpy as np\n",
    "import pandas as pd\n",
    "\n",
    "warnings.filterwarnings('ignore')\n",
    "pd.set_option('display.width',       None)\n",
    "pd.set_option('display.max_columns', None)"
   ]
  },
  {
   "cell_type": "code",
   "execution_count": null,
   "id": "dce40b6e",
   "metadata": {},
   "outputs": [],
   "source": [
    "import MetaTrader5 as mt5\n",
    "from vectorbt.portfolio import Portfolio as vbt_Portfolio"
   ]
  },
  {
   "cell_type": "markdown",
   "id": "35ff573d",
   "metadata": {},
   "source": [
    "# Connection"
   ]
  },
  {
   "cell_type": "code",
   "execution_count": null,
   "metadata": {},
   "outputs": [],
   "source": [
    "RICO_REAL   = { 'login':16331371,   'password':'#000000Zz', 'server':'Rico-PRD'                 }\n",
    "CLEAR_REAL  = { 'login':1018156111, 'password':'#000000Zz', 'server':'ClearInvestimentos-CLEAR' }\n",
    "\n",
    "PATH_7 = r'C:\\Program Files\\MetaTrader 5 _7\\terminal64.exe'\n",
    "\n",
    "assert mt5.initialize(PATH_7, **CLEAR_REAL)"
   ]
  },
  {
   "cell_type": "markdown",
   "id": "7b398591",
   "metadata": {},
   "source": [
    "# Variables"
   ]
  },
  {
   "cell_type": "code",
   "execution_count": null,
   "id": "c8b45545",
   "metadata": {},
   "outputs": [],
   "source": [
    "SYMBOLS = ['WIN$N','WDO$N']\n",
    "TFRAME  = 'M20'\n",
    "FREQ    = '20min'"
   ]
  },
  {
   "cell_type": "markdown",
   "id": "947f9e19",
   "metadata": {},
   "source": [
    "# Data"
   ]
  },
  {
   "cell_type": "code",
   "execution_count": null,
   "id": "7dde828a",
   "metadata": {},
   "outputs": [],
   "source": [
    "def MT5_LOAD_DATA(SYMBOLS, TFRAMES, start_pos=0, count=99_999):\n",
    "    Pipe = []\n",
    "    for (symbol, TF) in it.product(SYMBOLS, TFRAMES):\n",
    "        timeframe = { 'M1':mt5.TIMEFRAME_M1, 'M5':mt5.TIMEFRAME_M5, 'M10':mt5.TIMEFRAME_M10, 'M15':mt5.TIMEFRAME_M15, 'M20':mt5.TIMEFRAME_M20, 'M30':mt5.TIMEFRAME_M30, 'H1':mt5.TIMEFRAME_H1, 'H2':mt5.TIMEFRAME_H2, 'H3':mt5.TIMEFRAME_H3, 'H4':mt5.TIMEFRAME_H4, 'H6':mt5.TIMEFRAME_H6, 'H8':mt5.TIMEFRAME_H8, 'H12':mt5.TIMEFRAME_H12, 'D1':mt5.TIMEFRAME_D1, 'W1':mt5.TIMEFRAME_W1 }[TF]\n",
    "        Raw       = pd.DataFrame(mt5.copy_rates_from_pos(symbol, timeframe, start_pos, count))\n",
    "        Raw.insert(0, 'a',          Raw.index + 1)\n",
    "        Raw.insert(1, 'z',          Raw.index - Raw.index.max())\n",
    "        Raw.insert(2, 'symbol',     symbol)\n",
    "        Raw.insert(3, 'tf',         TF)\n",
    "        Raw.insert(4, 'datetime',   pd.to_datetime(Raw['time'], unit='s'))\n",
    "        Pipe.append(Raw)\n",
    "    pass\n",
    "    return pd.concat(Pipe, ignore_index=1)\n",
    "\n",
    "Raw = MT5_LOAD_DATA(SYMBOLS, TFRAMES=[TFRAME])\n",
    "Raw.head()"
   ]
  },
  {
   "cell_type": "code",
   "execution_count": null,
   "id": "1972eeeb",
   "metadata": {},
   "outputs": [],
   "source": [
    "# Raw.to_csv('Storage/Raw.csv', index=False)\n",
    "# Raw = pd.read_csv('Storage/Raw.csv', parse_dates=['datetime'])\n",
    "# Raw.head()"
   ]
  },
  {
   "cell_type": "code",
   "execution_count": null,
   "id": "d1fd9047",
   "metadata": {},
   "outputs": [],
   "source": [
    "raise Exception('STOP')"
   ]
  },
  {
   "cell_type": "code",
   "execution_count": null,
   "id": "eb3a4de9",
   "metadata": {},
   "outputs": [],
   "source": [
    "def FORMAT_SOURCE(Raw):\n",
    "    Src = pd.DataFrame()\n",
    "    Src['A']        = Raw['a']\n",
    "    Src['Z']        = Raw['z']\n",
    "    Src['Symbol']   = Raw['symbol']\n",
    "    Src['TF']       = Raw['tf']\n",
    "    \n",
    "    Src['Datetime'] = Raw['datetime']\n",
    "    Src['Date']     = Raw['datetime'].dt.date\n",
    "    Src['Time']     = Raw['datetime'].dt.time\n",
    "    \n",
    "    Src['Ticks']    = Raw['tick_volume']\n",
    "    Src['Volume']   = Raw['real_volume']\n",
    "    Src['Price']    = Raw['close']\n",
    "    \n",
    "    Src['Open']     = Raw['open']\n",
    "    Src['High']     = Raw['high']\n",
    "    Src['Low']      = Raw['low']\n",
    "    Src['Close']    = Raw['close']\n",
    "    return Src \n",
    "\n",
    "Src = FORMAT_SOURCE(Raw)\n",
    "Src.head()"
   ]
  },
  {
   "cell_type": "code",
   "execution_count": null,
   "id": "b1ba1041",
   "metadata": {},
   "outputs": [],
   "source": [
    "def CALCULATIONS(Src):\n",
    "    Calc = pd.DataFrame(Src)\n",
    "\n",
    "    Calc['Last Time']   = Src.groupby(['Symbol','Date'], sort=0)['Time'].transform('last')\n",
    "    Calc['Exit Time']   = np.minimum(Calc['Last Time'], dt.time(18,00))\n",
    "\n",
    "    Calc['Day Open']    = Src.groupby(['Symbol','Date'], sort=0)['Open'].transform('first')\n",
    "    Calc['Intra Var']   = (Calc['Close'] / Calc['Day Open']) *100-100\n",
    "    return Calc\n",
    "\n",
    "Calc = CALCULATIONS(Src)\n",
    "Calc.head()"
   ]
  },
  {
   "cell_type": "code",
   "execution_count": null,
   "id": "280f71e8",
   "metadata": {},
   "outputs": [],
   "source": [
    "def SIGNALS(Calc):\n",
    "    Sign = pd.DataFrame(Calc[['TF','Symbol']])\n",
    "\n",
    "    for x in [-5.00, -3.00, -1.00,  -0.50, -0.30, -0.10,  0.00,  +0.10, +0.30, +0.50,  +1.00, +3.00, +5.00]: \n",
    "        Sign[f'17h00 + Intra Var > {x}'] = ((Calc['Time']==dt.time(16,40)) & (Calc['Intra Var'] > x))   .astype(int)\n",
    "        Sign[f'17h00 + Intra Var < {x}'] = ((Calc['Time']==dt.time(16,40)) & (Calc['Intra Var'] < x))   .astype(int)\n",
    "\n",
    "    return Sign\n",
    "\n",
    "Sign = SIGNALS(Calc)\n",
    "Sign.head()"
   ]
  },
  {
   "cell_type": "markdown",
   "id": "557bc80f",
   "metadata": {},
   "source": [
    "# Backtest"
   ]
  },
  {
   "cell_type": "code",
   "execution_count": null,
   "id": "f5a60fe3",
   "metadata": {},
   "outputs": [],
   "source": [
    "def COMBINE_PARAMS(Calc, Sign):\n",
    "\n",
    "    TFRAMES = [*Calc['TF'].unique()]\n",
    "    SYMBOLS = [*Calc['Symbol'].unique()]\n",
    "    COLS    = [*Sign][2:]\n",
    "    DIRECTS = ['Long','Short']\n",
    "\n",
    "    Params = pd.DataFrame(it.product(TFRAMES, SYMBOLS, COLS, DIRECTS), columns=['TF','Symbol','Entry','Direct'])\n",
    "    Params['Name'] = Params.apply(lambda x: f'{x.Symbol} - {x.Entry.replace('<','lt').replace('>','gt')} - {x.Direct}', axis=1)\n",
    "    return Params\n",
    "\n",
    "Params = COMBINE_PARAMS(Calc, Sign)\n",
    "Params.head()"
   ]
  },
  {
   "cell_type": "code",
   "execution_count": null,
   "id": "29b69272",
   "metadata": {},
   "outputs": [],
   "source": [
    "def vbt_format_result(res):\n",
    "    return {\n",
    "        **              res.returns() .describe().add_prefix(        'returns_describe.'), \n",
    "        **np.trim_zeros(res.returns()).describe().add_prefix('nonzero_returns_describe.'), \n",
    "        'alpha':                    res.alpha(), \n",
    "        'annual_returns':           res.annual_returns().get(0), \n",
    "        'annualized_return':        res.annualized_return(), \n",
    "        'annualized_volatility':    res.annualized_volatility(), \n",
    "        'beta':                     res.beta(), \n",
    "        'calmar_ratio':             res.calmar_ratio(), \n",
    "        'capture':                  res.capture(), \n",
    "        'cond_value_at_risk':       res.cond_value_at_risk(), \n",
    "        'down_capture':             res.down_capture(), \n",
    "        'downside_risk':            res.downside_risk(), \n",
    "        'final_value':              res.final_value(), \n",
    "        'max_drawdown':             res.max_drawdown(), \n",
    "        'omega_ratio':              res.omega_ratio(), \n",
    "        'position_coverage':        res.position_coverage(), \n",
    "                                  **res.returns_stats().add_prefix('returns_stats.'), \n",
    "        'sharpe_ratio':             res.sharpe_ratio(), \n",
    "        'sortino_ratio':            res.sortino_ratio(), \n",
    "                                  **res.stats().add_prefix('stats.'), \n",
    "        'tail_ratio':               res.tail_ratio(), \n",
    "        'total_benchmark_return':   res.total_benchmark_return(), \n",
    "        'total_profit':             res.total_profit(), \n",
    "        'total_return':             res.total_return(), \n",
    "        'up_capture':               res.up_capture(), \n",
    "        'value_at_risk':            res.value_at_risk(), \n",
    "    }"
   ]
  },
  {
   "cell_type": "code",
   "execution_count": null,
   "id": "828de047",
   "metadata": {},
   "outputs": [],
   "source": [
    "def format_trades_results(res, direction):\n",
    "    pts = (res.trades.exit_price - res.trades.entry_price).to_pd() * direction\n",
    "\n",
    "    trades_total        =  pts.count()\n",
    "    trades_winners      = (pts >= 0).sum()\n",
    "    trades_losers       = (pts <  0).sum()\n",
    "\n",
    "    trades_total_pnl    =  pts.sum()\n",
    "    trades_avg_pnl      =  pts.mean()\n",
    "\n",
    "    trades_max_profit   =  pts[pts >= 0].max()\n",
    "    trades_avg_profit   =  pts[pts >= 0].mean()\n",
    "    trades_avg_loss     =  pts[pts <  0].mean()\n",
    "    trades_max_loss     =  pts[pts <  0].min()\n",
    "\n",
    "    return pd.Series({\n",
    "        'Trades Total':     trades_total, \n",
    "        'Trades Winners':   trades_winners, \n",
    "        'Trades Losers':    trades_losers,  \n",
    "\n",
    "        'Total PnL (pts)':  trades_total_pnl,  \n",
    "        'Avg PnL (pts)':    trades_avg_pnl,  \n",
    " \n",
    "        'Max Profit (pts)': trades_max_profit,  \n",
    "        'Avg Profit (pts)': trades_avg_profit,  \n",
    "        'Avg Loss (pts)':   trades_avg_loss,    \n",
    "        'Max Loss (pts)':   trades_max_loss,    \n",
    "    })"
   ]
  },
  {
   "cell_type": "code",
   "execution_count": null,
   "id": "0bd41ffd",
   "metadata": {},
   "outputs": [],
   "source": [
    "def _to_csv(Df, folder, file):\n",
    "    path = os.path.join(folder, file)\n",
    "    os.makedirs(folder, exist_ok=True)\n",
    "    Df.to_csv(path, index=False, header=(not os.path.exists(path)), mode='a')"
   ]
  },
  {
   "cell_type": "code",
   "execution_count": null,
   "id": "5d107241",
   "metadata": {},
   "outputs": [],
   "source": [
    "def BACKTEST(Calc, Sign, Params, FREQ=FREQ): \n",
    "\n",
    "    # ================ Vars ================ #\n",
    "    Calc_group = Calc.groupby(['TF','Symbol'])\n",
    "    Sign_group = Sign.groupby(['TF','Symbol'])\n",
    "\n",
    "\n",
    "    # ================ Main ================ #\n",
    "    for i, row in Params.iterrows():\n",
    "        TFRAME  = row['TF']\n",
    "        SYMBOL  = row['Symbol']\n",
    "        ENTRY   = row['Entry']\n",
    "        DIRECT  = row['Direct']\n",
    "        NAME    = row['Name']\n",
    "\n",
    "\n",
    "        # ================ Input Data ================ #\n",
    "        Calc_by = Calc_group.get_group((TFRAME,SYMBOL)) .reset_index(drop=1)\n",
    "        Sign_by = Sign_group.get_group((TFRAME,SYMBOL)) .reset_index(drop=1)\n",
    "\n",
    "        Input = pd.DataFrame()\n",
    "        Input['Price']  =  Calc_by['Price']\n",
    "        Input['Entry']  =  Sign_by[ENTRY]\n",
    "        Input['Exit']   = (Calc_by['Time'] == Calc_by['Exit Time'])\n",
    "        Input.index     =  Calc_by['Datetime']\n",
    "\n",
    "\n",
    "        # ================ Compute Backtest ================ #\n",
    "        res1 = None\n",
    "        if (DIRECT=='Long'):   res1 = vbt_Portfolio.from_signals(close=Input['Price'],       entries=Input['Entry'],       exits=Input['Exit'], freq=FREQ)\n",
    "        if (DIRECT=='Short'):  res1 = vbt_Portfolio.from_signals(close=Input['Price'], short_entries=Input['Entry'], short_exits=Input['Exit'], freq=FREQ)\n",
    "\n",
    "\n",
    "        # ================ Save Result ================ #\n",
    "        # res2 = vbt_format_result(res1)\n",
    "        res3 = format_trades_results(res1, direction={ 'Long':(+1), 'Short':(-1) }[DIRECT])\n",
    "        _to_csv(Df=pd.DataFrame([{ **row, **res3 }]), folder='Storage/', file='Result.csv')\n",
    "\n",
    "\n",
    "        # ================ Plot Chart ================ #\n",
    "        fig = res1.plot()\n",
    "        fig.update_layout(title={'text':f'<b>{NAME}</b>'})\n",
    "        os.makedirs(f'Charts', exist_ok=1)\n",
    "        # fig.write_image(f'Charts/{NAME}.png')\n",
    "        # fig.write_html(f'Charts/{NAME}.html', include_plotlyjs='cdn')\n",
    "        fig.show()\n",
    "\n",
    "\n",
    "        # ================ Log ================ #\n",
    "        print(i, NAME)\n",
    "    pass\n",
    "\n",
    "# BACKTEST(Calc, Sign, Params)"
   ]
  },
  {
   "cell_type": "markdown",
   "id": "d7e1b5f1",
   "metadata": {},
   "source": [
    "# Drafts"
   ]
  },
  {
   "cell_type": "code",
   "execution_count": null,
   "id": "2f6d5334",
   "metadata": {},
   "outputs": [],
   "source": [
    "# Df = pd.DataFrame()\n",
    "# Df['Value'] = [10,20,30,40,50,60]\n",
    "# Df['Open']  = [ 0, 1, 0, 0, 0, 0]\n",
    "# Df['Close'] = [ 0, 0, 0, 1, 0, 0]\n",
    "# Df\n",
    "\n",
    "# res    = vbt_Portfolio.from_signals(close=Df['Value'], entries=Df['Open'], exits=Df['Close'])\n",
    "# trades = res.trades"
   ]
  }
 ],
 "metadata": {
  "kernelspec": {
   "display_name": "Python 3",
   "language": "python",
   "name": "python3"
  },
  "language_info": {
   "codemirror_mode": {
    "name": "ipython",
    "version": 3
   },
   "file_extension": ".py",
   "mimetype": "text/x-python",
   "name": "python",
   "nbconvert_exporter": "python",
   "pygments_lexer": "ipython3",
   "version": "3.13.3"
  }
 },
 "nbformat": 4,
 "nbformat_minor": 5
}
