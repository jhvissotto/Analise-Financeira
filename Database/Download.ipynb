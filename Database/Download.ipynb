{
 "cells": [
  {
   "cell_type": "code",
   "execution_count": null,
   "id": "e7080563",
   "metadata": {},
   "outputs": [],
   "source": [
    "import warnings, os\n",
    "import datetime as dt\n",
    "import itertools as it\n",
    "import pandas as pd\n",
    "\n",
    "warnings.filterwarnings('ignore')\n",
    "pd.set_option('display.width',       None)\n",
    "pd.set_option('display.max_columns', None)"
   ]
  },
  {
   "cell_type": "code",
   "execution_count": null,
   "id": "dce40b6e",
   "metadata": {},
   "outputs": [],
   "source": [
    "import MetaTrader5 as mt5"
   ]
  },
  {
   "cell_type": "markdown",
   "id": "35ff573d",
   "metadata": {},
   "source": [
    "# Connection"
   ]
  },
  {
   "cell_type": "code",
   "execution_count": null,
   "metadata": {},
   "outputs": [],
   "source": [
    "RICO_REAL   = { 'login':16331371,   'password':'#000000Zz', 'server':'Rico-PRD'                 }\n",
    "CLEAR_REAL  = { 'login':1018156111, 'password':'#000000Zz', 'server':'ClearInvestimentos-CLEAR' }\n",
    "\n",
    "PATH_1 = r'C:\\Program Files\\MetaTrader 5 _1\\terminal64.exe'\n",
    "\n",
    "assert mt5.initialize(PATH_1, **CLEAR_REAL)"
   ]
  },
  {
   "cell_type": "markdown",
   "id": "7b398591",
   "metadata": {},
   "source": [
    "# Variables"
   ]
  },
  {
   "cell_type": "code",
   "execution_count": null,
   "id": "c8b45545",
   "metadata": {},
   "outputs": [],
   "source": [
    "SYMBOLS = ['WIN$N'] \n",
    "TFRAMES = ['M5','M15','H1','H3','D1','W1']"
   ]
  },
  {
   "cell_type": "markdown",
   "id": "947f9e19",
   "metadata": {},
   "source": [
    "# Consume"
   ]
  },
  {
   "cell_type": "code",
   "execution_count": null,
   "id": "7dde828a",
   "metadata": {},
   "outputs": [],
   "source": [
    "def MT5_LOAD_DATA(SYMBOLS, TFRAMES, start_pos=0, count=99_999):\n",
    "    Pipe = []\n",
    "    for (symbol, TF) in it.product(SYMBOLS, TFRAMES):\n",
    "        timeframe = { 'M1':mt5.TIMEFRAME_M1, 'M5':mt5.TIMEFRAME_M5, 'M10':mt5.TIMEFRAME_M10, 'M15':mt5.TIMEFRAME_M15, 'M20':mt5.TIMEFRAME_M20, 'M30':mt5.TIMEFRAME_M30, 'H1':mt5.TIMEFRAME_H1, 'H2':mt5.TIMEFRAME_H2, 'H3':mt5.TIMEFRAME_H3, 'H4':mt5.TIMEFRAME_H4, 'H6':mt5.TIMEFRAME_H6, 'H8':mt5.TIMEFRAME_H8, 'H12':mt5.TIMEFRAME_H12, 'D1':mt5.TIMEFRAME_D1, 'W1':mt5.TIMEFRAME_W1 }[TF]\n",
    "        Raw       = pd.DataFrame(mt5.copy_rates_from_pos(symbol, timeframe, start_pos, count))\n",
    "        Raw.insert(0, 'a',          Raw.index + 1)\n",
    "        Raw.insert(1, 'z',          Raw.index - Raw.index.max())\n",
    "        Raw.insert(2, 'symbol',     symbol)\n",
    "        Raw.insert(3, 'tf',         TF)\n",
    "        Raw.insert(4, 'datetime',   pd.to_datetime(Raw['time'], unit='s'))\n",
    "        Pipe.append(Raw)\n",
    "    pass\n",
    "    return pd.concat(Pipe, ignore_index=1)\n",
    "\n",
    "Raw = MT5_LOAD_DATA(SYMBOLS, TFRAMES)\n",
    "Raw.head()"
   ]
  },
  {
   "cell_type": "code",
   "execution_count": null,
   "id": "d86dada3",
   "metadata": {},
   "outputs": [],
   "source": [
    "raise Exception('STOP')"
   ]
  },
  {
   "cell_type": "markdown",
   "id": "fd360177",
   "metadata": {},
   "source": [
    "# Save"
   ]
  },
  {
   "cell_type": "code",
   "execution_count": null,
   "id": "28f8419c",
   "metadata": {},
   "outputs": [],
   "source": [
    "Raw.to_csv('Metatrader_WINN.csv', index=False)"
   ]
  },
  {
   "cell_type": "markdown",
   "id": "67975448",
   "metadata": {},
   "source": [
    "# Load"
   ]
  },
  {
   "cell_type": "code",
   "execution_count": null,
   "id": "1972eeeb",
   "metadata": {},
   "outputs": [],
   "source": [
    "Raw = pd.read_csv('Raw.csv', parse_dates=['datetime'])\n",
    "Raw.head()"
   ]
  },
  {
   "cell_type": "code",
   "execution_count": 12,
   "id": "8d67df41",
   "metadata": {},
   "outputs": [
    {
     "data": {
      "text/html": [
       "<div>\n",
       "<style scoped>\n",
       "    .dataframe tbody tr th:only-of-type {\n",
       "        vertical-align: middle;\n",
       "    }\n",
       "\n",
       "    .dataframe tbody tr th {\n",
       "        vertical-align: top;\n",
       "    }\n",
       "\n",
       "    .dataframe thead th {\n",
       "        text-align: right;\n",
       "    }\n",
       "</style>\n",
       "<table border=\"1\" class=\"dataframe\">\n",
       "  <thead>\n",
       "    <tr style=\"text-align: right;\">\n",
       "      <th></th>\n",
       "      <th>a</th>\n",
       "      <th>z</th>\n",
       "      <th>symbol</th>\n",
       "      <th>tf</th>\n",
       "      <th>datetime</th>\n",
       "      <th>time</th>\n",
       "      <th>open</th>\n",
       "      <th>high</th>\n",
       "      <th>low</th>\n",
       "      <th>close</th>\n",
       "      <th>tick_volume</th>\n",
       "      <th>spread</th>\n",
       "      <th>real_volume</th>\n",
       "    </tr>\n",
       "  </thead>\n",
       "  <tbody>\n",
       "    <tr>\n",
       "      <th>0</th>\n",
       "      <td>1</td>\n",
       "      <td>-99998</td>\n",
       "      <td>WIN$N</td>\n",
       "      <td>M5</td>\n",
       "      <td>2021-12-02 17:45:00</td>\n",
       "      <td>1638467100</td>\n",
       "      <td>104220.0</td>\n",
       "      <td>104250.0</td>\n",
       "      <td>104035.0</td>\n",
       "      <td>104190.0</td>\n",
       "      <td>40010</td>\n",
       "      <td>5</td>\n",
       "      <td>135191</td>\n",
       "    </tr>\n",
       "    <tr>\n",
       "      <th>1</th>\n",
       "      <td>2</td>\n",
       "      <td>-99997</td>\n",
       "      <td>WIN$N</td>\n",
       "      <td>M5</td>\n",
       "      <td>2021-12-02 17:50:00</td>\n",
       "      <td>1638467400</td>\n",
       "      <td>104190.0</td>\n",
       "      <td>104390.0</td>\n",
       "      <td>104115.0</td>\n",
       "      <td>104300.0</td>\n",
       "      <td>39363</td>\n",
       "      <td>5</td>\n",
       "      <td>137891</td>\n",
       "    </tr>\n",
       "    <tr>\n",
       "      <th>2</th>\n",
       "      <td>3</td>\n",
       "      <td>-99996</td>\n",
       "      <td>WIN$N</td>\n",
       "      <td>M5</td>\n",
       "      <td>2021-12-02 17:55:00</td>\n",
       "      <td>1638467700</td>\n",
       "      <td>104295.0</td>\n",
       "      <td>104520.0</td>\n",
       "      <td>104295.0</td>\n",
       "      <td>104495.0</td>\n",
       "      <td>36882</td>\n",
       "      <td>5</td>\n",
       "      <td>123994</td>\n",
       "    </tr>\n",
       "    <tr>\n",
       "      <th>3</th>\n",
       "      <td>4</td>\n",
       "      <td>-99995</td>\n",
       "      <td>WIN$N</td>\n",
       "      <td>M5</td>\n",
       "      <td>2021-12-02 18:00:00</td>\n",
       "      <td>1638468000</td>\n",
       "      <td>104490.0</td>\n",
       "      <td>104655.0</td>\n",
       "      <td>104445.0</td>\n",
       "      <td>104455.0</td>\n",
       "      <td>32889</td>\n",
       "      <td>5</td>\n",
       "      <td>115806</td>\n",
       "    </tr>\n",
       "    <tr>\n",
       "      <th>4</th>\n",
       "      <td>5</td>\n",
       "      <td>-99994</td>\n",
       "      <td>WIN$N</td>\n",
       "      <td>M5</td>\n",
       "      <td>2021-12-02 18:05:00</td>\n",
       "      <td>1638468300</td>\n",
       "      <td>104460.0</td>\n",
       "      <td>104600.0</td>\n",
       "      <td>104430.0</td>\n",
       "      <td>104525.0</td>\n",
       "      <td>21082</td>\n",
       "      <td>5</td>\n",
       "      <td>64871</td>\n",
       "    </tr>\n",
       "  </tbody>\n",
       "</table>\n",
       "</div>"
      ],
      "text/plain": [
       "   a      z symbol  tf            datetime        time      open      high  \\\n",
       "0  1 -99998  WIN$N  M5 2021-12-02 17:45:00  1638467100  104220.0  104250.0   \n",
       "1  2 -99997  WIN$N  M5 2021-12-02 17:50:00  1638467400  104190.0  104390.0   \n",
       "2  3 -99996  WIN$N  M5 2021-12-02 17:55:00  1638467700  104295.0  104520.0   \n",
       "3  4 -99995  WIN$N  M5 2021-12-02 18:00:00  1638468000  104490.0  104655.0   \n",
       "4  5 -99994  WIN$N  M5 2021-12-02 18:05:00  1638468300  104460.0  104600.0   \n",
       "\n",
       "        low     close  tick_volume  spread  real_volume  \n",
       "0  104035.0  104190.0        40010       5       135191  \n",
       "1  104115.0  104300.0        39363       5       137891  \n",
       "2  104295.0  104495.0        36882       5       123994  \n",
       "3  104445.0  104455.0        32889       5       115806  \n",
       "4  104430.0  104525.0        21082       5        64871  "
      ]
     },
     "execution_count": 12,
     "metadata": {},
     "output_type": "execute_result"
    }
   ],
   "source": [
    "def QUERY_SELECT(Raw, SYMBOLS, TFRAMES):\n",
    "    return Raw[Raw['symbol'].isin(SYMBOLS) & Raw['tf'].isin(TFRAMES)] .reset_index(drop=1)\n",
    "\n",
    "Query = QUERY_SELECT(Raw, SYMBOLS=[*SYMBOLS], TFRAMES=[*TFRAMES])\n",
    "Query.head()"
   ]
  },
  {
   "cell_type": "markdown",
   "id": "5fe053b3",
   "metadata": {},
   "source": [
    "# Check"
   ]
  },
  {
   "cell_type": "code",
   "execution_count": 13,
   "id": "1dadb7d8",
   "metadata": {},
   "outputs": [
    {
     "data": {
      "text/html": [
       "<div>\n",
       "<style scoped>\n",
       "    .dataframe tbody tr th:only-of-type {\n",
       "        vertical-align: middle;\n",
       "    }\n",
       "\n",
       "    .dataframe tbody tr th {\n",
       "        vertical-align: top;\n",
       "    }\n",
       "\n",
       "    .dataframe thead th {\n",
       "        text-align: right;\n",
       "    }\n",
       "</style>\n",
       "<table border=\"1\" class=\"dataframe\">\n",
       "  <thead>\n",
       "    <tr style=\"text-align: right;\">\n",
       "      <th></th>\n",
       "      <th>datetime</th>\n",
       "    </tr>\n",
       "    <tr>\n",
       "      <th>tf</th>\n",
       "      <th></th>\n",
       "    </tr>\n",
       "  </thead>\n",
       "  <tbody>\n",
       "    <tr>\n",
       "      <th>M5</th>\n",
       "      <td>99999</td>\n",
       "    </tr>\n",
       "    <tr>\n",
       "      <th>M15</th>\n",
       "      <td>46107</td>\n",
       "    </tr>\n",
       "    <tr>\n",
       "      <th>H1</th>\n",
       "      <td>11867</td>\n",
       "    </tr>\n",
       "    <tr>\n",
       "      <th>H3</th>\n",
       "      <td>4412</td>\n",
       "    </tr>\n",
       "    <tr>\n",
       "      <th>D1</th>\n",
       "      <td>1245</td>\n",
       "    </tr>\n",
       "    <tr>\n",
       "      <th>W1</th>\n",
       "      <td>261</td>\n",
       "    </tr>\n",
       "  </tbody>\n",
       "</table>\n",
       "</div>"
      ],
      "text/plain": [
       "     datetime\n",
       "tf           \n",
       "M5      99999\n",
       "M15     46107\n",
       "H1      11867\n",
       "H3       4412\n",
       "D1       1245\n",
       "W1        261"
      ]
     },
     "execution_count": 13,
     "metadata": {},
     "output_type": "execute_result"
    }
   ],
   "source": [
    "Raw.groupby('tf', sort=0)[['datetime']].count()"
   ]
  },
  {
   "cell_type": "code",
   "execution_count": 14,
   "id": "0043405d",
   "metadata": {},
   "outputs": [
    {
     "data": {
      "text/html": [
       "<div>\n",
       "<style scoped>\n",
       "    .dataframe tbody tr th:only-of-type {\n",
       "        vertical-align: middle;\n",
       "    }\n",
       "\n",
       "    .dataframe tbody tr th {\n",
       "        vertical-align: top;\n",
       "    }\n",
       "\n",
       "    .dataframe thead th {\n",
       "        text-align: right;\n",
       "    }\n",
       "</style>\n",
       "<table border=\"1\" class=\"dataframe\">\n",
       "  <thead>\n",
       "    <tr style=\"text-align: right;\">\n",
       "      <th></th>\n",
       "      <th>datetime</th>\n",
       "    </tr>\n",
       "    <tr>\n",
       "      <th>tf</th>\n",
       "      <th></th>\n",
       "    </tr>\n",
       "  </thead>\n",
       "  <tbody>\n",
       "    <tr>\n",
       "      <th>M5</th>\n",
       "      <td>2021-12-02 17:45:00</td>\n",
       "    </tr>\n",
       "    <tr>\n",
       "      <th>M15</th>\n",
       "      <td>2020-07-20 09:00:00</td>\n",
       "    </tr>\n",
       "    <tr>\n",
       "      <th>H1</th>\n",
       "      <td>2020-07-20 09:00:00</td>\n",
       "    </tr>\n",
       "    <tr>\n",
       "      <th>H3</th>\n",
       "      <td>2020-07-20 09:00:00</td>\n",
       "    </tr>\n",
       "    <tr>\n",
       "      <th>D1</th>\n",
       "      <td>2020-07-20 00:00:00</td>\n",
       "    </tr>\n",
       "    <tr>\n",
       "      <th>W1</th>\n",
       "      <td>2020-07-19 00:00:00</td>\n",
       "    </tr>\n",
       "  </tbody>\n",
       "</table>\n",
       "</div>"
      ],
      "text/plain": [
       "               datetime\n",
       "tf                     \n",
       "M5  2021-12-02 17:45:00\n",
       "M15 2020-07-20 09:00:00\n",
       "H1  2020-07-20 09:00:00\n",
       "H3  2020-07-20 09:00:00\n",
       "D1  2020-07-20 00:00:00\n",
       "W1  2020-07-19 00:00:00"
      ]
     },
     "execution_count": 14,
     "metadata": {},
     "output_type": "execute_result"
    }
   ],
   "source": [
    "Raw.groupby('tf', sort=0)[['datetime']].first()"
   ]
  }
 ],
 "metadata": {
  "kernelspec": {
   "display_name": "Python 3",
   "language": "python",
   "name": "python3"
  },
  "language_info": {
   "codemirror_mode": {
    "name": "ipython",
    "version": 3
   },
   "file_extension": ".py",
   "mimetype": "text/x-python",
   "name": "python",
   "nbconvert_exporter": "python",
   "pygments_lexer": "ipython3",
   "version": "3.13.3"
  }
 },
 "nbformat": 4,
 "nbformat_minor": 5
}
