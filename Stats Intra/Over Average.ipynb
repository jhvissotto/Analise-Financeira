{
 "cells": [
  {
   "cell_type": "code",
   "execution_count": null,
   "id": "e7080563",
   "metadata": {},
   "outputs": [],
   "source": [
    "import warnings\n",
    "import datetime as dt\n",
    "from numpy import nan, inf\n",
    "import numpy as np\n",
    "import pandas as pd\n",
    "\n",
    "warnings.filterwarnings('ignore')\n",
    "pd.set_option('display.width',       None)\n",
    "pd.set_option('display.max_columns', None)"
   ]
  },
  {
   "cell_type": "markdown",
   "id": "947f9e19",
   "metadata": {},
   "source": [
    "# Load"
   ]
  },
  {
   "cell_type": "code",
   "execution_count": null,
   "id": "1972eeeb",
   "metadata": {},
   "outputs": [],
   "source": [
    "Raw = pd.read_csv('Storage/Raw.csv', parse_dates=['datetime'])\n",
    "Raw.head()"
   ]
  },
  {
   "cell_type": "code",
   "execution_count": null,
   "id": "8d67df41",
   "metadata": {},
   "outputs": [],
   "source": [
    "def QUERY_SELECT(Raw, SYMBOLS, TFRAMES):\n",
    "    return Raw[Raw['symbol'].isin(SYMBOLS) & Raw['tf'].isin(TFRAMES)] .reset_index(drop=1)\n",
    "\n",
    "Query = QUERY_SELECT(Raw, SYMBOLS=['WIN$'], TFRAMES=['M5','M15','H1'])\n",
    "Query.head()"
   ]
  },
  {
   "cell_type": "markdown",
   "id": "34e15110",
   "metadata": {},
   "source": [
    "# Data"
   ]
  },
  {
   "cell_type": "code",
   "execution_count": null,
   "id": "eb3a4de9",
   "metadata": {},
   "outputs": [],
   "source": [
    "def FORMAT_SOURCE(Query):\n",
    "    Src = pd.DataFrame()\n",
    "    \n",
    "    Src['A']        = Query['a']\n",
    "    Src['Z']        = Query['z']\n",
    "    Src['Symbol']   = Query['symbol']\n",
    "    Src['TF']       = Query['tf']\n",
    "    \n",
    "    Src['Datetime'] = Query['datetime']\n",
    "    Src['Date']     = Query['datetime'].dt.date\n",
    "    Src['Time']     = Query['datetime'].dt.time\n",
    "\n",
    "    Src_by          = Src.groupby(['Symbol','TF','Date'], sort=0, group_keys=0)\n",
    "    Src['T']        = Src_by['Time'].rank().sub(1).astype(int)\n",
    "\n",
    "    Src['Ticks']    = Query['tick_volume']\n",
    "    Src['Volume']   = Query['real_volume']\n",
    "    Src['Price']    = Query['close']\n",
    "    \n",
    "    Src['Open']     = Query['open']\n",
    "    Src['High']     = Query['high']\n",
    "    Src['Low']      = Query['low']\n",
    "    Src['Close']    = Query['close']\n",
    "\n",
    "    Src['Change']   = Src['Close'] - Src['Open']\n",
    "    Src['HL']       = Src['High']  - Src['Low']\n",
    "    return Src \n",
    "\n",
    "Src = FORMAT_SOURCE(Query)\n",
    "Src.head()"
   ]
  },
  {
   "cell_type": "code",
   "execution_count": null,
   "id": "33714597",
   "metadata": {},
   "outputs": [],
   "source": [
    "def CALCULATIONS(Src):\n",
    "    Calc = pd.DataFrame(Src)\n",
    "    Calc_by2 = Calc.groupby(['Symbol','TF'],        sort=0, group_keys=0)\n",
    "    Calc_by3 = Calc.groupby(['Symbol','TF','Date'], sort=0, group_keys=0)\n",
    "\n",
    "    # ================ Full Day ================ #\n",
    "    Calc['Day Open']            = Calc_by3['Open'].first()                      .reset_index(drop=1)\n",
    "    Calc['Day High']            = Calc_by3['High'].max()                        .reset_index(drop=1)\n",
    "    Calc['Day Low']             = Calc_by3['Low'].min()                         .reset_index(drop=1)\n",
    "    Calc['Day Close']           = Calc_by3['Close'].last()                      .reset_index(drop=1)\n",
    "\n",
    "    Calc['Day HL']              = Calc['Day High']  - Calc['Day Low']\n",
    "    Calc['Day Chg']             = Calc['Day Close'] - Calc['Day Open']\n",
    "    Calc['Day Chg Abs']         = Calc['Day Chg'].abs()\n",
    "\n",
    "    Calc['Day HL Avg']          = Calc_by2['Day HL']      .expanding().mean()   .reset_index(drop=1)\n",
    "    Calc['Day Chg Abs Avg']     = Calc_by2['Day Chg Abs'] .expanding().mean()   .reset_index(drop=1)\n",
    "\n",
    "    Calc['Day HL > Avg']        = Calc['Day HL']      > Calc['Day HL Avg']\n",
    "    Calc['Day Chg Abs > Avg']   = Calc['Day Chg Abs'] > Calc['Day Chg Abs Avg']\n",
    "\n",
    "\n",
    "    # ================ Intra Day ================ #\n",
    "    Calc['Chg Abs']             = Calc['Change'].abs()\n",
    "\n",
    "    Calc['Chg Abs Avg']         = Calc_by2['Chg Abs'].expanding().mean()        .reset_index(drop=1)\n",
    "    Calc['HL Avg']              = Calc_by2['HL']     .expanding().mean()        .reset_index(drop=1)\n",
    "\n",
    "    Calc['Chg Abs > Avg']       = Calc['Chg Abs'] > Calc['Chg Abs Avg'] \n",
    "    Calc['HL > Avg']            = Calc['HL']      > Calc['HL Avg']      \n",
    "    return Calc\n",
    "\n",
    "Calc = CALCULATIONS(Src)\n",
    "Calc.head()"
   ]
  },
  {
   "cell_type": "markdown",
   "id": "60ad2c45",
   "metadata": {},
   "source": [
    "# Stats"
   ]
  },
  {
   "cell_type": "code",
   "execution_count": 63,
   "id": "b371ff92",
   "metadata": {},
   "outputs": [
    {
     "data": {
      "text/html": [
       "<div>\n",
       "<style scoped>\n",
       "    .dataframe tbody tr th:only-of-type {\n",
       "        vertical-align: middle;\n",
       "    }\n",
       "\n",
       "    .dataframe tbody tr th {\n",
       "        vertical-align: top;\n",
       "    }\n",
       "\n",
       "    .dataframe thead th {\n",
       "        text-align: right;\n",
       "    }\n",
       "</style>\n",
       "<table border=\"1\" class=\"dataframe\">\n",
       "  <thead>\n",
       "    <tr style=\"text-align: right;\">\n",
       "      <th></th>\n",
       "      <th>TF</th>\n",
       "      <th>Day Chg Abs &gt; Avg</th>\n",
       "      <th>Day HL &gt; Avg</th>\n",
       "    </tr>\n",
       "  </thead>\n",
       "  <tbody>\n",
       "    <tr>\n",
       "      <th>0</th>\n",
       "      <td>M5</td>\n",
       "      <td>1.72</td>\n",
       "      <td>1.88</td>\n",
       "    </tr>\n",
       "    <tr>\n",
       "      <th>1</th>\n",
       "      <td>M15</td>\n",
       "      <td>0.00</td>\n",
       "      <td>0.00</td>\n",
       "    </tr>\n",
       "    <tr>\n",
       "      <th>2</th>\n",
       "      <td>H1</td>\n",
       "      <td>0.00</td>\n",
       "      <td>0.00</td>\n",
       "    </tr>\n",
       "  </tbody>\n",
       "</table>\n",
       "</div>"
      ],
      "text/plain": [
       "    TF  Day Chg Abs > Avg  Day HL > Avg\n",
       "0   M5               1.72          1.88\n",
       "1  M15               0.00          0.00\n",
       "2   H1               0.00          0.00"
      ]
     },
     "execution_count": 63,
     "metadata": {},
     "output_type": "execute_result"
    }
   ],
   "source": [
    "def STATS(Calc, T, Col):\n",
    "    pipe = []\n",
    "    for TF in ['M5','M15','H1']:\n",
    "        Df = Calc[(Calc['TF']==TF) & (Calc['T']==T) & (Calc[Col])]\n",
    "        \n",
    "        pipe.append({ 'TF':TF,\n",
    "            'Day Chg Abs > Avg':  np.round(Df['Day Chg Abs > Avg'].mean()*100, 2), \n",
    "            'Day HL > Avg':       np.round(Df['Day HL > Avg'].mean()*100, 2), \n",
    "        })\n",
    "    pass\n",
    "    return pd.DataFrame(pipe)\n",
    "\n",
    "Sts1 = STATS(Calc, T=0, Col='Chg Abs > Avg')\n",
    "Sts1"
   ]
  },
  {
   "cell_type": "code",
   "execution_count": 64,
   "id": "4e16e832",
   "metadata": {},
   "outputs": [
    {
     "data": {
      "text/html": [
       "<div>\n",
       "<style scoped>\n",
       "    .dataframe tbody tr th:only-of-type {\n",
       "        vertical-align: middle;\n",
       "    }\n",
       "\n",
       "    .dataframe tbody tr th {\n",
       "        vertical-align: top;\n",
       "    }\n",
       "\n",
       "    .dataframe thead th {\n",
       "        text-align: right;\n",
       "    }\n",
       "</style>\n",
       "<table border=\"1\" class=\"dataframe\">\n",
       "  <thead>\n",
       "    <tr style=\"text-align: right;\">\n",
       "      <th></th>\n",
       "      <th>TF</th>\n",
       "      <th>Day Chg Abs &gt; Avg</th>\n",
       "      <th>Day HL &gt; Avg</th>\n",
       "    </tr>\n",
       "  </thead>\n",
       "  <tbody>\n",
       "    <tr>\n",
       "      <th>0</th>\n",
       "      <td>M5</td>\n",
       "      <td>1.49</td>\n",
       "      <td>1.37</td>\n",
       "    </tr>\n",
       "    <tr>\n",
       "      <th>1</th>\n",
       "      <td>M15</td>\n",
       "      <td>0.00</td>\n",
       "      <td>0.00</td>\n",
       "    </tr>\n",
       "    <tr>\n",
       "      <th>2</th>\n",
       "      <td>H1</td>\n",
       "      <td>0.00</td>\n",
       "      <td>0.00</td>\n",
       "    </tr>\n",
       "  </tbody>\n",
       "</table>\n",
       "</div>"
      ],
      "text/plain": [
       "    TF  Day Chg Abs > Avg  Day HL > Avg\n",
       "0   M5               1.49          1.37\n",
       "1  M15               0.00          0.00\n",
       "2   H1               0.00          0.00"
      ]
     },
     "execution_count": 64,
     "metadata": {},
     "output_type": "execute_result"
    }
   ],
   "source": [
    "Sts2 = STATS(Calc, T=0, Col='HL > Avg')\n",
    "Sts2"
   ]
  }
 ],
 "metadata": {
  "kernelspec": {
   "display_name": "Python 3",
   "language": "python",
   "name": "python3"
  },
  "language_info": {
   "codemirror_mode": {
    "name": "ipython",
    "version": 3
   },
   "file_extension": ".py",
   "mimetype": "text/x-python",
   "name": "python",
   "nbconvert_exporter": "python",
   "pygments_lexer": "ipython3",
   "version": "3.13.3"
  }
 },
 "nbformat": 4,
 "nbformat_minor": 5
}
