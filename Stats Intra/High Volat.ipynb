{
 "cells": [
  {
   "cell_type": "code",
   "execution_count": null,
   "id": "e7080563",
   "metadata": {},
   "outputs": [],
   "source": [
    "import warnings\n",
    "import datetime as dt\n",
    "from numpy import nan, inf\n",
    "import numpy as np\n",
    "import pandas as pd\n",
    "\n",
    "warnings.filterwarnings('ignore')\n",
    "pd.set_option('display.width',       None)\n",
    "pd.set_option('display.max_columns', None)"
   ]
  },
  {
   "cell_type": "markdown",
   "id": "947f9e19",
   "metadata": {},
   "source": [
    "# Load"
   ]
  },
  {
   "cell_type": "code",
   "execution_count": null,
   "id": "1972eeeb",
   "metadata": {},
   "outputs": [],
   "source": [
    "Raw = pd.read_csv('Storage/Raw.csv', parse_dates=['datetime'])\n",
    "Raw.head()"
   ]
  },
  {
   "cell_type": "code",
   "execution_count": null,
   "id": "8d67df41",
   "metadata": {},
   "outputs": [],
   "source": [
    "def QUERY_SELECT(Raw, SYMBOLS, TFRAMES):\n",
    "    return Raw[Raw['symbol'].isin(SYMBOLS) & Raw['tf'].isin(TFRAMES)] .reset_index(drop=1)\n",
    "\n",
    "Query = QUERY_SELECT(Raw, SYMBOLS=['WIN$'], TFRAMES=['M5','M15','H1'])\n",
    "Query.head()"
   ]
  },
  {
   "cell_type": "markdown",
   "id": "34e15110",
   "metadata": {},
   "source": [
    "# Data"
   ]
  },
  {
   "cell_type": "code",
   "execution_count": null,
   "id": "eb3a4de9",
   "metadata": {},
   "outputs": [],
   "source": [
    "def FORMAT_SOURCE(Query):\n",
    "    Src = pd.DataFrame()\n",
    "    Src['A']        = Query['a']\n",
    "    Src['Z']        = Query['z']\n",
    "    Src['Symbol']   = Query['symbol']\n",
    "    Src['TF']       = Query['tf']\n",
    "    \n",
    "    Src['Datetime'] = Query['datetime']\n",
    "    Src['Date']     = Query['datetime'].dt.date\n",
    "    Src['Time']     = Query['datetime'].dt.time\n",
    "\n",
    "    Src_by          = Src.groupby(['Symbol','TF','Date'], sort=0, group_keys=0)\n",
    "    Src['T']        = Src_by['Time'].rank().sub(1).astype(int)\n",
    "\n",
    "    Src['Ticks']    = Query['tick_volume']\n",
    "    Src['Volume']   = Query['real_volume']\n",
    "    Src['Price']    = Query['close']\n",
    "    \n",
    "    Src['Open']     = Query['open']\n",
    "    Src['High']     = Query['high']\n",
    "    Src['Low']      = Query['low']\n",
    "    Src['Close']    = Query['close']\n",
    "\n",
    "    Src['Change']   = Src['Close'] - Src['Open']\n",
    "    Src['Hilo']     = Src['High']  - Src['Low']\n",
    "    return Src \n",
    "\n",
    "Src = FORMAT_SOURCE(Query)\n",
    "Src.head()"
   ]
  },
  {
   "cell_type": "code",
   "execution_count": 10,
   "id": "33714597",
   "metadata": {},
   "outputs": [],
   "source": [
    "def CALCULATIONS(Src, METHOD):\n",
    "    Calc = pd.DataFrame(Src)\n",
    "    Calc_by2 = Calc.groupby(['Symbol','TF'],        sort=0, group_keys=0)\n",
    "    Calc_by3 = Calc.groupby(['Symbol','TF','Date'], sort=0, group_keys=0)\n",
    "\n",
    "    # ================ Full Day ================ #\n",
    "    Calc['Day Open']            = Calc_by3['Open'].transform('first')           .reset_index(drop=1)\n",
    "    Calc['Day High']            = Calc_by3['High'].transform('max')             .reset_index(drop=1)\n",
    "    Calc['Day Low']             = Calc_by3['Low'].transform('min')              .reset_index(drop=1)\n",
    "    Calc['Day Close']           = Calc_by3['Close'].transform('last')           .reset_index(drop=1)\n",
    "\n",
    "    Calc['Day HL']              = Calc['Day High']  - Calc['Day Low']\n",
    "    Calc['Day Chg']             = Calc['Day Close'] - Calc['Day Open']\n",
    "    Calc['Day Chg Abs']         = Calc['Day Chg'].abs()\n",
    "\n",
    "    if METHOD == 'ROLLING_DATA':\n",
    "        Calc['Day HL Avg']      = Calc_by2['Day HL']      .expanding().mean()   .reset_index(drop=1)\n",
    "        Calc['Day Chg Abs Avg'] = Calc_by2['Day Chg Abs'] .expanding().mean()   .reset_index(drop=1)\n",
    "\n",
    "    if METHOD == 'TOTAL_DATA':\n",
    "        Calc['Day HL Avg']      = Calc_by2['Day HL']      .transform('mean')    .reset_index(drop=1)\n",
    "        Calc['Day Chg Abs Avg'] = Calc_by2['Day Chg Abs'] .transform('mean')    .reset_index(drop=1)\n",
    "\n",
    "    Calc['Day HL > Avg']        = Calc['Day HL']      > Calc['Day HL Avg']\n",
    "    Calc['Day Chg Abs > Avg']   = Calc['Day Chg Abs'] > Calc['Day Chg Abs Avg']\n",
    "\n",
    "\n",
    "    # ================ Intra Day ================ #\n",
    "    Calc['Chg Abs']             = Calc['Change'].abs()\n",
    "\n",
    "    if METHOD == 'ROLLING_DATA':\n",
    "        Calc['Chg Abs Avg']     = Calc_by2['Chg Abs'] .expanding().mean()        .reset_index(drop=1)\n",
    "        Calc['HL Avg']          = Calc_by2['Hilo']    .expanding().mean()        .reset_index(drop=1)\n",
    "\n",
    "    if METHOD == 'TOTAL_DATA':\n",
    "        Calc['Chg Abs Avg']     = Calc_by2['Chg Abs'] .transform('mean')         .reset_index(drop=1)\n",
    "        Calc['HL Avg']          = Calc_by2['Hilo']    .transform('mean')         .reset_index(drop=1)\n",
    "\n",
    "\n",
    "    Calc['Chg Abs > Avg']       = Calc['Chg Abs'] > Calc['Chg Abs Avg']\n",
    "    Calc['HL > Avg']            = Calc['Hilo']    > Calc['HL Avg']      \n",
    "    return Calc\n",
    "\n",
    "Calc1 = CALCULATIONS(Src, METHOD='ROLLING_DATA')\n",
    "Calc2 = CALCULATIONS(Src, METHOD='TOTAL_DATA')"
   ]
  },
  {
   "cell_type": "markdown",
   "id": "60ad2c45",
   "metadata": {},
   "source": [
    "# Stats"
   ]
  },
  {
   "cell_type": "code",
   "execution_count": 11,
   "id": "0860f1c6",
   "metadata": {},
   "outputs": [],
   "source": [
    "def STATS(Calc, T, Col):\n",
    "    pipe = []\n",
    "    for TF in ['M5','M15','H1']:\n",
    "        Df = Calc[(Calc['TF']==TF) & (Calc['T']==T) & (Calc[Col])]\n",
    "        \n",
    "        pipe.append({ 'TF':TF,\n",
    "            'Day Chg Abs > Avg':  np.round(Df['Day Chg Abs > Avg'] .mean() *100, 0).astype(int), \n",
    "            'Day HL > Avg':       np.round(Df['Day HL > Avg']      .mean() *100, 0).astype(int), \n",
    "        })\n",
    "    pass\n",
    "    return pd.DataFrame(pipe)"
   ]
  },
  {
   "cell_type": "code",
   "execution_count": 12,
   "id": "b371ff92",
   "metadata": {},
   "outputs": [
    {
     "data": {
      "text/html": [
       "<div>\n",
       "<style scoped>\n",
       "    .dataframe tbody tr th:only-of-type {\n",
       "        vertical-align: middle;\n",
       "    }\n",
       "\n",
       "    .dataframe tbody tr th {\n",
       "        vertical-align: top;\n",
       "    }\n",
       "\n",
       "    .dataframe thead th {\n",
       "        text-align: right;\n",
       "    }\n",
       "</style>\n",
       "<table border=\"1\" class=\"dataframe\">\n",
       "  <thead>\n",
       "    <tr style=\"text-align: right;\">\n",
       "      <th></th>\n",
       "      <th>TF</th>\n",
       "      <th>Day Chg Abs &gt; Avg</th>\n",
       "      <th>Day HL &gt; Avg</th>\n",
       "    </tr>\n",
       "  </thead>\n",
       "  <tbody>\n",
       "    <tr>\n",
       "      <th>0</th>\n",
       "      <td>M5</td>\n",
       "      <td>35</td>\n",
       "      <td>29</td>\n",
       "    </tr>\n",
       "    <tr>\n",
       "      <th>1</th>\n",
       "      <td>M15</td>\n",
       "      <td>37</td>\n",
       "      <td>31</td>\n",
       "    </tr>\n",
       "    <tr>\n",
       "      <th>2</th>\n",
       "      <td>H1</td>\n",
       "      <td>40</td>\n",
       "      <td>35</td>\n",
       "    </tr>\n",
       "  </tbody>\n",
       "</table>\n",
       "</div>"
      ],
      "text/plain": [
       "    TF  Day Chg Abs > Avg  Day HL > Avg\n",
       "0   M5                 35            29\n",
       "1  M15                 37            31\n",
       "2   H1                 40            35"
      ]
     },
     "execution_count": 12,
     "metadata": {},
     "output_type": "execute_result"
    }
   ],
   "source": [
    "Sts11 = STATS(Calc1, T=0, Col='Chg Abs > Avg')\n",
    "Sts11"
   ]
  },
  {
   "cell_type": "code",
   "execution_count": 13,
   "id": "a999eac8",
   "metadata": {},
   "outputs": [
    {
     "data": {
      "text/html": [
       "<div>\n",
       "<style scoped>\n",
       "    .dataframe tbody tr th:only-of-type {\n",
       "        vertical-align: middle;\n",
       "    }\n",
       "\n",
       "    .dataframe tbody tr th {\n",
       "        vertical-align: top;\n",
       "    }\n",
       "\n",
       "    .dataframe thead th {\n",
       "        text-align: right;\n",
       "    }\n",
       "</style>\n",
       "<table border=\"1\" class=\"dataframe\">\n",
       "  <thead>\n",
       "    <tr style=\"text-align: right;\">\n",
       "      <th></th>\n",
       "      <th>TF</th>\n",
       "      <th>Day Chg Abs &gt; Avg</th>\n",
       "      <th>Day HL &gt; Avg</th>\n",
       "    </tr>\n",
       "  </thead>\n",
       "  <tbody>\n",
       "    <tr>\n",
       "      <th>0</th>\n",
       "      <td>M5</td>\n",
       "      <td>35</td>\n",
       "      <td>28</td>\n",
       "    </tr>\n",
       "    <tr>\n",
       "      <th>1</th>\n",
       "      <td>M15</td>\n",
       "      <td>35</td>\n",
       "      <td>31</td>\n",
       "    </tr>\n",
       "    <tr>\n",
       "      <th>2</th>\n",
       "      <td>H1</td>\n",
       "      <td>40</td>\n",
       "      <td>41</td>\n",
       "    </tr>\n",
       "  </tbody>\n",
       "</table>\n",
       "</div>"
      ],
      "text/plain": [
       "    TF  Day Chg Abs > Avg  Day HL > Avg\n",
       "0   M5                 35            28\n",
       "1  M15                 35            31\n",
       "2   H1                 40            41"
      ]
     },
     "execution_count": 13,
     "metadata": {},
     "output_type": "execute_result"
    }
   ],
   "source": [
    "Sts12 = STATS(Calc1, T=0, Col='HL > Avg')\n",
    "Sts12"
   ]
  },
  {
   "cell_type": "code",
   "execution_count": 14,
   "id": "d87c019e",
   "metadata": {},
   "outputs": [
    {
     "data": {
      "text/html": [
       "<div>\n",
       "<style scoped>\n",
       "    .dataframe tbody tr th:only-of-type {\n",
       "        vertical-align: middle;\n",
       "    }\n",
       "\n",
       "    .dataframe tbody tr th {\n",
       "        vertical-align: top;\n",
       "    }\n",
       "\n",
       "    .dataframe thead th {\n",
       "        text-align: right;\n",
       "    }\n",
       "</style>\n",
       "<table border=\"1\" class=\"dataframe\">\n",
       "  <thead>\n",
       "    <tr style=\"text-align: right;\">\n",
       "      <th></th>\n",
       "      <th>TF</th>\n",
       "      <th>Day Chg Abs &gt; Avg</th>\n",
       "      <th>Day HL &gt; Avg</th>\n",
       "    </tr>\n",
       "  </thead>\n",
       "  <tbody>\n",
       "    <tr>\n",
       "      <th>0</th>\n",
       "      <td>M5</td>\n",
       "      <td>41</td>\n",
       "      <td>42</td>\n",
       "    </tr>\n",
       "    <tr>\n",
       "      <th>1</th>\n",
       "      <td>M15</td>\n",
       "      <td>44</td>\n",
       "      <td>46</td>\n",
       "    </tr>\n",
       "    <tr>\n",
       "      <th>2</th>\n",
       "      <td>H1</td>\n",
       "      <td>46</td>\n",
       "      <td>49</td>\n",
       "    </tr>\n",
       "  </tbody>\n",
       "</table>\n",
       "</div>"
      ],
      "text/plain": [
       "    TF  Day Chg Abs > Avg  Day HL > Avg\n",
       "0   M5                 41            42\n",
       "1  M15                 44            46\n",
       "2   H1                 46            49"
      ]
     },
     "execution_count": 14,
     "metadata": {},
     "output_type": "execute_result"
    }
   ],
   "source": [
    "Sts21 = STATS(Calc2, T=0, Col='Chg Abs > Avg')\n",
    "Sts21"
   ]
  },
  {
   "cell_type": "code",
   "execution_count": 15,
   "id": "0e51f119",
   "metadata": {},
   "outputs": [
    {
     "data": {
      "text/html": [
       "<div>\n",
       "<style scoped>\n",
       "    .dataframe tbody tr th:only-of-type {\n",
       "        vertical-align: middle;\n",
       "    }\n",
       "\n",
       "    .dataframe tbody tr th {\n",
       "        vertical-align: top;\n",
       "    }\n",
       "\n",
       "    .dataframe thead th {\n",
       "        text-align: right;\n",
       "    }\n",
       "</style>\n",
       "<table border=\"1\" class=\"dataframe\">\n",
       "  <thead>\n",
       "    <tr style=\"text-align: right;\">\n",
       "      <th></th>\n",
       "      <th>TF</th>\n",
       "      <th>Day Chg Abs &gt; Avg</th>\n",
       "      <th>Day HL &gt; Avg</th>\n",
       "    </tr>\n",
       "  </thead>\n",
       "  <tbody>\n",
       "    <tr>\n",
       "      <th>0</th>\n",
       "      <td>M5</td>\n",
       "      <td>40</td>\n",
       "      <td>41</td>\n",
       "    </tr>\n",
       "    <tr>\n",
       "      <th>1</th>\n",
       "      <td>M15</td>\n",
       "      <td>42</td>\n",
       "      <td>45</td>\n",
       "    </tr>\n",
       "    <tr>\n",
       "      <th>2</th>\n",
       "      <td>H1</td>\n",
       "      <td>47</td>\n",
       "      <td>55</td>\n",
       "    </tr>\n",
       "  </tbody>\n",
       "</table>\n",
       "</div>"
      ],
      "text/plain": [
       "    TF  Day Chg Abs > Avg  Day HL > Avg\n",
       "0   M5                 40            41\n",
       "1  M15                 42            45\n",
       "2   H1                 47            55"
      ]
     },
     "execution_count": 15,
     "metadata": {},
     "output_type": "execute_result"
    }
   ],
   "source": [
    "Sts22 = STATS(Calc2, T=0, Col='HL > Avg')\n",
    "Sts22"
   ]
  },
  {
   "cell_type": "markdown",
   "id": "c9d5ce79",
   "metadata": {},
   "source": [
    "# Snippets"
   ]
  },
  {
   "cell_type": "code",
   "execution_count": 16,
   "id": "c6a2bc69",
   "metadata": {},
   "outputs": [],
   "source": [
    "def CALCULATIONS(Src, METHOD):\n",
    "    Calc = pd.DataFrame(Src)\n",
    "    Calc_by2 = Calc.groupby(['Symbol','TF'],        sort=0, group_keys=0)\n",
    "    Calc_by3 = Calc.groupby(['Symbol','TF','Date'], sort=0, group_keys=0)\n",
    "\n",
    "    # ================ Full Day ================ #\n",
    "    Calc['Day Open']            = Calc_by3['Open'].transform('first')           #.reset_index(drop=1)\n",
    "    Calc['Day High']            = Calc_by3['High'].transform('max')             #.reset_index(drop=1)\n",
    "    Calc['Day Low']             = Calc_by3['Low'].transform('min')              #.reset_index(drop=1)\n",
    "    Calc['Day Close']           = Calc_by3['Close'].transform('last')           #.reset_index(drop=1)\n",
    "\n",
    "    Calc['Day HL']              = Calc['Day High']  - Calc['Day Low']\n",
    "    Calc['Day Chg']             = Calc['Day Close'] - Calc['Day Open']\n",
    "    Calc['Day Chg Abs']         = Calc['Day Chg'].abs()\n",
    "\n",
    "    if METHOD == 'ROLLING_DATA':\n",
    "        Calc['Day HL Avg']      = Calc_by2['Day HL']      .expanding().mean()   #.reset_index(drop=1)\n",
    "        Calc['Day Chg Abs Avg'] = Calc_by2['Day Chg Abs'] .expanding().mean()   #.reset_index(drop=1)\n",
    "\n",
    "    if METHOD == 'TOTAL_DATA':\n",
    "        Calc['Day HL Avg']      = Calc_by2['Day HL']      .transform('mean')    #.reset_index(drop=1)\n",
    "        Calc['Day Chg Abs Avg'] = Calc_by2['Day Chg Abs'] .transform('mean')    #.reset_index(drop=1)\n",
    "\n",
    "    Calc['Day HL > Avg']        = Calc['Day HL']      > Calc['Day HL Avg']\n",
    "    Calc['Day Chg Abs > Avg']   = Calc['Day Chg Abs'] > Calc['Day Chg Abs Avg']\n",
    "\n",
    "\n",
    "    # ================ Intra Day ================ #\n",
    "    Calc['Chg Abs']             = Calc['Change'].abs()\n",
    "\n",
    "    if METHOD == 'ROLLING_DATA':\n",
    "        Calc['Chg Abs Avg']     = Calc_by2['Chg Abs'].expanding().mean()        #.reset_index(drop=1)\n",
    "        Calc['HL Avg']          = Calc_by2['HL']     .expanding().mean()        #.reset_index(drop=1)\n",
    "\n",
    "    if METHOD == 'TOTAL_DATA':\n",
    "        Calc['Chg Abs Avg']     = Calc_by2['Chg Abs'].transform('mean')         #.reset_index(drop=1)\n",
    "        Calc['HL Avg']          = Calc_by2['HL']     .transform('mean')         #.reset_index(drop=1)\n",
    "\n",
    "\n",
    "    Calc['Chg Abs > Avg']       = Calc['Chg Abs'] > Calc['Chg Abs Avg']\n",
    "    Calc['HL > Avg']            = Calc['HL']      > Calc['HL Avg']      \n",
    "    return Calc\n",
    "\n",
    "\n",
    "def STATS(Calc, T, Col):\n",
    "    pipe = []\n",
    "    for TF in ['M5','M15','H1']:\n",
    "        Df = Calc[(Calc['TF']==TF) & (Calc['T']==T) & (Calc[Col])]\n",
    "        \n",
    "        pipe.append({ 'TF':TF,\n",
    "            'Day Chg Abs > Avg':  np.round(Df['Day Chg Abs > Avg'] .mean() *100, 0).astype(int), \n",
    "            'Day HL > Avg':       np.round(Df['Day HL > Avg']      .mean() *100, 0).astype(int), \n",
    "        })\n",
    "    pass\n",
    "    return pd.DataFrame(pipe)"
   ]
  }
 ],
 "metadata": {
  "kernelspec": {
   "display_name": "Python 3",
   "language": "python",
   "name": "python3"
  },
  "language_info": {
   "codemirror_mode": {
    "name": "ipython",
    "version": 3
   },
   "file_extension": ".py",
   "mimetype": "text/x-python",
   "name": "python",
   "nbconvert_exporter": "python",
   "pygments_lexer": "ipython3",
   "version": "3.13.3"
  }
 },
 "nbformat": 4,
 "nbformat_minor": 5
}
