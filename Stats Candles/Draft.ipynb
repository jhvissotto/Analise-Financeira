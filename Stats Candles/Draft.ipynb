{
 "cells": [
  {
   "cell_type": "code",
   "execution_count": null,
   "id": "e7080563",
   "metadata": {},
   "outputs": [],
   "source": [
    "import warnings, os\n",
    "import datetime as dt\n",
    "import itertools as it\n",
    "from numpy import nan, inf\n",
    "import numpy as np\n",
    "import pandas as pd\n",
    "\n",
    "warnings.filterwarnings('ignore')\n",
    "pd.set_option('display.width',       None)\n",
    "pd.set_option('display.max_columns', None)"
   ]
  },
  {
   "cell_type": "markdown",
   "id": "947f9e19",
   "metadata": {},
   "source": [
    "# Load"
   ]
  },
  {
   "cell_type": "code",
   "execution_count": null,
   "id": "1972eeeb",
   "metadata": {},
   "outputs": [],
   "source": [
    "Raw = pd.read_csv('Storage/Raw.csv', parse_dates=['datetime'])\n",
    "Raw.head()"
   ]
  },
  {
   "cell_type": "code",
   "execution_count": null,
   "id": "8d67df41",
   "metadata": {},
   "outputs": [],
   "source": [
    "def QUERY_SELECT(Raw, SYMBOLS, TFRAMES):\n",
    "    return Raw[Raw['symbol'].isin(SYMBOLS) & Raw['tf'].isin(TFRAMES)] .reset_index(drop=1)\n",
    "\n",
    "Query = QUERY_SELECT(Raw, SYMBOLS=['WIN$'], TFRAMES=['M5','M15','H1','H3','D1','W1'])\n",
    "Query.head()"
   ]
  },
  {
   "cell_type": "markdown",
   "id": "34e15110",
   "metadata": {},
   "source": [
    "# Data"
   ]
  },
  {
   "cell_type": "code",
   "execution_count": null,
   "id": "eb3a4de9",
   "metadata": {},
   "outputs": [],
   "source": [
    "def FORMAT_SOURCE(Query):\n",
    "    WEEK_DAY = { 'Sunday':1, 'Monday':2, 'Tuesday':3, 'Wednesday':4, 'Thursday':5, 'Friday':6, 'Saturday':7 }\n",
    "\n",
    "    Src = pd.DataFrame()\n",
    "    Src['A']        = Query['a']\n",
    "    Src['Z']        = Query['z']\n",
    "    Src['Symbol']   = Query['symbol']\n",
    "    Src['TF']       = Query['tf']\n",
    "    \n",
    "    Src['Datetime'] = Query['datetime']\n",
    "    Src['Date']     = Query['datetime'].dt.date\n",
    "    Src['Time']     = Query['datetime'].dt.time\n",
    "    Src['Week.Day'] = Query['datetime'].dt.day_name().map(WEEK_DAY)\n",
    "    \n",
    "    Src['Ticks']    = Query['tick_volume']\n",
    "    Src['Volume']   = Query['real_volume']\n",
    "    Src['Price']    = Query['close']\n",
    "    \n",
    "    Src['Open']     = Query['open']\n",
    "    Src['High']     = Query['high']\n",
    "    Src['Low']      = Query['low']\n",
    "    Src['Close']    = Query['close']\n",
    "\n",
    "    Src['Change']   = Src['Close'] - Src['Open']\n",
    "    Src['HL']       = Src['High']  - Src['Low']\n",
    "\n",
    "    Src['Chg Abs']  = Src['Change'].abs() \n",
    "    return Src \n",
    "\n",
    "Src = FORMAT_SOURCE(Query)\n",
    "Src.head()"
   ]
  },
  {
   "cell_type": "code",
   "execution_count": 33,
   "id": "668b46ae",
   "metadata": {},
   "outputs": [
    {
     "data": {
      "text/html": [
       "<div>\n",
       "<style scoped>\n",
       "    .dataframe tbody tr th:only-of-type {\n",
       "        vertical-align: middle;\n",
       "    }\n",
       "\n",
       "    .dataframe tbody tr th {\n",
       "        vertical-align: top;\n",
       "    }\n",
       "\n",
       "    .dataframe thead th {\n",
       "        text-align: right;\n",
       "    }\n",
       "</style>\n",
       "<table border=\"1\" class=\"dataframe\">\n",
       "  <thead>\n",
       "    <tr style=\"text-align: right;\">\n",
       "      <th></th>\n",
       "      <th>HL</th>\n",
       "      <th>Chg Abs</th>\n",
       "    </tr>\n",
       "    <tr>\n",
       "      <th>TF</th>\n",
       "      <th></th>\n",
       "      <th></th>\n",
       "    </tr>\n",
       "  </thead>\n",
       "  <tbody>\n",
       "    <tr>\n",
       "      <th>M5</th>\n",
       "      <td>38</td>\n",
       "      <td>36</td>\n",
       "    </tr>\n",
       "    <tr>\n",
       "      <th>M15</th>\n",
       "      <td>39</td>\n",
       "      <td>36</td>\n",
       "    </tr>\n",
       "    <tr>\n",
       "      <th>H1</th>\n",
       "      <td>39</td>\n",
       "      <td>36</td>\n",
       "    </tr>\n",
       "    <tr>\n",
       "      <th>H3</th>\n",
       "      <td>42</td>\n",
       "      <td>37</td>\n",
       "    </tr>\n",
       "    <tr>\n",
       "      <th>D1</th>\n",
       "      <td>42</td>\n",
       "      <td>40</td>\n",
       "    </tr>\n",
       "    <tr>\n",
       "      <th>W1</th>\n",
       "      <td>42</td>\n",
       "      <td>40</td>\n",
       "    </tr>\n",
       "  </tbody>\n",
       "</table>\n",
       "</div>"
      ],
      "text/plain": [
       "     HL  Chg Abs\n",
       "TF              \n",
       "M5   38       36\n",
       "M15  39       36\n",
       "H1   39       36\n",
       "H3   42       37\n",
       "D1   42       40\n",
       "W1   42       40"
      ]
     },
     "execution_count": 33,
     "metadata": {},
     "output_type": "execute_result"
    }
   ],
   "source": [
    "Src.groupby('TF', sort=0)[['HL','Chg Abs']].apply(lambda S: (S > S.mean()).mean().mul(100).round(0).astype(int))"
   ]
  },
  {
   "cell_type": "code",
   "execution_count": null,
   "id": "33714597",
   "metadata": {},
   "outputs": [],
   "source": []
  },
  {
   "cell_type": "code",
   "execution_count": null,
   "id": "67a54e69",
   "metadata": {},
   "outputs": [],
   "source": []
  },
  {
   "cell_type": "code",
   "execution_count": null,
   "id": "9acbfd43",
   "metadata": {},
   "outputs": [],
   "source": []
  },
  {
   "cell_type": "code",
   "execution_count": null,
   "id": "cc49c9aa",
   "metadata": {},
   "outputs": [],
   "source": []
  },
  {
   "cell_type": "code",
   "execution_count": null,
   "id": "3393c5f5",
   "metadata": {},
   "outputs": [],
   "source": [
    "# def CALCULATIONS(Src):\n",
    "#     Calc = pd.DataFrame(Src)\n",
    "#     Calc['Day Open']    = Calc.groupby(['Symbol','TF','Date'], sort=0)['Open'].transform('first')\n",
    "#     Calc['Day Close']   = Calc.groupby(['Symbol','TF','Date'], sort=0)['Close'].transform('last')\n",
    "#     Calc['ID Chg Bwd']  =                     Calc['Open'] - Calc['Day Open']\n",
    "#     Calc['ID Chg Fwd']  = Calc['Day Close'] - Calc['Open']\n",
    "\n",
    "#     Calc['ID Chg Fwd Abs'] = Calc['ID Chg Fwd'].abs()\n",
    "#     Calc['ID Chg Fwd Pos'] = Calc['ID Chg Fwd'].apply(lambda x: x if (x >= 0) else nan)\n",
    "#     Calc['ID Chg Fwd Neg'] = Calc['ID Chg Fwd'].apply(lambda x: x if (x <  0) else nan)\n",
    "#     return Calc\n",
    "\n",
    "# Calc = CALCULATIONS(Src)\n",
    "# Calc.head()"
   ]
  },
  {
   "cell_type": "code",
   "execution_count": null,
   "id": "4923aa44",
   "metadata": {},
   "outputs": [],
   "source": [
    "# def SIGNALS(Calc):\n",
    "#     Sign = pd.DataFrame(Calc)\n",
    "#     for b in [100, 200, 500, 800, 1000, 1200, 1500, 1800, 2000, 2200, 2500, 2800, 3000, 3200, 3500, 3800, 4000, 4200, 4500, 4800, 5000, 5200, 5500, 5800, 6000]:\n",
    "#         Sign[f'ID Chg Bwd > {b}'] = (Calc['ID Chg Bwd'] > b).astype(int)\n",
    "#     return Sign\n",
    "\n",
    "# Sign = SIGNALS(Calc)\n",
    "# Sign.head()"
   ]
  },
  {
   "cell_type": "markdown",
   "id": "5e218d21",
   "metadata": {},
   "source": [
    "# Stats"
   ]
  },
  {
   "cell_type": "code",
   "execution_count": null,
   "id": "9e803e61",
   "metadata": {},
   "outputs": [],
   "source": []
  },
  {
   "cell_type": "code",
   "execution_count": null,
   "id": "75af3395",
   "metadata": {},
   "outputs": [],
   "source": []
  },
  {
   "cell_type": "code",
   "execution_count": null,
   "id": "1854fd8f",
   "metadata": {},
   "outputs": [],
   "source": []
  },
  {
   "cell_type": "code",
   "execution_count": null,
   "id": "a6ecdf68",
   "metadata": {},
   "outputs": [],
   "source": []
  },
  {
   "cell_type": "code",
   "execution_count": null,
   "id": "379468f2",
   "metadata": {},
   "outputs": [],
   "source": []
  },
  {
   "cell_type": "code",
   "execution_count": null,
   "id": "372010ea",
   "metadata": {},
   "outputs": [],
   "source": [
    "# def CALCULATIONS(Src):\n",
    "#     def _int(x):\n",
    "#         try:    return int(x)\n",
    "#         except: return x\n",
    "        \n",
    "#     Calc = pd.DataFrame(Src)\n",
    "#     Calc['Day Open']        = Calc.groupby(['Symbol','TF','Date'], sort=0)['Open']  .transform('first')\n",
    "#     Calc['Day High']        = Calc.groupby(['Symbol','TF','Date'], sort=0)['High']  .transform('max')\n",
    "#     Calc['Day Low']         = Calc.groupby(['Symbol','TF','Date'], sort=0)['Low']   .transform('min')\n",
    "#     Calc['Day Close']       = Calc.groupby(['Symbol','TF','Date'], sort=0)['Close'] .transform('last')\n",
    "#     Calc['Day Chg']         = Calc['Day Close'] - Calc['Day Open']\n",
    "#     Calc['Day Chg Abs']     = Calc['Day Chg'].abs()\n",
    "\n",
    "#     Calc['Intra High Rank'] = Calc.groupby(['Symbol','TF','Date'], sort=0)['High'].rank(method='dense', ascending=0)\n",
    "#     Calc['Intra Low Rank']  = Calc.groupby(['Symbol','TF','Date'], sort=0)['Low'].rank(method='dense', ascending=1)\n",
    "\n",
    "#     WINS = [0, 100, 200, 500, 800, 1000, 1200, 1500, 1800, 2000, 2200, 2500, 2800, 3000, 3200, 3500, 3800, 4000, 4200, 4500, 4800, 5000, inf]\n",
    "#     for (a,b) in [x for x in pd.Series(WINS).rolling(2) if (len(x) == 2)]:\n",
    "#         Calc[f'Day Chg Abs {_int(a)}-{_int(b)}'] = ((a <= Calc['Day Chg Abs']) & (Calc['Day Chg Abs'] < b)) .astype(int)\n",
    "\n",
    "#     return Calc\n",
    "\n",
    "# Calc = CALCULATIONS(Src)\n",
    "# Calc.head(2)"
   ]
  },
  {
   "cell_type": "code",
   "execution_count": null,
   "id": "864270b3",
   "metadata": {},
   "outputs": [],
   "source": [
    "# def STATS(Calc, bins):\n",
    "#     pipe = []\n",
    "#     for x in bins: \n",
    "#         Df1 = Calc[Calc[x]==1] #.reset_index(drop=1)\n",
    "\n",
    "#         for y in ['High','Low']:\n",
    "#             Df2 = Df1[Df1[f'Intra {y} Rank']==1] \n",
    "\n",
    "#             pipe.append({ 'Bins':x, 'HL':y,\n",
    "#                 'Count':    Df2['Time'].count(),\n",
    "#                 'Time Avg': np.round(Df2['Time'].apply(lambda x: x.hour + x.minute/60).mean(), 1),\n",
    "#                 'Time Max': np.round(Df2['Time'].apply(lambda x: x.hour + x.minute/60).max(), 1),\n",
    "#                 'Time Q3':  np.round(Df2['Time'].apply(lambda x: x.hour + x.minute/60).quantile(.75), 1),\n",
    "#                 'Time Med': np.round(Df2['Time'].apply(lambda x: x.hour + x.minute/60).median(), 1),\n",
    "#                 'Time Q1':  np.round(Df2['Time'].apply(lambda x: x.hour + x.minute/60).quantile(.25), 1),\n",
    "#                 'Time Min': np.round(Df2['Time'].apply(lambda x: x.hour + x.minute/60).min(), 1),\n",
    "#             })\n",
    "#         pass\n",
    "#     pass\n",
    "#     return pd.DataFrame(pipe)\n",
    "\n",
    "\n",
    "# Sts = STATS(Calc, bins=Calc.loc[:, f'Day Chg Abs 0-100':f'Day Chg Abs 5000-inf'].columns)\n",
    "# Sts"
   ]
  }
 ],
 "metadata": {
  "kernelspec": {
   "display_name": "Python 3",
   "language": "python",
   "name": "python3"
  },
  "language_info": {
   "codemirror_mode": {
    "name": "ipython",
    "version": 3
   },
   "file_extension": ".py",
   "mimetype": "text/x-python",
   "name": "python",
   "nbconvert_exporter": "python",
   "pygments_lexer": "ipython3",
   "version": "3.13.3"
  }
 },
 "nbformat": 4,
 "nbformat_minor": 5
}
