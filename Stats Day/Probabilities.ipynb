{
 "cells": [
  {
   "cell_type": "code",
   "execution_count": null,
   "id": "e7080563",
   "metadata": {},
   "outputs": [],
   "source": [
    "import warnings, os\n",
    "import datetime as dt\n",
    "import itertools as it\n",
    "from numpy import nan, inf\n",
    "import numpy as np\n",
    "import pandas as pd\n",
    "\n",
    "warnings.filterwarnings('ignore')\n",
    "pd.set_option('display.width',       None)\n",
    "pd.set_option('display.max_columns', None)"
   ]
  },
  {
   "cell_type": "markdown",
   "id": "947f9e19",
   "metadata": {},
   "source": [
    "# Load"
   ]
  },
  {
   "cell_type": "code",
   "execution_count": null,
   "id": "1972eeeb",
   "metadata": {},
   "outputs": [],
   "source": [
    "Raw = pd.read_csv('Storage/Raw.csv', parse_dates=['datetime'])\n",
    "Raw.head()"
   ]
  },
  {
   "cell_type": "code",
   "execution_count": null,
   "id": "9c9fb296",
   "metadata": {},
   "outputs": [],
   "source": [
    "def QUERY_SELECT(Raw, SYMBOLS, TFRAMES):\n",
    "    return Raw[Raw['symbol'].isin(SYMBOLS) & Raw['tf'].isin(TFRAMES)] .reset_index(drop=1)\n",
    "\n",
    "Query = QUERY_SELECT(Raw, SYMBOLS=['WIN$'], TFRAMES=['D1'])\n",
    "Query.head()"
   ]
  },
  {
   "cell_type": "markdown",
   "id": "b9e249e7",
   "metadata": {},
   "source": [
    "# Data"
   ]
  },
  {
   "cell_type": "code",
   "execution_count": null,
   "id": "eb3a4de9",
   "metadata": {},
   "outputs": [],
   "source": [
    "def FORMAT_SOURCE(Query):\n",
    "    Src = pd.DataFrame()\n",
    "    Src[['A','Z']]                      = Query[['a','z']]\n",
    "    Src[['Symbol','TF']]                = Query[['symbol','tf']]\n",
    "    Src['Datetime']                     = Query['datetime']\n",
    "    Src[['Ticks','Volume']]             = Query[['tick_volume','real_volume']]\n",
    "    Src[['Open','High','Low','Close']]  = Query[['open','high','low','close']]\n",
    "    Src[['Price']]                      = Query[['close']]\n",
    "\n",
    "    Src['Hilo']     = Src['High']  - Src['Low']\n",
    "    Src['Change']   = Src['Close'] - Src['Open']\n",
    "    Src['Chg Abs']  = Src['Change'].abs()\n",
    "    return Src \n",
    "\n",
    "Src = FORMAT_SOURCE(Query)\n",
    "Src.head()"
   ]
  },
  {
   "cell_type": "code",
   "execution_count": null,
   "id": "040329af",
   "metadata": {},
   "outputs": [],
   "source": [
    "def CALCULATIONS(Src):\n",
    "    # ================ Helpers ================ #\n",
    "    def _int(x):\n",
    "        try:    return int(x)\n",
    "        except: return x\n",
    "\n",
    "    # ================ Main ================ #\n",
    "    Calc = pd.DataFrame(Src)\n",
    "\n",
    "    BINS_CHG = [100, 200, 500, 800, 1000, 1200, 1500, 1800, 2000, 2200, 2500, 2800, 3000, 3200, 3500, 3800, 4000, 4200, 4500, 4800, 5000, 5500, 6000, 6500, 7000, 7500, 8000]\n",
    "    BINS_HL  = [500, 1000, 1500, 2000, 2500, 3000, 3500, 4000, 4500, 5000, 5500, 6000, 6500, 7000, 7500, 8000, 8500]\n",
    "\n",
    "    for b in BINS_CHG:  Calc[f'Chg Abs > {b}'] = (Calc['Chg Abs'] > b) \n",
    "    for b in BINS_HL:   Calc[f'Hilo > {b}']    = (Calc['Hilo']    > b) \n",
    "\n",
    "\n",
    "    for (A,Z) in [x for x in pd.Series([0, *BINS_CHG, inf]).rolling(2) if (len(x) == 2)]:\n",
    "        Calc[f'Chg Abs {_int(A)}-{_int(Z)}'] = (A <= Calc['Chg Abs']) & (Calc['Chg Abs'] < Z)\n",
    "\n",
    "    for (A,Z) in [x for x in pd.Series([0, *BINS_HL, inf]).rolling(2) if (len(x) == 2)]:\n",
    "        Calc[f'Hilo {_int(A)}-{_int(Z)}'] = (A <= Calc['Hilo']) & (Calc['Hilo'] < Z)\n",
    "\n",
    "    return Calc\n",
    "\n",
    "Calc = CALCULATIONS(Src)\n",
    "Calc.head()"
   ]
  },
  {
   "cell_type": "markdown",
   "id": "a056acbe",
   "metadata": {},
   "source": [
    "# Stats"
   ]
  },
  {
   "cell_type": "code",
   "execution_count": 12,
   "id": "1ee8fc4a",
   "metadata": {},
   "outputs": [
    {
     "data": {
      "text/plain": [
       "Chg Abs > 100     95.0\n",
       "Chg Abs > 200     89.5\n",
       "Chg Abs > 500     75.3\n",
       "Chg Abs > 800     62.7\n",
       "Chg Abs > 1000    52.0\n",
       "Chg Abs > 1200    44.7\n",
       "Chg Abs > 1500    34.5\n",
       "Chg Abs > 1800    26.0\n",
       "Chg Abs > 2000    21.6\n",
       "Chg Abs > 2200    18.4\n",
       "Chg Abs > 2500    13.7\n",
       "Chg Abs > 2800    10.0\n",
       "Chg Abs > 3000     8.8\n",
       "Chg Abs > 3200     6.9\n",
       "Chg Abs > 3500     4.8\n",
       "Chg Abs > 3800     3.2\n",
       "Chg Abs > 4000     2.7\n",
       "Chg Abs > 4200     2.0\n",
       "Chg Abs > 4500     1.4\n",
       "Chg Abs > 4800     1.0\n",
       "Chg Abs > 5000     0.8\n",
       "Chg Abs > 5500     0.4\n",
       "Chg Abs > 6000     0.1\n",
       "Chg Abs > 6500     0.1\n",
       "Chg Abs > 7000     0.1\n",
       "Chg Abs > 7500     0.1\n",
       "Chg Abs > 8000     0.0\n",
       "dtype: float64"
      ]
     },
     "execution_count": 12,
     "metadata": {},
     "output_type": "execute_result"
    }
   ],
   "source": [
    "Calc.loc[:, 'Chg Abs > 100':  'Chg Abs > 8000'].mean().mul(100).round(1)"
   ]
  },
  {
   "cell_type": "code",
   "execution_count": 13,
   "id": "254b1eba",
   "metadata": {},
   "outputs": [
    {
     "data": {
      "text/plain": [
       "Hilo > 500     100.0\n",
       "Hilo > 1000     97.7\n",
       "Hilo > 1500     83.9\n",
       "Hilo > 2000     62.4\n",
       "Hilo > 2500     43.4\n",
       "Hilo > 3000     28.1\n",
       "Hilo > 3500     17.0\n",
       "Hilo > 4000     11.5\n",
       "Hilo > 4500      7.2\n",
       "Hilo > 5000      3.9\n",
       "Hilo > 5500      2.0\n",
       "Hilo > 6000      1.0\n",
       "Hilo > 6500      0.6\n",
       "Hilo > 7000      0.6\n",
       "Hilo > 7500      0.4\n",
       "Hilo > 8000      0.1\n",
       "Hilo > 8500      0.0\n",
       "dtype: float64"
      ]
     },
     "execution_count": 13,
     "metadata": {},
     "output_type": "execute_result"
    }
   ],
   "source": [
    "Calc.loc[:,    'Hilo > 500':     'Hilo > 8500'].mean().mul(100).round(1)"
   ]
  },
  {
   "cell_type": "code",
   "execution_count": 14,
   "metadata": {},
   "outputs": [
    {
     "data": {
      "text/plain": [
       "Chg Abs 0-100         4.9\n",
       "Chg Abs 100-200       5.5\n",
       "Chg Abs 200-500      14.2\n",
       "Chg Abs 500-800      12.7\n",
       "Chg Abs 800-1000     10.6\n",
       "Chg Abs 1000-1200     7.4\n",
       "Chg Abs 1200-1500    10.2\n",
       "Chg Abs 1500-1800     8.4\n",
       "Chg Abs 1800-2000     4.4\n",
       "Chg Abs 2000-2200     3.3\n",
       "Chg Abs 2200-2500     4.7\n",
       "Chg Abs 2500-2800     3.6\n",
       "Chg Abs 2800-3000     1.3\n",
       "Chg Abs 3000-3200     1.8\n",
       "Chg Abs 3200-3500     2.1\n",
       "Chg Abs 3500-3800     1.6\n",
       "Chg Abs 3800-4000     0.5\n",
       "Chg Abs 4000-4200     0.7\n",
       "Chg Abs 4200-4500     0.6\n",
       "Chg Abs 4500-4800     0.4\n",
       "Chg Abs 4800-5000     0.2\n",
       "Chg Abs 5000-5500     0.4\n",
       "Chg Abs 5500-6000     0.3\n",
       "Chg Abs 6000-6500     0.0\n",
       "Chg Abs 6500-7000     0.0\n",
       "Chg Abs 7000-7500     0.0\n",
       "Chg Abs 7500-8000     0.1\n",
       "Chg Abs 8000-inf      0.0\n",
       "dtype: float64"
      ]
     },
     "execution_count": 14,
     "metadata": {},
     "output_type": "execute_result"
    }
   ],
   "source": [
    "Calc.loc[:, 'Chg Abs 0-100':'Chg Abs 8000-inf'].mean().mul(100).round(1)"
   ]
  },
  {
   "cell_type": "code",
   "execution_count": 15,
   "metadata": {},
   "outputs": [
    {
     "data": {
      "text/plain": [
       "Hilo 0-500         0.0\n",
       "Hilo 500-1000      2.3\n",
       "Hilo 1000-1500    13.8\n",
       "Hilo 1500-2000    21.4\n",
       "Hilo 2000-2500    19.0\n",
       "Hilo 2500-3000    15.3\n",
       "Hilo 3000-3500    11.1\n",
       "Hilo 3500-4000     5.5\n",
       "Hilo 4000-4500     4.3\n",
       "Hilo 4500-5000     3.3\n",
       "Hilo 5000-5500     1.9\n",
       "Hilo 5500-6000     1.0\n",
       "Hilo 6000-6500     0.4\n",
       "Hilo 6500-7000     0.1\n",
       "Hilo 7000-7500     0.2\n",
       "Hilo 7500-8000     0.3\n",
       "Hilo 8000-8500     0.1\n",
       "Hilo 8500-inf      0.0\n",
       "dtype: float64"
      ]
     },
     "execution_count": 15,
     "metadata": {},
     "output_type": "execute_result"
    }
   ],
   "source": [
    "Calc.loc[:,    'Hilo 0-500':   'Hilo 8500-inf'].mean().mul(100).round(1)"
   ]
  },
  {
   "cell_type": "markdown",
   "id": "0b90e947",
   "metadata": {},
   "source": [
    "# Snippets"
   ]
  },
  {
   "cell_type": "code",
   "execution_count": null,
   "id": "4f2afc37",
   "metadata": {},
   "outputs": [],
   "source": [
    "def FORMAT_SOURCE(Query):\n",
    "    Src = pd.DataFrame()\n",
    "    Src['Hilo']     = Src['High']  - Src['Low']\n",
    "    Src['Change']   = Src['Close'] - Src['Open']\n",
    "    Src['Chg Abs']  = Src['Change'].abs()\n",
    "    return Src \n",
    "\n",
    "def CALCULATIONS(Src):\n",
    "    Calc = pd.DataFrame(Src)\n",
    "    BINS_CHG = [100, 200, 500, 800, 1000, 1200, 1500, 1800, 2000, 2200, 2500, ...]\n",
    "    BINS_HL  = [500, 1000, 1500, 2000, 2500, 3000, 3500, 4000, 4500, 5000, 5500, ...]\n",
    "\n",
    "    for b in BINS_CHG:  Calc[f'Chg Abs > {b}'] = (Calc['Chg Abs'] > b) \n",
    "    for b in BINS_HL:   Calc[f'Hilo > {b}']    = (Calc['Hilo']    > b) \n",
    "\n",
    "    for (A,Z) in [x for x in pd.Series([0, *BINS_CHG, inf]).rolling(2) if (len(x)==2)]:\n",
    "        Calc[f'Chg Abs {_int(A)}-{_int(Z)}'] = (A <= Calc['Chg Abs']) & (Calc['Chg Abs'] < Z)\n",
    "\n",
    "    for (A,Z) in [x for x in pd.Series([0, *BINS_HL, inf]).rolling(2) if (len(x)==2)]:\n",
    "        Calc[f'Hilo {_int(A)}-{_int(Z)}'] = (A <= Calc['Hilo']) & (Calc['Hilo'] < Z)\n",
    "\n",
    "    return Calc\n",
    "\n",
    "\n",
    "Calc.loc[:,    'Hilo > 500':     'Hilo > 8500'].mean().mul(100).round(1)\n",
    "Calc.loc[:, 'Chg Abs > 100':  'Chg Abs > 8000'].mean().mul(100).round(1)\n",
    "Calc.loc[:,    'Hilo 0-500':   'Hilo 8500-inf'].mean().mul(100).round(1)\n",
    "Calc.loc[:, 'Chg Abs 0-100':'Chg Abs 8000-inf'].mean().mul(100).round(1)"
   ]
  }
 ],
 "metadata": {
  "kernelspec": {
   "display_name": "Python 3",
   "language": "python",
   "name": "python3"
  },
  "language_info": {
   "codemirror_mode": {
    "name": "ipython",
    "version": 3
   },
   "file_extension": ".py",
   "mimetype": "text/x-python",
   "name": "python",
   "nbconvert_exporter": "python",
   "pygments_lexer": "ipython3",
   "version": "3.13.3"
  }
 },
 "nbformat": 4,
 "nbformat_minor": 5
}
