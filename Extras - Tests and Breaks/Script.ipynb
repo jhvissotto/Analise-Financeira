{
 "cells": [
  {
   "cell_type": "code",
   "execution_count": null,
   "id": "353b736c",
   "metadata": {},
   "outputs": [],
   "source": [
    "import warnings\n",
    "from numpy import nan, inf, exp, log\n",
    "import pandas as pd\n",
    "\n",
    "warnings.filterwarnings('ignore')\n",
    "pd.set_option('display.width',       None)\n",
    "pd.set_option('display.max_columns', None)"
   ]
  },
  {
   "cell_type": "markdown",
   "id": "f3ba0b92",
   "metadata": {},
   "source": [
    "# Load"
   ]
  },
  {
   "cell_type": "code",
   "execution_count": null,
   "id": "58949594",
   "metadata": {},
   "outputs": [],
   "source": [
    "Raw = pd.read_csv('Metatrader_WINN_M15 (After Covid).csv', parse_dates=['datetime'])\n",
    "Raw.head()"
   ]
  },
  {
   "cell_type": "code",
   "execution_count": null,
   "metadata": {},
   "outputs": [],
   "source": [
    "def QUERY_SELECT(Raw, SYMBOLS, TFRAMES):\n",
    "    return Raw[Raw['symbol'].isin(SYMBOLS) & Raw['tf'].isin(TFRAMES)] .reset_index(drop=1)\n",
    "\n",
    "Query = QUERY_SELECT(Raw, SYMBOLS=['WIN$N'], TFRAMES=['M15'])\n",
    "Query.head()"
   ]
  },
  {
   "cell_type": "code",
   "execution_count": null,
   "id": "ce9c0870",
   "metadata": {},
   "outputs": [],
   "source": [
    "def FORMAT_SOURCE(Query):\n",
    "    Src = pd.DataFrame()\n",
    "    Src[['A','Z']]          = Query[['a','z']]\n",
    "    Src[['Symbol','TF']]    = Query[['symbol','tf']]\n",
    "\n",
    "    Src['Datetime']         = Query['datetime']\n",
    "    Src['Date']             = Query['datetime'].dt.date\n",
    "    Src['Time']             = Query['datetime'].dt.time\n",
    "    Src['Time%']            = Query['datetime'].dt.time.apply(lambda x: x.hour + x.minute/60)\n",
    "\n",
    "    Src_by2                 = Src.groupby(['Symbol','TF'],        sort=0, group_keys=0)\n",
    "    Src_by3                 = Src.groupby(['Symbol','TF','Date'], sort=0, group_keys=0)\n",
    "\n",
    "    Src['D']                = (+1) * Src_by2['Date'].rank(method='dense')\n",
    "    Src['T']                = (-1) * Src_by3['Time'].rank(method='dense', ascending=False)\n",
    "    \n",
    "    Src[['Ticks','Volume']]             = Query[['tick_volume','real_volume']]\n",
    "    Src[['Open','High','Low','Close']]  = Query[['open','high','low','close']]\n",
    "    Src[['Price']]                      = Query[['close']]\n",
    "    return Src \n",
    "\n",
    "Src = FORMAT_SOURCE(Query)\n",
    "Src.head()"
   ]
  },
  {
   "cell_type": "markdown",
   "id": "37fea612",
   "metadata": {},
   "source": [
    "# Data"
   ]
  },
  {
   "cell_type": "code",
   "execution_count": null,
   "id": "62cb28c4",
   "metadata": {},
   "outputs": [],
   "source": [
    "def CALCULATIONS(Src):\n",
    "    # ================ Helpers ================ #\n",
    "    def _over(Df, Ref, val, Col, get, alt=nan):\n",
    "        try:    return Df[Df[Ref]==val][Col].iloc[get]\n",
    "        except: return alt\n",
    "\n",
    "    # ================ Main ================ #\n",
    "    Calc = pd.DataFrame(Src)\n",
    "    Calc_by = Calc.groupby(['Symbol','TF','Date'], sort=0, group_keys=0)\n",
    "\n",
    "\n",
    "    Calc['Day Open']        = Calc_by['Open']   .transform('first')\n",
    "    Calc['Day High']        = Calc_by['High']   .transform('max')\n",
    "    Calc['Day Low']         = Calc_by['Low']    .transform('min')\n",
    "    Calc['Day Close']       = Calc_by['Close']  .transform('last')\n",
    "\n",
    "    Calc['Day Change']      = (Calc['Day Close'] - Calc['Day Open'])\n",
    "    Calc['Day Variat']      = (Calc['Day Close'] / Calc['Day Open']) *100-100\n",
    "    Calc['Day Hilo']        = (Calc['Day High']  - Calc['Day Low'])\n",
    "\n",
    "    Calc['Day High Rnk']    = Calc_by['High']  .rank(ascending=False)\n",
    "    Calc['Day Low Rnk']     = Calc_by['Low']   .rank(ascending=True)\n",
    "\n",
    "\n",
    "    Calc['Prev Open']       = Calc.apply(lambda row: _over(Calc, Ref='D', val=(row['D']-1), Col='Day Open',  get=(-1)), axis=1)\n",
    "    Calc['Prev High']       = Calc.apply(lambda row: _over(Calc, Ref='D', val=(row['D']-1), Col='Day High',  get=(-1)), axis=1)\n",
    "    Calc['Prev Low']        = Calc.apply(lambda row: _over(Calc, Ref='D', val=(row['D']-1), Col='Day Low',   get=(-1)), axis=1)\n",
    "    Calc['Prev Close']      = Calc.apply(lambda row: _over(Calc, Ref='D', val=(row['D']-1), Col='Day Close', get=(-1)), axis=1)\n",
    "\n",
    "    Calc['Prev Change']     = (Calc['Prev Close'] - Calc['Prev Open'])\n",
    "    Calc['Prev Variat']     = (Calc['Prev Close'] / Calc['Prev Open']) *100-100\n",
    "    Calc['Prev Hilo']       = (Calc['Prev High']  - Calc['Prev Low'])\n",
    "\n",
    "\n",
    "    Calc['ID High Cumax']   = Calc_by['High'] .expanding().max()      .reset_index(drop=1)\n",
    "    Calc['ID Low Cumin']    = Calc_by['Low']  .expanding().min()      .reset_index(drop=1)\n",
    "\n",
    "    Calc['Test Up']         = (Calc['High']    - Calc['Prev High']) .apply(lambda x: 0 if (x < 0) else x)\n",
    "    Calc['Test Down']       = (Calc['Prev Low'] - Calc['Low'])      .apply(lambda x: 0 if (x < 0) else x)\n",
    "\n",
    "    Calc['ID Test Up Rnk']   = Calc_by['Test Up']    .rank(method='dense').sub(1)\n",
    "    Calc['ID Test Down Rnk'] = Calc_by['Test Down']  .rank(method='dense').sub(1)\n",
    "    return Calc\n",
    "\n",
    "Calc = CALCULATIONS(Src)\n",
    "Calc.head()"
   ]
  },
  {
   "cell_type": "code",
   "execution_count": null,
   "id": "78d9029b",
   "metadata": {},
   "outputs": [],
   "source": [
    "# Calc.to_csv('Cache/Calc.csv', index=False)\n",
    "# Calc = pd.read_csv('Cache/Calc.csv')\n",
    "# Calc.head()"
   ]
  },
  {
   "cell_type": "code",
   "execution_count": null,
   "id": "8b531a44",
   "metadata": {},
   "outputs": [],
   "source": [
    "BINS_DIF = [500,700,1000,1300,1600,1900,2200,2500,2800,3100,3500,4000,4500,5000,inf]\n",
    "BINS_VAR = [-inf, -5.00, -3.00, -2.00, -1.50, -1.00, -0.75, -0.50, -0.25, 0, +0.25, +0.50, +0.75, +1.00, +1.50, +2.00, +3.00, +5.00, +inf]"
   ]
  },
  {
   "cell_type": "code",
   "execution_count": null,
   "id": "c5ba6183",
   "metadata": {},
   "outputs": [],
   "source": [
    "def SIGNALS(Calc):\n",
    "    # ================ Helpers ================ #\n",
    "    def _int(x):\n",
    "        try:    return int(x)\n",
    "        except: return x\n",
    "\n",
    "    # ================ Main ================ #\n",
    "    Sign = pd.DataFrame(Calc)\n",
    "    Sign['True']  = True\n",
    "    Sign['False'] = False\n",
    "\n",
    "\n",
    "    Sign['Day Is Bull']  =  Sign['Day Change'].apply(lambda x: x >= 0)\n",
    "    Sign['Day Is Bear']  =  Sign['Day Change'].apply(lambda x: x <  0)\n",
    "\n",
    "    Sign['Prev Is Bull'] = Sign['Prev Change'].apply(lambda x: x >= 0)\n",
    "    Sign['Prev Is Bear'] = Sign['Prev Change'].apply(lambda x: x <  0)\n",
    "\n",
    "\n",
    "\n",
    "    for (a,b) in [win for win in pd.Series(BINS_DIF).rolling(2) if len(win) >= 2]:\n",
    "        Sign[f'Prev Hilo {_int(a)}-{_int(b)}'] = (a < Sign['Prev Hilo']) & (Sign['Prev Hilo'] < b)\n",
    "\n",
    "\n",
    "    for (a,b) in [win for win in pd.Series(BINS_VAR).rolling(2) if len(win) >= 2]:\n",
    "        Sign[f'Prev Variat {a}  –  {b}'] = (a < Sign['Prev Variat']) & (Sign['Prev Variat'] < b)\n",
    "\n",
    "\n",
    "\n",
    "    for OHLC in ['Open','High','Low','Close']:\n",
    "        Sign[f'{OHLC} Out Max'] =                                                  (             Sign['Prev High'] < Sign[OHLC])\n",
    "        Sign[f'{OHLC} In Max']  =                                                  (Sign[OHLC] < Sign['Prev High']             )\n",
    "        Sign[f'{OHLC} Inside']  = (             Sign['Prev Low'] < Sign[OHLC])  &  (Sign[OHLC] < Sign['Prev High']             )\n",
    "        Sign[f'{OHLC} In Min']  = (             Sign['Prev Low'] < Sign[OHLC])\n",
    "        Sign[f'{OHLC} Out Min'] = (Sign[OHLC] < Sign['Prev Low']             )\n",
    "\n",
    "\n",
    "    for OHLC in ['Open','High','Low','Close']:\n",
    "        Sign[f'Day {OHLC} Out Max'] =                                                                    (                      Sign['Prev High'] < Sign[f'Day {OHLC}'])\n",
    "        Sign[f'Day {OHLC} In Max']  =                                                                    (Sign[f'Day {OHLC}'] < Sign['Prev High']                      )\n",
    "        Sign[f'Day {OHLC} Inside']  = (                      Sign['Prev Low'] < Sign[f'Day {OHLC}'])  &  (Sign[f'Day {OHLC}'] < Sign['Prev High']                      )\n",
    "        Sign[f'Day {OHLC} In Min']  = (                      Sign['Prev Low'] < Sign[f'Day {OHLC}'])\n",
    "        Sign[f'Day {OHLC} Out Min'] = (Sign[f'Day {OHLC}'] < Sign['Prev Low']                      )\n",
    "\n",
    "    return Sign\n",
    "\n",
    "Sign = SIGNALS(Calc)\n",
    "Sign.head()"
   ]
  },
  {
   "cell_type": "markdown",
   "id": "4b2f2cb9",
   "metadata": {},
   "source": [
    "# Stats"
   ]
  },
  {
   "cell_type": "code",
   "execution_count": null,
   "id": "af50a846",
   "metadata": {},
   "outputs": [],
   "source": [
    "def STATS(Sign, BINS, conds, rank):\n",
    "    # ================ Helpers ================ #\n",
    "    def _to_clock(x): return round(x//1 + x%1 * 60/100, 2)\n",
    "\n",
    "    # ================ Main ================ #\n",
    "    pipe = []\n",
    "    for b in BINS: \n",
    "        Df = Sign[Sign[b] & Sign[conds].all(1) & (Sign[rank]==1)]\n",
    "        pipe.append({ 'Condition':b, **Df['Time%'].describe().apply(_to_clock).fillna('') }) \n",
    "    pass\n",
    "    return pd.DataFrame(pipe)"
   ]
  },
  {
   "cell_type": "markdown",
   "id": "bbf72a77",
   "metadata": {},
   "source": [
    "# Testes e Romps (Dias Pos)"
   ]
  },
  {
   "cell_type": "code",
   "execution_count": null,
   "id": "da690450",
   "metadata": {},
   "outputs": [],
   "source": [
    "BINS = Sign.loc[:, f'Prev Hilo 500-700':f'Prev Hilo 5000-inf'].columns"
   ]
  },
  {
   "cell_type": "markdown",
   "id": "061be5bb",
   "metadata": {},
   "source": [
    "Horário Médio que fez máxima do dia"
   ]
  },
  {
   "cell_type": "code",
   "execution_count": null,
   "id": "b518e20e",
   "metadata": {},
   "outputs": [],
   "source": [
    "STATS(Sign, BINS, conds=['Prev Is Bull'], rank='Day High Rnk')"
   ]
  },
  {
   "cell_type": "markdown",
   "id": "d86b25fc",
   "metadata": {},
   "source": [
    "Horário Médio que fez mínima do dia"
   ]
  },
  {
   "cell_type": "code",
   "execution_count": null,
   "id": "9da9fa60",
   "metadata": {},
   "outputs": [],
   "source": [
    "STATS(Sign, BINS, conds=['Prev Is Bull'], rank='Day Low Rnk')"
   ]
  },
  {
   "cell_type": "markdown",
   "id": "2ffc7ce2",
   "metadata": {},
   "source": [
    "Testou a mínima no horário médio de:"
   ]
  },
  {
   "cell_type": "code",
   "execution_count": null,
   "id": "4fb1b45a",
   "metadata": {},
   "outputs": [],
   "source": [
    "STATS(Sign, BINS, conds=['Prev Is Bull', 'Low Out Min', 'Day Close In Min'], rank='ID Test Down Rnk')"
   ]
  },
  {
   "cell_type": "markdown",
   "id": "b9162228",
   "metadata": {},
   "source": [
    "Testou a máxima no horário médio de:"
   ]
  },
  {
   "cell_type": "code",
   "execution_count": null,
   "id": "21fc899a",
   "metadata": {},
   "outputs": [],
   "source": [
    "STATS(Sign, BINS, conds=['Prev Is Bull', 'High Out Max', 'Day Close In Max'], rank='ID Test Up Rnk')"
   ]
  },
  {
   "cell_type": "markdown",
   "id": "fb25e91b",
   "metadata": {},
   "source": [
    "Fechou abaixo da mínima de ontem e fez máxima na hora média de"
   ]
  },
  {
   "cell_type": "code",
   "execution_count": null,
   "id": "73b12a82",
   "metadata": {},
   "outputs": [],
   "source": [
    "STATS(Sign, BINS, conds=['Prev Is Bull', 'High Out Max', 'Day Close Out Min'], rank='Day High Rnk')"
   ]
  },
  {
   "cell_type": "markdown",
   "id": "a1dbe26c",
   "metadata": {},
   "source": [
    "Fechou abaixo da mínima de ontem e fez mínima na hora média de:"
   ]
  },
  {
   "cell_type": "code",
   "execution_count": null,
   "metadata": {},
   "outputs": [],
   "source": [
    "STATS(Sign, BINS, conds=['Prev Is Bull', 'Low Out Min', 'Day Close Out Min'], rank='Day Low Rnk')"
   ]
  },
  {
   "cell_type": "markdown",
   "id": "018d2a5a",
   "metadata": {},
   "source": [
    "Fechou acima da máxima de ontem e fez mínima na hora média de:"
   ]
  },
  {
   "cell_type": "code",
   "execution_count": null,
   "metadata": {},
   "outputs": [],
   "source": [
    "STATS(Sign, BINS, conds=['Prev Is Bull', 'Low Out Min', 'Day Close Out Max'], rank='Day Low Rnk')"
   ]
  },
  {
   "cell_type": "markdown",
   "id": "ffa2e439",
   "metadata": {},
   "source": [
    "Fechou acima da máxima de ontem e fez máxima na hora média de:"
   ]
  },
  {
   "cell_type": "code",
   "execution_count": null,
   "id": "3e125297",
   "metadata": {},
   "outputs": [],
   "source": [
    "STATS(Sign, BINS, conds=['Prev Is Bull', 'High Out Max', 'Day Close Out Max'], rank='Day High Rnk')"
   ]
  },
  {
   "cell_type": "markdown",
   "id": "2587a212",
   "metadata": {},
   "source": [
    "# Testes e Romps (Dias Neg)"
   ]
  },
  {
   "cell_type": "markdown",
   "id": "49f6aa95",
   "metadata": {},
   "source": [
    "Horário Médio que fez máxima do dia"
   ]
  },
  {
   "cell_type": "code",
   "execution_count": null,
   "id": "ab7ff372",
   "metadata": {},
   "outputs": [],
   "source": [
    "STATS(Sign, BINS, conds=['Prev Is Bear'], rank='Day High Rnk')"
   ]
  },
  {
   "cell_type": "markdown",
   "id": "1b911b35",
   "metadata": {},
   "source": [
    "Horário Médio que fez mínima do dia"
   ]
  },
  {
   "cell_type": "code",
   "execution_count": null,
   "metadata": {},
   "outputs": [],
   "source": [
    "STATS(Sign, BINS, conds=['Prev Is Bear'], rank='Day Low Rnk')"
   ]
  },
  {
   "cell_type": "markdown",
   "id": "1c2a348d",
   "metadata": {},
   "source": [
    "Testou a mínima no horário médio de:"
   ]
  },
  {
   "cell_type": "code",
   "execution_count": null,
   "id": "f20f2e81",
   "metadata": {},
   "outputs": [],
   "source": [
    "STATS(Sign, BINS, conds=['Prev Is Bear', 'Low Out Min', 'Day Close In Min'], rank='ID Test Down Rnk')"
   ]
  },
  {
   "cell_type": "markdown",
   "id": "eb18c608",
   "metadata": {},
   "source": [
    "Testou a máxima no horário médio de:"
   ]
  },
  {
   "cell_type": "code",
   "execution_count": null,
   "id": "ee101d4c",
   "metadata": {},
   "outputs": [],
   "source": [
    "STATS(Sign, BINS, conds=['Prev Is Bear', 'High Out Max', 'Day Close In Max'], rank='ID Test Up Rnk')"
   ]
  },
  {
   "cell_type": "markdown",
   "id": "bb366a6a",
   "metadata": {},
   "source": [
    "Fechou abaixo da mínima de ontem e fez máxima na hora média de"
   ]
  },
  {
   "cell_type": "code",
   "execution_count": null,
   "id": "745924b3",
   "metadata": {},
   "outputs": [],
   "source": [
    "STATS(Sign, BINS, conds=['Prev Is Bear', 'High Out Max', 'Day Close Out Min'], rank='Day High Rnk')"
   ]
  },
  {
   "cell_type": "markdown",
   "id": "c33c0954",
   "metadata": {},
   "source": [
    "Fechou abaixo da mínima de ontem e fez mínima na hora média de:"
   ]
  },
  {
   "cell_type": "code",
   "execution_count": null,
   "id": "9e3632bd",
   "metadata": {},
   "outputs": [],
   "source": [
    "STATS(Sign, BINS, conds=['Prev Is Bear', 'Low Out Min', 'Day Close Out Min'], rank='Day Low Rnk')"
   ]
  },
  {
   "cell_type": "markdown",
   "id": "7e93b470",
   "metadata": {},
   "source": [
    "Fechou acima da máxima de ontem e fez mínima na hora média de:"
   ]
  },
  {
   "cell_type": "code",
   "execution_count": null,
   "id": "1619ef9a",
   "metadata": {},
   "outputs": [],
   "source": [
    "STATS(Sign, BINS, conds=['Prev Is Bear', 'Low Out Min', 'Day Close Out Max'], rank='Day Low Rnk')"
   ]
  },
  {
   "cell_type": "markdown",
   "id": "f126456b",
   "metadata": {},
   "source": [
    "Fechou acima da máxima de ontem e fez máxima na hora média de:"
   ]
  },
  {
   "cell_type": "code",
   "execution_count": null,
   "id": "53667aa0",
   "metadata": {},
   "outputs": [],
   "source": [
    "STATS(Sign, BINS, conds=['Prev Is Bear', 'High Out Max', 'Day Close Out Max'], rank='Day High Rnk')"
   ]
  },
  {
   "cell_type": "markdown",
   "id": "b15d99df",
   "metadata": {},
   "source": [
    "# Testes e Romps (Variat)"
   ]
  },
  {
   "cell_type": "code",
   "execution_count": null,
   "id": "aa1a1cce",
   "metadata": {},
   "outputs": [],
   "source": [
    "BINS = Sign.loc[:, f'Prev Variat -inf  –  -5.0':f'Prev Variat 5.0  –  inf'].columns[::-1]"
   ]
  },
  {
   "cell_type": "markdown",
   "id": "da0d26dd",
   "metadata": {},
   "source": [
    "Horário Médio que fez máxima do dia"
   ]
  },
  {
   "cell_type": "code",
   "execution_count": null,
   "id": "e52314e2",
   "metadata": {},
   "outputs": [],
   "source": [
    "STATS(Sign, BINS, conds=['True'], rank='Day High Rnk')"
   ]
  },
  {
   "cell_type": "markdown",
   "id": "02e9fd42",
   "metadata": {},
   "source": [
    "Horário Médio que fez mínima do dia"
   ]
  },
  {
   "cell_type": "code",
   "execution_count": null,
   "id": "2c996ba7",
   "metadata": {},
   "outputs": [],
   "source": [
    "STATS(Sign, BINS, conds=['True'], rank='Day Low Rnk')"
   ]
  },
  {
   "cell_type": "markdown",
   "id": "04c5fcff",
   "metadata": {},
   "source": [
    "Testou a mínima no horário médio de:"
   ]
  },
  {
   "cell_type": "code",
   "execution_count": null,
   "id": "6f5e2910",
   "metadata": {},
   "outputs": [],
   "source": [
    "STATS(Sign, BINS, conds=['Low Out Min', 'Close In Min'], rank='ID Test Down Rnk')"
   ]
  },
  {
   "cell_type": "markdown",
   "id": "6bb42894",
   "metadata": {},
   "source": [
    "Testou a máxima no horário médio de:"
   ]
  },
  {
   "cell_type": "code",
   "execution_count": null,
   "id": "e62b8061",
   "metadata": {},
   "outputs": [],
   "source": [
    "STATS(Sign, BINS, conds=['High Out Max', 'Close In Max'], rank='ID Test Up Rnk')"
   ]
  },
  {
   "cell_type": "markdown",
   "id": "25cd52a8",
   "metadata": {},
   "source": [
    "Fechou abaixo da mínima de ontem e fez máxima na hora média de"
   ]
  },
  {
   "cell_type": "code",
   "execution_count": null,
   "metadata": {},
   "outputs": [],
   "source": [
    "STATS(Sign, BINS, conds=['High Out Max', 'Day Close Out Min'], rank='Day High Rnk')"
   ]
  },
  {
   "cell_type": "markdown",
   "id": "7a52af19",
   "metadata": {},
   "source": [
    "Fechou abaixo da mínima de ontem e fez mínima na hora média de:"
   ]
  },
  {
   "cell_type": "code",
   "execution_count": null,
   "id": "fff65864",
   "metadata": {},
   "outputs": [],
   "source": [
    "STATS(Sign, BINS, conds=['Low Out Min', 'Day Close Out Min'], rank='Day Low Rnk')"
   ]
  },
  {
   "cell_type": "markdown",
   "id": "76f8f716",
   "metadata": {},
   "source": [
    "Fechou acima da máxima de ontem e fez mínima na hora média de:"
   ]
  },
  {
   "cell_type": "code",
   "execution_count": null,
   "metadata": {},
   "outputs": [],
   "source": [
    "STATS(Sign, BINS, conds=['Low Out Min', 'Day Close Out Max'], rank='Day Low Rnk')"
   ]
  },
  {
   "cell_type": "markdown",
   "id": "cb0d3a5e",
   "metadata": {},
   "source": [
    "Fechou acima da máxima de ontem e fez máxima na hora média de:"
   ]
  },
  {
   "cell_type": "code",
   "execution_count": null,
   "id": "71c2aa4f",
   "metadata": {},
   "outputs": [],
   "source": [
    "STATS(Sign, BINS, conds=['High Out Max', 'Day Close Out Max'], rank='Day High Rnk')"
   ]
  }
 ],
 "metadata": {
  "kernelspec": {
   "display_name": "Python 3",
   "language": "python",
   "name": "python3"
  },
  "language_info": {
   "codemirror_mode": {
    "name": "ipython",
    "version": 3
   },
   "file_extension": ".py",
   "mimetype": "text/x-python",
   "name": "python",
   "nbconvert_exporter": "python",
   "pygments_lexer": "ipython3",
   "version": "3.13.3"
  }
 },
 "nbformat": 4,
 "nbformat_minor": 5
}
