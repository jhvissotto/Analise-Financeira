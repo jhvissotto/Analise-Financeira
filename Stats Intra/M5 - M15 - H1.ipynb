{
 "cells": [
  {
   "cell_type": "code",
   "execution_count": null,
   "id": "e7080563",
   "metadata": {},
   "outputs": [],
   "source": [
    "import warnings\n",
    "import datetime as dt\n",
    "import itertools as it\n",
    "from numpy import nan\n",
    "import numpy as np\n",
    "import pandas as pd\n",
    "\n",
    "warnings.filterwarnings('ignore')\n",
    "pd.set_option('display.width',       None)\n",
    "pd.set_option('display.max_columns', None)"
   ]
  },
  {
   "cell_type": "markdown",
   "id": "947f9e19",
   "metadata": {},
   "source": [
    "# Load"
   ]
  },
  {
   "cell_type": "code",
   "execution_count": null,
   "id": "7db3b66c",
   "metadata": {},
   "outputs": [],
   "source": [
    "Raw = pd.read_csv('Storage/Raw.csv', parse_dates=['datetime'])\n",
    "Raw.head()"
   ]
  },
  {
   "cell_type": "code",
   "execution_count": null,
   "id": "ae0ec925",
   "metadata": {},
   "outputs": [],
   "source": [
    "def QUERY_SELECT(Raw, SYMBOLS, TFRAMES):\n",
    "    return Raw[Raw['symbol'].isin(SYMBOLS) & Raw['tf'].isin(TFRAMES)] .reset_index(drop=1)\n",
    "\n",
    "Query = QUERY_SELECT(Raw, SYMBOLS=['WIN$'], TFRAMES=['M5','M15','H1'])\n",
    "Query.head()"
   ]
  },
  {
   "cell_type": "markdown",
   "id": "ca884b94",
   "metadata": {},
   "source": [
    "# Data"
   ]
  },
  {
   "cell_type": "code",
   "execution_count": null,
   "id": "fea02097",
   "metadata": {},
   "outputs": [],
   "source": [
    "def FORMAT_SOURCE(Query):\n",
    "    Src = pd.DataFrame()\n",
    "    Src[['A','Z']]                      = Query[['a','z']]\n",
    "    Src[['Symbol','TF']]                = Query[['symbol','tf']]\n",
    "    \n",
    "    Src['Datetime']                     = Query['datetime']\n",
    "    Src['Date']                         = Query['datetime'].dt.date\n",
    "    Src['Time']                         = Query['datetime'].dt.time\n",
    "    Src['ID T']                         = Src.groupby(['Symbol','TF','Date'], sort=0, group_keys=0)['Time'].rank()\n",
    "\n",
    "    Src[['Ticks','Volume']]             = Query[['tick_volume','real_volume']]\n",
    "    Src[['Open','High','Low','Close']]  = Query[['open','high','low','close']]\n",
    "    Src[['Price']]                      = Query[['close']]\n",
    "\n",
    "    Src['Change']       = (Src['Close'] - Src['Open'])\n",
    "    Src['Hilo']         = (Src['High']  - Src['Low'])\n",
    "\n",
    "    Src['Sign Bull']    = Src['Change'].apply(lambda x: +1 if x >= 0 else nan)\n",
    "    Src['Sign Bear']    = Src['Change'].apply(lambda x: -1 if x <  0 else nan)\n",
    "    return Src \n",
    "\n",
    "Src = FORMAT_SOURCE(Query)\n",
    "Src.head()"
   ]
  },
  {
   "cell_type": "markdown",
   "id": "0e236d93",
   "metadata": {},
   "source": [
    "# Stats"
   ]
  },
  {
   "cell_type": "code",
   "execution_count": null,
   "id": "06bfb2ec",
   "metadata": {},
   "outputs": [],
   "source": [
    "Df1 = Src[Src['ID T']==1] .reset_index(drop=1)\n",
    "\n",
    "Df2 = Df1.sort_values(['Date','TF'], ascending=[True,False])  .reset_index(drop=1)\n",
    "Df2['Count'] = Df2.groupby('Date', sort=0, group_keys=0)['Symbol'].transform('count')\n",
    "\n",
    "Df3 = Df2[Df2['Count']==3] .reset_index(drop=1)"
   ]
  },
  {
   "cell_type": "code",
   "execution_count": 94,
   "id": "f3aac3e1",
   "metadata": {},
   "outputs": [
    {
     "data": {
      "text/plain": [
       "np.float64(31.38121546961326)"
      ]
     },
     "execution_count": 94,
     "metadata": {},
     "output_type": "execute_result"
    }
   ],
   "source": [
    "(Df3.groupby('Date', sort=0, group_keys=0)['Sign Bull'].sum().eq(+3).sum() / len(Df3['Date'].unique())) *100"
   ]
  },
  {
   "cell_type": "code",
   "execution_count": 93,
   "id": "6b59be41",
   "metadata": {},
   "outputs": [
    {
     "data": {
      "text/plain": [
       "np.float64(31.8232044198895)"
      ]
     },
     "execution_count": 93,
     "metadata": {},
     "output_type": "execute_result"
    }
   ],
   "source": [
    "(Df3.groupby('Date', sort=0, group_keys=0)['Sign Bear'].sum().eq(-3).sum() / len(Df3['Date'].unique())) *100"
   ]
  },
  {
   "cell_type": "markdown",
   "id": "88cb1c40",
   "metadata": {},
   "source": [
    "# Snippets"
   ]
  },
  {
   "cell_type": "code",
   "execution_count": null,
   "id": "2090b082",
   "metadata": {},
   "outputs": [],
   "source": []
  }
 ],
 "metadata": {
  "kernelspec": {
   "display_name": "Python 3",
   "language": "python",
   "name": "python3"
  },
  "language_info": {
   "codemirror_mode": {
    "name": "ipython",
    "version": 3
   },
   "file_extension": ".py",
   "mimetype": "text/x-python",
   "name": "python",
   "nbconvert_exporter": "python",
   "pygments_lexer": "ipython3",
   "version": "3.13.3"
  }
 },
 "nbformat": 4,
 "nbformat_minor": 5
}
