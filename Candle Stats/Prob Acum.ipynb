{
 "cells": [
  {
   "cell_type": "code",
   "execution_count": null,
   "id": "e7080563",
   "metadata": {},
   "outputs": [],
   "source": [
    "import warnings, os\n",
    "import datetime as dt\n",
    "import itertools as it\n",
    "from numpy import nan\n",
    "import numpy as np\n",
    "import pandas as pd\n",
    "import matplotlib as mpl\n",
    "import matplotlib.pyplot as plt\n",
    "import seaborn as sns\n",
    "\n",
    "warnings.filterwarnings('ignore')\n",
    "pd.set_option('display.width',       None)\n",
    "pd.set_option('display.max_columns', None)"
   ]
  },
  {
   "cell_type": "code",
   "execution_count": null,
   "id": "dce40b6e",
   "metadata": {},
   "outputs": [],
   "source": [
    "# import MetaTrader5 as mt5\n",
    "# # from vectorbt.portfolio import Portfolio as vbt_Portfolio"
   ]
  },
  {
   "cell_type": "markdown",
   "id": "35ff573d",
   "metadata": {},
   "source": [
    "# Connection"
   ]
  },
  {
   "cell_type": "code",
   "execution_count": null,
   "metadata": {},
   "outputs": [],
   "source": [
    "# RICO_REAL   = { 'login':16331371,   'password':'#582640Zz', 'server':'Rico-PRD'                 }\n",
    "# CLEAR_REAL  = { 'login':1018156111, 'password':'#582640Zz', 'server':'ClearInvestimentos-CLEAR' }\n",
    "\n",
    "# PATH_7 = r'C:\\Program Files\\MetaTrader 5 _7\\terminal64.exe'\n",
    "\n",
    "# assert mt5.initialize(PATH_7, **CLEAR_REAL)"
   ]
  },
  {
   "cell_type": "markdown",
   "id": "7b398591",
   "metadata": {},
   "source": [
    "# Variables"
   ]
  },
  {
   "cell_type": "code",
   "execution_count": null,
   "id": "c8b45545",
   "metadata": {},
   "outputs": [],
   "source": [
    "SYMBOLS = ['WIN$'] # ['WDO$']\n",
    "TFRAMES = ['M5','M15','H1','H4','D1']"
   ]
  },
  {
   "cell_type": "markdown",
   "id": "947f9e19",
   "metadata": {},
   "source": [
    "# Data"
   ]
  },
  {
   "cell_type": "code",
   "execution_count": null,
   "id": "7dde828a",
   "metadata": {},
   "outputs": [],
   "source": [
    "# def MT5_LOAD_DATA(SYMBOLS, TFRAMES, start_pos=0, count=99_999):\n",
    "#     Pipe = []\n",
    "#     for (symbol, TF) in it.product(SYMBOLS, TFRAMES):\n",
    "#         timeframe = { 'M1':mt5.TIMEFRAME_M1, 'M5':mt5.TIMEFRAME_M5, 'M10':mt5.TIMEFRAME_M10, 'M15':mt5.TIMEFRAME_M15, 'M20':mt5.TIMEFRAME_M20, 'M30':mt5.TIMEFRAME_M30, 'H1':mt5.TIMEFRAME_H1, 'H2':mt5.TIMEFRAME_H2, 'H3':mt5.TIMEFRAME_H3, 'H4':mt5.TIMEFRAME_H4, 'H6':mt5.TIMEFRAME_H6, 'H8':mt5.TIMEFRAME_H8, 'H12':mt5.TIMEFRAME_H12, 'D1':mt5.TIMEFRAME_D1, 'W1':mt5.TIMEFRAME_W1 }[TF]\n",
    "#         Raw       = pd.DataFrame(mt5.copy_rates_from_pos(symbol, timeframe, start_pos, count))\n",
    "#         Raw.insert(0, 'a',          Raw.index + 1)\n",
    "#         Raw.insert(1, 'z',          Raw.index - Raw.index.max())\n",
    "#         Raw.insert(2, 'symbol',     symbol)\n",
    "#         Raw.insert(3, 'tf',         TF)\n",
    "#         Raw.insert(4, 'datetime',   pd.to_datetime(Raw['time'], unit='s'))\n",
    "#         Pipe.append(Raw)\n",
    "#     pass\n",
    "#     return pd.concat(Pipe, ignore_index=1)\n",
    "\n",
    "# Raw = MT5_LOAD_DATA(SYMBOLS, TFRAMES)\n",
    "# Raw.head()"
   ]
  },
  {
   "cell_type": "code",
   "execution_count": null,
   "id": "1972eeeb",
   "metadata": {},
   "outputs": [],
   "source": [
    "# Raw.to_csv('Storage/Raw.csv', index=False)\n",
    "Raw = pd.read_csv('Storage/Raw.csv', parse_dates=['datetime'])\n",
    "Raw.head()"
   ]
  },
  {
   "cell_type": "code",
   "execution_count": null,
   "id": "9c9fb296",
   "metadata": {},
   "outputs": [],
   "source": [
    "def QUERY_SELECT(Raw, SYMBOLS, TFRAMES):\n",
    "    return Raw[Raw['symbol'].isin(SYMBOLS) & Raw['tf'].isin(TFRAMES)] .reset_index(drop=1)\n",
    "\n",
    "Query = QUERY_SELECT(Raw, SYMBOLS=['WIN$'], TFRAMES=['D1'])\n",
    "Query.head()"
   ]
  },
  {
   "cell_type": "code",
   "execution_count": null,
   "id": "eb3a4de9",
   "metadata": {},
   "outputs": [],
   "source": [
    "def FORMAT_SOURCE(Query):\n",
    "    Src = pd.DataFrame()\n",
    "    Src['A']        = Query['a']\n",
    "    Src['Z']        = Query['z']\n",
    "    Src['Symbol']   = Query['symbol']\n",
    "    Src['TF']       = Query['tf']\n",
    "    \n",
    "    Src['Datetime'] = Query['datetime']\n",
    "    Src['Date']     = Query['datetime'].dt.date\n",
    "    Src['Time']     = Query['datetime'].dt.time\n",
    "    \n",
    "    Src['Ticks']    = Query['tick_volume']\n",
    "    Src['Volume']   = Query['real_volume']\n",
    "    Src['Price']    = Query['close']\n",
    "    \n",
    "    Src['Open']     = Query['open']\n",
    "    Src['High']     = Query['high']\n",
    "    Src['Low']      = Query['low']\n",
    "    Src['Close']    = Query['close']\n",
    "\n",
    "    Src['Change']   = Src['Close'] - Src['Open']\n",
    "    Src['HL']       = Src['High']  - Src['Low']\n",
    "    return Src \n",
    "\n",
    "Src = FORMAT_SOURCE(Query)\n",
    "Src.head()"
   ]
  },
  {
   "cell_type": "code",
   "execution_count": null,
   "id": "aed6a664",
   "metadata": {},
   "outputs": [],
   "source": [
    "def CALCULATIONS(Src):\n",
    "    Calc = pd.DataFrame()\n",
    "    Calc['Symbol']  = Src['Symbol']\n",
    "    Calc['TF']      = Src['TF']\n",
    "\n",
    "    for val in [100, 200, 300, 500, 800, 1000, 1200, 1500, 1800, 2000, 2200, 2500, 2800, 3000, 3200, 3500, 3800, 4000, 4200, 4500, 4800, 5000]:\n",
    "        Calc[f'Chg Abs > {val}'] = Src.groupby(['Symbol','TF'], sort=0)['Change'].expanding().apply(lambda X: (X.abs() > val).sum() / X.count() *100)  .reset_index(drop=1)\n",
    "        # Calc[f'Chg Abs < {val}'] = Src.groupby(['Symbol','TF'], sort=0)['Change'].expanding().apply(lambda X: (X.abs() < val).sum() / X.count() *100)  .reset_index(drop=1)\n",
    "\n",
    "    return Calc\n",
    "\n",
    "Calc = CALCULATIONS(Src)\n",
    "Calc.head()"
   ]
  },
  {
   "cell_type": "markdown",
   "id": "c99b7ff7",
   "metadata": {},
   "source": [
    "# Stats"
   ]
  },
  {
   "cell_type": "code",
   "execution_count": 101,
   "id": "f36a5c8b",
   "metadata": {},
   "outputs": [
    {
     "data": {
      "text/plain": [
       "Symbol            WIN$\n",
       "TF                  D1\n",
       "Chg Abs > 100     95.0\n",
       "Chg Abs > 200     89.5\n",
       "Chg Abs > 300     85.2\n",
       "Chg Abs > 500     75.3\n",
       "Chg Abs > 800     62.7\n",
       "Chg Abs > 1000    52.0\n",
       "Chg Abs > 1200    44.7\n",
       "Chg Abs > 1500    34.5\n",
       "Chg Abs > 1800    26.0\n",
       "Chg Abs > 2000    21.6\n",
       "Chg Abs > 2200    18.4\n",
       "Chg Abs > 2500    13.7\n",
       "Chg Abs > 2800    10.0\n",
       "Chg Abs > 3000     8.8\n",
       "Chg Abs > 3200     6.9\n",
       "Chg Abs > 3500     4.8\n",
       "Chg Abs > 3800     3.2\n",
       "Chg Abs > 4000     2.7\n",
       "Chg Abs > 4200     2.0\n",
       "Chg Abs > 4500     1.4\n",
       "Chg Abs > 4800     1.0\n",
       "Chg Abs > 5000     0.8\n",
       "dtype: object"
      ]
     },
     "execution_count": 101,
     "metadata": {},
     "output_type": "execute_result"
    }
   ],
   "source": [
    "pd.Series(Calc.groupby(['Symbol','TF'], sort=0).tail(1).round(1).to_dict('records')[0])"
   ]
  }
 ],
 "metadata": {
  "kernelspec": {
   "display_name": "Python 3",
   "language": "python",
   "name": "python3"
  },
  "language_info": {
   "codemirror_mode": {
    "name": "ipython",
    "version": 3
   },
   "file_extension": ".py",
   "mimetype": "text/x-python",
   "name": "python",
   "nbconvert_exporter": "python",
   "pygments_lexer": "ipython3",
   "version": "3.13.3"
  }
 },
 "nbformat": 4,
 "nbformat_minor": 5
}
