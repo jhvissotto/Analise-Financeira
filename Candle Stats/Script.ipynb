{
 "cells": [
  {
   "cell_type": "code",
   "execution_count": null,
   "id": "e7080563",
   "metadata": {},
   "outputs": [],
   "source": [
    "import warnings, os\n",
    "import datetime as dt\n",
    "import itertools as it\n",
    "from numpy import nan\n",
    "import numpy as np\n",
    "import pandas as pd\n",
    "import matplotlib as mpl\n",
    "import matplotlib.pyplot as plt\n",
    "import seaborn as sns\n",
    "\n",
    "warnings.filterwarnings('ignore')\n",
    "pd.set_option('display.width',       None)\n",
    "pd.set_option('display.max_columns', None)"
   ]
  },
  {
   "cell_type": "code",
   "execution_count": null,
   "id": "dce40b6e",
   "metadata": {},
   "outputs": [],
   "source": [
    "import MetaTrader5 as mt5\n",
    "# from vectorbt.portfolio import Portfolio as vbt_Portfolio"
   ]
  },
  {
   "cell_type": "markdown",
   "id": "35ff573d",
   "metadata": {},
   "source": [
    "# Connection"
   ]
  },
  {
   "cell_type": "code",
   "execution_count": null,
   "metadata": {},
   "outputs": [],
   "source": [
    "RICO_REAL   = { 'login':16331371,   'password':'#000000Zz', 'server':'Rico-PRD'                 }\n",
    "CLEAR_REAL  = { 'login':1018156111, 'password':'#000000Zz', 'server':'ClearInvestimentos-CLEAR' }\n",
    "\n",
    "PATH_7 = r'C:\\Program Files\\MetaTrader 5 _7\\terminal64.exe'\n",
    "\n",
    "assert mt5.initialize(PATH_7, **CLEAR_REAL)"
   ]
  },
  {
   "cell_type": "markdown",
   "id": "7b398591",
   "metadata": {},
   "source": [
    "# Variables"
   ]
  },
  {
   "cell_type": "code",
   "execution_count": null,
   "id": "c8b45545",
   "metadata": {},
   "outputs": [],
   "source": [
    "SYMBOLS = ['WIN$'] # ['WDO$']\n",
    "TFRAMES = ['M5','M15','H1','H4','D1']"
   ]
  },
  {
   "cell_type": "markdown",
   "id": "947f9e19",
   "metadata": {},
   "source": [
    "# Data"
   ]
  },
  {
   "cell_type": "code",
   "execution_count": null,
   "id": "7dde828a",
   "metadata": {},
   "outputs": [],
   "source": [
    "def MT5_LOAD_DATA(SYMBOLS, TFRAMES, start_pos=0, count=99_999):\n",
    "    Pipe = []\n",
    "    for (symbol, TF) in it.product(SYMBOLS, TFRAMES):\n",
    "        timeframe = { 'M1':mt5.TIMEFRAME_M1, 'M5':mt5.TIMEFRAME_M5, 'M10':mt5.TIMEFRAME_M10, 'M15':mt5.TIMEFRAME_M15, 'M20':mt5.TIMEFRAME_M20, 'M30':mt5.TIMEFRAME_M30, 'H1':mt5.TIMEFRAME_H1, 'H2':mt5.TIMEFRAME_H2, 'H3':mt5.TIMEFRAME_H3, 'H4':mt5.TIMEFRAME_H4, 'H6':mt5.TIMEFRAME_H6, 'H8':mt5.TIMEFRAME_H8, 'H12':mt5.TIMEFRAME_H12, 'D1':mt5.TIMEFRAME_D1, 'W1':mt5.TIMEFRAME_W1 }[TF]\n",
    "        Raw       = pd.DataFrame(mt5.copy_rates_from_pos(symbol, timeframe, start_pos, count))\n",
    "        Raw.insert(0, 'a',          Raw.index + 1)\n",
    "        Raw.insert(1, 'z',          Raw.index - Raw.index.max())\n",
    "        Raw.insert(2, 'symbol',     symbol)\n",
    "        Raw.insert(3, 'tf',         TF)\n",
    "        Raw.insert(4, 'datetime',   pd.to_datetime(Raw['time'], unit='s'))\n",
    "        Pipe.append(Raw)\n",
    "    pass\n",
    "    return pd.concat(Pipe, ignore_index=1)\n",
    "\n",
    "Raw = MT5_LOAD_DATA(SYMBOLS, TFRAMES)\n",
    "Raw.head()"
   ]
  },
  {
   "cell_type": "code",
   "execution_count": null,
   "id": "1972eeeb",
   "metadata": {},
   "outputs": [],
   "source": [
    "# Raw.to_csv('Storage/Raw.csv', index=False)\n",
    "Raw = pd.read_csv('Storage/Raw.csv', parse_dates=['datetime'])\n",
    "Raw.head()"
   ]
  },
  {
   "cell_type": "code",
   "execution_count": null,
   "id": "eb3a4de9",
   "metadata": {},
   "outputs": [],
   "source": [
    "def FORMAT_SOURCE(Raw):\n",
    "    Src = pd.DataFrame()\n",
    "    Src['A']        = Raw['a']\n",
    "    Src['Z']        = Raw['z']\n",
    "    Src['Symbol']   = Raw['symbol']\n",
    "    Src['TF']       = Raw['tf']\n",
    "    \n",
    "    Src['Datetime'] = Raw['datetime']\n",
    "    Src['Date']     = Raw['datetime'].dt.date\n",
    "    Src['Time']     = Raw['datetime'].dt.time\n",
    "    \n",
    "    Src['Ticks']    = Raw['tick_volume']\n",
    "    Src['Volume']   = Raw['real_volume']\n",
    "    Src['Price']    = Raw['close']\n",
    "    \n",
    "    Src['Open']     = Raw['open']\n",
    "    Src['High']     = Raw['high']\n",
    "    Src['Low']      = Raw['low']\n",
    "    Src['Close']    = Raw['close']\n",
    "\n",
    "    Src['Change']   = Src['Close'] - Src['Open']\n",
    "    Src['HL']       = Src['High']  - Src['Low']\n",
    "    return Src \n",
    "\n",
    "Src = FORMAT_SOURCE(Raw)\n",
    "Src.head()"
   ]
  },
  {
   "cell_type": "code",
   "execution_count": null,
   "id": "2f2e0d8d",
   "metadata": {},
   "outputs": [],
   "source": [
    "Src.groupby(['Symbol','TF'],sort=0)[['Datetime']].first()"
   ]
  },
  {
   "cell_type": "code",
   "execution_count": null,
   "id": "372010ea",
   "metadata": {},
   "outputs": [],
   "source": [
    "def CALCULATIONS(Src):\n",
    "    Calc = pd.DataFrame(Src)\n",
    "    Calc['Change Abs'] = Src['Change'].abs()\n",
    "    Calc['Change Pos'] = Src['Change'].apply(lambda x: x if (x >= 0) else nan)\n",
    "    Calc['Change Neg'] = Src['Change'].apply(lambda x: x if (x <  0) else nan)\n",
    "    return Calc\n",
    "\n",
    "Calc = CALCULATIONS(Src)\n",
    "Calc.head()"
   ]
  },
  {
   "cell_type": "markdown",
   "id": "9d23a18a",
   "metadata": {},
   "source": [
    "# Stats"
   ]
  },
  {
   "cell_type": "code",
   "execution_count": null,
   "id": "a35df6b1",
   "metadata": {},
   "outputs": [],
   "source": [
    "Calc.groupby(['Symbol','TF'], sort=0)[['Change']].describe().round(0).astype(int)"
   ]
  },
  {
   "cell_type": "code",
   "execution_count": null,
   "id": "2aa1ada2",
   "metadata": {},
   "outputs": [],
   "source": [
    "Calc.groupby(['Symbol','TF'], sort=0)[['Change Abs']].describe().round(0).astype(int)"
   ]
  },
  {
   "cell_type": "code",
   "execution_count": null,
   "id": "f744e22b",
   "metadata": {},
   "outputs": [],
   "source": [
    "Calc.groupby(['Symbol','TF'], sort=0)[['Change Pos']].describe().round(0).astype(int)"
   ]
  },
  {
   "cell_type": "code",
   "execution_count": null,
   "id": "ad3e76ea",
   "metadata": {},
   "outputs": [],
   "source": [
    "Calc.groupby(['Symbol','TF'], sort=0)[['Change Neg']].describe().round(0).astype(int)"
   ]
  },
  {
   "cell_type": "code",
   "execution_count": null,
   "id": "e97f00eb",
   "metadata": {},
   "outputs": [],
   "source": [
    "Calc.groupby(['Symbol','TF'], sort=0)[['HL']].describe().round(0).astype(int)"
   ]
  },
  {
   "cell_type": "code",
   "execution_count": null,
   "id": "7b94c6e2",
   "metadata": {},
   "outputs": [],
   "source": [
    "raise Exception('STOP')"
   ]
  },
  {
   "cell_type": "markdown",
   "id": "b4832c1f",
   "metadata": {},
   "source": [
    "# Chart"
   ]
  },
  {
   "cell_type": "code",
   "execution_count": null,
   "id": "b13a086c",
   "metadata": {},
   "outputs": [],
   "source": [
    "for SYMBOL, Asset in Src.groupby('Symbol', sort=0):\n",
    "\n",
    "    plt.title(f'{SYMBOL} - Candle Size Distribuition', fontweight='bold')\n",
    "\n",
    "    for TF, Data in Asset.groupby('TF', sort=0): \n",
    "        # sns.kdeplot(Data['Change'], label=TF)\n",
    "        # sns.histplot(Data['Change'], label=TF, stat='count', bins=100, element='step', fill=False)\n",
    "        plt.hist(Data['Change'], bins=100, label=TF, histtype='step')\n",
    "\n",
    "\n",
    "    plt.ylabel('Frequency')\n",
    "    plt.xlabel('Candle Size')\n",
    "\n",
    "    plt.yscale('log', base=10)\n",
    "    plt.gca().yaxis.set_major_formatter(mpl.ticker.ScalarFormatter())\n",
    "\n",
    "    plt.legend()\n",
    "    plt.tight_layout()\n",
    "    plt.show()"
   ]
  }
 ],
 "metadata": {
  "kernelspec": {
   "display_name": "Python 3",
   "language": "python",
   "name": "python3"
  },
  "language_info": {
   "codemirror_mode": {
    "name": "ipython",
    "version": 3
   },
   "file_extension": ".py",
   "mimetype": "text/x-python",
   "name": "python",
   "nbconvert_exporter": "python",
   "pygments_lexer": "ipython3",
   "version": "3.13.3"
  }
 },
 "nbformat": 4,
 "nbformat_minor": 5
}
