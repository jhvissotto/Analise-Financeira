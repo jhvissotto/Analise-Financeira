{
 "cells": [
  {
   "cell_type": "code",
   "execution_count": null,
   "id": "e7080563",
   "metadata": {},
   "outputs": [],
   "source": [
    "import warnings\n",
    "import datetime as dt\n",
    "import itertools as it\n",
    "from numpy import nan\n",
    "import numpy as np\n",
    "import pandas as pd\n",
    "\n",
    "warnings.filterwarnings('ignore')\n",
    "pd.set_option('display.width',       None)\n",
    "pd.set_option('display.max_columns', None)"
   ]
  },
  {
   "cell_type": "markdown",
   "id": "947f9e19",
   "metadata": {},
   "source": [
    "# Load"
   ]
  },
  {
   "cell_type": "code",
   "execution_count": null,
   "id": "7db3b66c",
   "metadata": {},
   "outputs": [],
   "source": [
    "Raw = pd.read_csv('Storage/Raw.csv', parse_dates=['datetime'])\n",
    "Raw.head()"
   ]
  },
  {
   "cell_type": "code",
   "execution_count": null,
   "id": "ae0ec925",
   "metadata": {},
   "outputs": [],
   "source": [
    "def QUERY_SELECT(Raw, SYMBOLS, TFRAMES):\n",
    "    return Raw[Raw['symbol'].isin(SYMBOLS) & Raw['tf'].isin(TFRAMES)] .reset_index(drop=1)\n",
    "\n",
    "Query = QUERY_SELECT(Raw, SYMBOLS=['WIN$'], TFRAMES=['H1'])\n",
    "Query.head()"
   ]
  },
  {
   "cell_type": "markdown",
   "id": "ca884b94",
   "metadata": {},
   "source": [
    "# Data"
   ]
  },
  {
   "cell_type": "code",
   "execution_count": null,
   "id": "fea02097",
   "metadata": {},
   "outputs": [],
   "source": [
    "def FORMAT_SOURCE(Query):\n",
    "    Src = pd.DataFrame()\n",
    "    Src[['A','Z']]                      = Query[['a','z']]\n",
    "    Src[['Symbol','TF']]                = Query[['symbol','tf']]\n",
    "    \n",
    "    Src['Datetime']                     = Query['datetime']\n",
    "    Src['Date']                         = Query['datetime'].dt.date\n",
    "    Src['Time']                         = Query['datetime'].dt.time\n",
    "\n",
    "    Src[['Ticks','Volume']]             = Query[['tick_volume','real_volume']]\n",
    "    Src[['Open','High','Low','Close']]  = Query[['open','high','low','close']]\n",
    "    Src[['Price']]                      = Query[['close']]\n",
    "\n",
    "    Src['Change']   = (Src['Close'] - Src['Open'])\n",
    "    Src['Hilo']     = (Src['High']  - Src['Low'])\n",
    "    return Src \n",
    "\n",
    "Src = FORMAT_SOURCE(Query)\n",
    "Src.head()"
   ]
  },
  {
   "cell_type": "code",
   "execution_count": null,
   "id": "3141f75d",
   "metadata": {},
   "outputs": [],
   "source": [
    "def CALCULATIONS(Src):\n",
    "    Calc = pd.DataFrame(Src)\n",
    "    Calc['T'] = Calc.groupby('Date', sort=0)['Time'].rank()\n",
    "\n",
    "    # ================ Current Signals ================ #\n",
    "    Calc[f'Change Pos'] = (Calc['Change'] >= 0)\n",
    "    Calc[f'Change Neg'] = (Calc['Change'] <  0)\n",
    "\n",
    "    # ================ Forward Indicators ================ #\n",
    "    FUTS = [1, 2]\n",
    "    for x in FUTS:  Calc[f'Hilo +{x}']       =  Calc.groupby('Date', sort=0)[f'Hilo'].shift(-x)\n",
    "    for x in FUTS:  Calc[f'Change +{x}']     =  Calc.groupby('Date', sort=0)[f'Change'].shift(-x)\n",
    "    \n",
    "    # ================ Forward Signals ================ #\n",
    "    for x in FUTS:  Calc[f'Change +{x} Pos'] = (Calc[f'Change +{x}'] >= 0)\n",
    "    for x in FUTS:  Calc[f'Change +{x} Neg'] = (Calc[f'Change +{x}'] <  0)\n",
    "    return Calc\n",
    "\n",
    "Calc = CALCULATIONS(Src)\n",
    "Calc.head()"
   ]
  },
  {
   "cell_type": "markdown",
   "id": "aaecc0ec",
   "metadata": {},
   "source": [
    "# Stats"
   ]
  },
  {
   "cell_type": "code",
   "execution_count": 66,
   "id": "4208a096",
   "metadata": {},
   "outputs": [
    {
     "data": {
      "text/html": [
       "<div>\n",
       "<style scoped>\n",
       "    .dataframe tbody tr th:only-of-type {\n",
       "        vertical-align: middle;\n",
       "    }\n",
       "\n",
       "    .dataframe tbody tr th {\n",
       "        vertical-align: top;\n",
       "    }\n",
       "\n",
       "    .dataframe thead th {\n",
       "        text-align: right;\n",
       "    }\n",
       "</style>\n",
       "<table border=\"1\" class=\"dataframe\">\n",
       "  <thead>\n",
       "    <tr style=\"text-align: right;\">\n",
       "      <th></th>\n",
       "      <th>Condition</th>\n",
       "      <th>Change +1 Pos</th>\n",
       "      <th>Change +1 Neg</th>\n",
       "    </tr>\n",
       "  </thead>\n",
       "  <tbody>\n",
       "    <tr>\n",
       "      <th>0</th>\n",
       "      <td>Change Pos</td>\n",
       "      <td>50.9</td>\n",
       "      <td>49.1</td>\n",
       "    </tr>\n",
       "    <tr>\n",
       "      <th>1</th>\n",
       "      <td>Change Neg</td>\n",
       "      <td>48.6</td>\n",
       "      <td>51.4</td>\n",
       "    </tr>\n",
       "  </tbody>\n",
       "</table>\n",
       "</div>"
      ],
      "text/plain": [
       "    Condition  Change +1 Pos  Change +1 Neg\n",
       "0  Change Pos           50.9           49.1\n",
       "1  Change Neg           48.6           51.4"
      ]
     },
     "execution_count": 66,
     "metadata": {},
     "output_type": "execute_result"
    }
   ],
   "source": [
    "pd.DataFrame([\n",
    "    { 'Condition':'Change Pos', **Calc[(Calc['T']==1) & Calc['Change Pos']][['Change +1 Pos','Change +1 Neg']].mean().mul(100).round(1) }, \n",
    "    { 'Condition':'Change Neg', **Calc[(Calc['T']==1) & Calc['Change Neg']][['Change +1 Pos','Change +1 Neg']].mean().mul(100).round(1) }, \n",
    "])"
   ]
  },
  {
   "cell_type": "code",
   "execution_count": 67,
   "id": "a46d24a3",
   "metadata": {},
   "outputs": [
    {
     "data": {
      "text/html": [
       "<div>\n",
       "<style scoped>\n",
       "    .dataframe tbody tr th:only-of-type {\n",
       "        vertical-align: middle;\n",
       "    }\n",
       "\n",
       "    .dataframe tbody tr th {\n",
       "        vertical-align: top;\n",
       "    }\n",
       "\n",
       "    .dataframe thead th {\n",
       "        text-align: right;\n",
       "    }\n",
       "</style>\n",
       "<table border=\"1\" class=\"dataframe\">\n",
       "  <thead>\n",
       "    <tr style=\"text-align: right;\">\n",
       "      <th></th>\n",
       "      <th>Condition</th>\n",
       "      <th>count</th>\n",
       "      <th>mean</th>\n",
       "      <th>std</th>\n",
       "      <th>min</th>\n",
       "      <th>25%</th>\n",
       "      <th>50%</th>\n",
       "      <th>75%</th>\n",
       "      <th>max</th>\n",
       "    </tr>\n",
       "  </thead>\n",
       "  <tbody>\n",
       "    <tr>\n",
       "      <th>0</th>\n",
       "      <td>Change Pos</td>\n",
       "      <td>639</td>\n",
       "      <td>20</td>\n",
       "      <td>814</td>\n",
       "      <td>-2665</td>\n",
       "      <td>-454</td>\n",
       "      <td>22</td>\n",
       "      <td>520</td>\n",
       "      <td>5561</td>\n",
       "    </tr>\n",
       "    <tr>\n",
       "      <th>1</th>\n",
       "      <td>Change Neg</td>\n",
       "      <td>607</td>\n",
       "      <td>24</td>\n",
       "      <td>737</td>\n",
       "      <td>-2483</td>\n",
       "      <td>-437</td>\n",
       "      <td>-31</td>\n",
       "      <td>471</td>\n",
       "      <td>2739</td>\n",
       "    </tr>\n",
       "  </tbody>\n",
       "</table>\n",
       "</div>"
      ],
      "text/plain": [
       "    Condition  count  mean  std   min  25%  50%  75%   max\n",
       "0  Change Pos    639    20  814 -2665 -454   22  520  5561\n",
       "1  Change Neg    607    24  737 -2483 -437  -31  471  2739"
      ]
     },
     "execution_count": 67,
     "metadata": {},
     "output_type": "execute_result"
    }
   ],
   "source": [
    "pd.DataFrame([\n",
    "    { 'Condition':'Change Pos', **Calc[(Calc['T']==1) & Calc['Change Pos']]['Change +1'].describe().T.round(1).astype(int) },\n",
    "    { 'Condition':'Change Neg', **Calc[(Calc['T']==1) & Calc['Change Neg']]['Change +1'].describe().T.round(1).astype(int) },\n",
    "])"
   ]
  },
  {
   "cell_type": "code",
   "execution_count": 68,
   "id": "7d4afc54",
   "metadata": {},
   "outputs": [
    {
     "data": {
      "text/html": [
       "<div>\n",
       "<style scoped>\n",
       "    .dataframe tbody tr th:only-of-type {\n",
       "        vertical-align: middle;\n",
       "    }\n",
       "\n",
       "    .dataframe tbody tr th {\n",
       "        vertical-align: top;\n",
       "    }\n",
       "\n",
       "    .dataframe thead th {\n",
       "        text-align: right;\n",
       "    }\n",
       "</style>\n",
       "<table border=\"1\" class=\"dataframe\">\n",
       "  <thead>\n",
       "    <tr style=\"text-align: right;\">\n",
       "      <th></th>\n",
       "      <th>Condition</th>\n",
       "      <th>count</th>\n",
       "      <th>mean</th>\n",
       "      <th>std</th>\n",
       "      <th>min</th>\n",
       "      <th>25%</th>\n",
       "      <th>50%</th>\n",
       "      <th>75%</th>\n",
       "      <th>max</th>\n",
       "    </tr>\n",
       "  </thead>\n",
       "  <tbody>\n",
       "    <tr>\n",
       "      <th>0</th>\n",
       "      <td>Change Pos</td>\n",
       "      <td>639</td>\n",
       "      <td>1199</td>\n",
       "      <td>534</td>\n",
       "      <td>279</td>\n",
       "      <td>825</td>\n",
       "      <td>1115</td>\n",
       "      <td>1445</td>\n",
       "      <td>6210</td>\n",
       "    </tr>\n",
       "    <tr>\n",
       "      <th>1</th>\n",
       "      <td>Change Neg</td>\n",
       "      <td>607</td>\n",
       "      <td>1128</td>\n",
       "      <td>484</td>\n",
       "      <td>332</td>\n",
       "      <td>781</td>\n",
       "      <td>1033</td>\n",
       "      <td>1378</td>\n",
       "      <td>3253</td>\n",
       "    </tr>\n",
       "  </tbody>\n",
       "</table>\n",
       "</div>"
      ],
      "text/plain": [
       "    Condition  count  mean  std  min  25%   50%   75%   max\n",
       "0  Change Pos    639  1199  534  279  825  1115  1445  6210\n",
       "1  Change Neg    607  1128  484  332  781  1033  1378  3253"
      ]
     },
     "execution_count": 68,
     "metadata": {},
     "output_type": "execute_result"
    }
   ],
   "source": [
    "pd.DataFrame([\n",
    "    { 'Condition':'Change Pos', **Calc[(Calc['T']==1) & Calc['Change Pos']]['Hilo +1'].describe().T.round(1).astype(int) },\n",
    "    { 'Condition':'Change Neg', **Calc[(Calc['T']==1) & Calc['Change Neg']]['Hilo +1'].describe().T.round(1).astype(int) },\n",
    "])"
   ]
  },
  {
   "cell_type": "markdown",
   "id": "88cb1c40",
   "metadata": {},
   "source": [
    "# Snippets"
   ]
  },
  {
   "cell_type": "code",
   "execution_count": null,
   "id": "2cb8e433",
   "metadata": {},
   "outputs": [],
   "source": [
    "def CALCULATIONS(Src):\n",
    "    Calc = pd.DataFrame(Src)\n",
    "    Calc['T'] = Calc.groupby('Date', sort=0)['Time'].rank()\n",
    "\n",
    "    # ================ Current Indicators ================ #\n",
    "    Calc['Change']   = (Calc['Close'] - Calc['Open'])\n",
    "    Calc['Hilo']     = (Calc['High']  - Calc['Low'])\n",
    "\n",
    "    # ================ Current Signals ================ #\n",
    "    Calc[f'Change Pos'] = (Calc['Change'] >= 0)\n",
    "    Calc[f'Change Neg'] = (Calc['Change'] <  0)\n",
    "\n",
    "    # ================ Forward Indicators ================ #\n",
    "    FUTS = [1, 2]\n",
    "    for x in FUTS:  Calc[f'Hilo +{x}']       =  Calc.groupby('Date', sort=0)[f'Hilo'].shift(-x)\n",
    "    for x in FUTS:  Calc[f'Change +{x}']     =  Calc.groupby('Date', sort=0)[f'Change'].shift(-x)\n",
    "    \n",
    "    # ================ Forward Signals ================ #\n",
    "    for x in FUTS:  Calc[f'Change +{x} Pos'] = (Calc[f'Change +{x}'] >= 0)\n",
    "    for x in FUTS:  Calc[f'Change +{x} Neg'] = (Calc[f'Change +{x}'] <  0)\n",
    "    return Calc\n",
    "\n",
    "\n",
    "pd.DataFrame([\n",
    "    { 'Condition':'Change Pos', **Calc[(Calc['T']==1) & Calc['Change Pos']][['Change +1 Pos','Change +1 Neg']].mean() }, \n",
    "    { 'Condition':'Change Neg', **Calc[(Calc['T']==1) & Calc['Change Neg']][['Change +1 Pos','Change +1 Neg']].mean() }, \n",
    "])\n",
    "\n",
    "pd.DataFrame([\n",
    "    { 'Condition':'Change Pos', **Calc[(Calc['T']==1) & Calc['Change Pos']]['Change +1'].describe().T },\n",
    "    { 'Condition':'Change Neg', **Calc[(Calc['T']==1) & Calc['Change Neg']]['Change +1'].describe().T },\n",
    "])\n",
    "\n",
    "pd.DataFrame([\n",
    "    { 'Condition':'Change Pos', **Calc[(Calc['T']==1) & Calc['Change Pos']]['Hilo +1'].describe().T },\n",
    "    { 'Condition':'Change Neg', **Calc[(Calc['T']==1) & Calc['Change Neg']]['Hilo +1'].describe().T },\n",
    "])"
   ]
  }
 ],
 "metadata": {
  "kernelspec": {
   "display_name": "Python 3",
   "language": "python",
   "name": "python3"
  },
  "language_info": {
   "codemirror_mode": {
    "name": "ipython",
    "version": 3
   },
   "file_extension": ".py",
   "mimetype": "text/x-python",
   "name": "python",
   "nbconvert_exporter": "python",
   "pygments_lexer": "ipython3",
   "version": "3.13.3"
  }
 },
 "nbformat": 4,
 "nbformat_minor": 5
}
