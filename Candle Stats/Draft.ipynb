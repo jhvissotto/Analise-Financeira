{
 "cells": [
  {
   "cell_type": "code",
   "execution_count": null,
   "id": "e7080563",
   "metadata": {},
   "outputs": [],
   "source": [
    "import warnings, os\n",
    "import datetime as dt\n",
    "import itertools as it\n",
    "from numpy import nan, inf\n",
    "import numpy as np\n",
    "import pandas as pd\n",
    "import matplotlib as mpl\n",
    "import matplotlib.pyplot as plt\n",
    "import seaborn as sns\n",
    "\n",
    "warnings.filterwarnings('ignore')\n",
    "pd.set_option('display.width',       None)\n",
    "pd.set_option('display.max_columns', None)"
   ]
  },
  {
   "cell_type": "code",
   "execution_count": null,
   "id": "dce40b6e",
   "metadata": {},
   "outputs": [],
   "source": [
    "import MetaTrader5 as mt5\n",
    "# from vectorbt.portfolio import Portfolio as vbt_Portfolio"
   ]
  },
  {
   "cell_type": "markdown",
   "id": "35ff573d",
   "metadata": {},
   "source": [
    "# Connection"
   ]
  },
  {
   "cell_type": "code",
   "execution_count": null,
   "metadata": {},
   "outputs": [],
   "source": [
    "# RICO_REAL   = { 'login':16331371,   'password':'#000000Zz', 'server':'Rico-PRD'                 }\n",
    "# CLEAR_REAL  = { 'login':1018156111, 'password':'#000000Zz', 'server':'ClearInvestimentos-CLEAR' }\n",
    "\n",
    "# PATH_7 = r'C:\\Program Files\\MetaTrader 5 _7\\terminal64.exe'\n",
    "\n",
    "# assert mt5.initialize(PATH_7, **CLEAR_REAL)"
   ]
  },
  {
   "cell_type": "markdown",
   "id": "7b398591",
   "metadata": {},
   "source": [
    "# Variables"
   ]
  },
  {
   "cell_type": "code",
   "execution_count": null,
   "id": "c8b45545",
   "metadata": {},
   "outputs": [],
   "source": [
    "SYMBOLS = ['WIN$'] # ['WDO$']\n",
    "TFRAMES = ['M5','M15','H1','H3','D1']"
   ]
  },
  {
   "cell_type": "markdown",
   "id": "947f9e19",
   "metadata": {},
   "source": [
    "# Load"
   ]
  },
  {
   "cell_type": "code",
   "execution_count": null,
   "id": "7dde828a",
   "metadata": {},
   "outputs": [],
   "source": [
    "# def MT5_LOAD_DATA(SYMBOLS, TFRAMES, start_pos=0, count=99_999):\n",
    "#     Pipe = []\n",
    "#     for (symbol, TF) in it.product(SYMBOLS, TFRAMES):\n",
    "#         timeframe = { 'M1':mt5.TIMEFRAME_M1, 'M5':mt5.TIMEFRAME_M5, 'M10':mt5.TIMEFRAME_M10, 'M15':mt5.TIMEFRAME_M15, 'M20':mt5.TIMEFRAME_M20, 'M30':mt5.TIMEFRAME_M30, 'H1':mt5.TIMEFRAME_H1, 'H2':mt5.TIMEFRAME_H2, 'H3':mt5.TIMEFRAME_H3, 'H4':mt5.TIMEFRAME_H4, 'H6':mt5.TIMEFRAME_H6, 'H8':mt5.TIMEFRAME_H8, 'H12':mt5.TIMEFRAME_H12, 'D1':mt5.TIMEFRAME_D1, 'W1':mt5.TIMEFRAME_W1 }[TF]\n",
    "#         Raw       = pd.DataFrame(mt5.copy_rates_from_pos(symbol, timeframe, start_pos, count))\n",
    "#         Raw.insert(0, 'a',          Raw.index + 1)\n",
    "#         Raw.insert(1, 'z',          Raw.index - Raw.index.max())\n",
    "#         Raw.insert(2, 'symbol',     symbol)\n",
    "#         Raw.insert(3, 'tf',         TF)\n",
    "#         Raw.insert(4, 'datetime',   pd.to_datetime(Raw['time'], unit='s'))\n",
    "#         Pipe.append(Raw)\n",
    "#     pass\n",
    "#     return pd.concat(Pipe, ignore_index=1)\n",
    "\n",
    "# Raw = MT5_LOAD_DATA(SYMBOLS, TFRAMES)\n",
    "# Raw.head()"
   ]
  },
  {
   "cell_type": "code",
   "execution_count": null,
   "id": "1972eeeb",
   "metadata": {},
   "outputs": [],
   "source": [
    "# Raw.to_csv('Storage/Raw.csv', index=False)\n",
    "Raw = pd.read_csv('Storage/Raw.csv', parse_dates=['datetime'])\n",
    "Raw.head()"
   ]
  },
  {
   "cell_type": "code",
   "execution_count": null,
   "id": "8d67df41",
   "metadata": {},
   "outputs": [],
   "source": [
    "def QUERY_SELECT(Raw, SYMBOLS, TFRAMES):\n",
    "    return Raw[Raw['symbol'].isin(SYMBOLS) & Raw['tf'].isin(TFRAMES)] .reset_index(drop=1)\n",
    "\n",
    "Query = QUERY_SELECT(Raw, SYMBOLS=['WIN$'], TFRAMES=['D1'])\n",
    "Query.head()"
   ]
  },
  {
   "cell_type": "markdown",
   "id": "34e15110",
   "metadata": {},
   "source": [
    "# Data"
   ]
  },
  {
   "cell_type": "code",
   "execution_count": null,
   "id": "eb3a4de9",
   "metadata": {},
   "outputs": [],
   "source": [
    "def FORMAT_SOURCE(Query):\n",
    "    Src = pd.DataFrame()\n",
    "    Src['A']        = Query['a']\n",
    "    Src['Z']        = Query['z']\n",
    "    Src['Symbol']   = Query['symbol']\n",
    "    Src['TF']       = Query['tf']\n",
    "    \n",
    "    Src['Datetime'] = Query['datetime']\n",
    "    Src['Date']     = Query['datetime'].dt.date\n",
    "    Src['Time']     = Query['datetime'].dt.time\n",
    "    \n",
    "    Src['Ticks']    = Query['tick_volume']\n",
    "    Src['Volume']   = Query['real_volume']\n",
    "    Src['Price']    = Query['close']\n",
    "    \n",
    "    Src['Open']     = Query['open']\n",
    "    Src['High']     = Query['high']\n",
    "    Src['Low']      = Query['low']\n",
    "    Src['Close']    = Query['close']\n",
    "\n",
    "    Src['Change']   = Src['Close'] - Src['Open']\n",
    "    Src['HL']       = Src['High']  - Src['Low']\n",
    "    return Src \n",
    "\n",
    "Src = FORMAT_SOURCE(Query)\n",
    "Src.head()"
   ]
  },
  {
   "cell_type": "code",
   "execution_count": null,
   "id": "91c86f47",
   "metadata": {},
   "outputs": [],
   "source": [
    "def CALCULATIONS(Src):\n",
    "    Calc = pd.DataFrame(Src)\n",
    "\n",
    "    BINS = [100,200,500,800,1000,1200,1500,1800,2000,2200,2500,2800,3000,3200,3500,3800,4000,4200,4500,4800,5000,5200,5500,5800,6000]\n",
    "    for x in BINS:  Calc[f'Chg Abs > {x}']      = (Calc['Change'].abs() > x).astype(int)\n",
    "    for x in BINS:  Calc[f'Chg Abs > {x} +{1}'] =  Calc[f'Chg Abs > {x}'].shift(-1)\n",
    "    for x in BINS:  Calc[f'Chg Abs > {x} +{2}'] =  Calc[f'Chg Abs > {x}'].shift(-2)\n",
    "    for x in BINS:  Calc[f'Chg Abs > {x} +{3}'] =  Calc[f'Chg Abs > {x}'].shift(-3)\n",
    "    return Calc\n",
    "\n",
    "Calc = CALCULATIONS(Src)\n",
    "Calc.head()"
   ]
  },
  {
   "cell_type": "code",
   "execution_count": null,
   "id": "c669cae1",
   "metadata": {},
   "outputs": [],
   "source": [
    "pd.Series([1,1,1,1,1]).mean() *100"
   ]
  },
  {
   "cell_type": "code",
   "execution_count": null,
   "metadata": {},
   "outputs": [],
   "source": [
    "Df = Calc[Calc['Chg Abs > 100']==1]\n",
    "\n",
    "Df['Chg Abs > 100 +1'].sum() / Df['Chg Abs > 100 +1'].count()"
   ]
  },
  {
   "cell_type": "code",
   "execution_count": null,
   "id": "0f97160d",
   "metadata": {},
   "outputs": [],
   "source": []
  },
  {
   "cell_type": "code",
   "execution_count": null,
   "metadata": {},
   "outputs": [],
   "source": []
  },
  {
   "cell_type": "code",
   "execution_count": null,
   "id": "fc4d3032",
   "metadata": {},
   "outputs": [],
   "source": []
  },
  {
   "cell_type": "code",
   "execution_count": null,
   "id": "e627c615",
   "metadata": {},
   "outputs": [],
   "source": []
  },
  {
   "cell_type": "code",
   "execution_count": null,
   "id": "379468f2",
   "metadata": {},
   "outputs": [],
   "source": []
  },
  {
   "cell_type": "code",
   "execution_count": null,
   "id": "372010ea",
   "metadata": {},
   "outputs": [],
   "source": [
    "# def CALCULATIONS(Src):\n",
    "#     def _int(x):\n",
    "#         try:    return int(x)\n",
    "#         except: return x\n",
    "        \n",
    "#     Calc = pd.DataFrame(Src)\n",
    "#     Calc['Day Open']        = Calc.groupby(['Symbol','TF','Date'], sort=0)['Open']  .transform('first')\n",
    "#     Calc['Day High']        = Calc.groupby(['Symbol','TF','Date'], sort=0)['High']  .transform('max')\n",
    "#     Calc['Day Low']         = Calc.groupby(['Symbol','TF','Date'], sort=0)['Low']   .transform('min')\n",
    "#     Calc['Day Close']       = Calc.groupby(['Symbol','TF','Date'], sort=0)['Close'] .transform('last')\n",
    "#     Calc['Day Chg']         = Calc['Day Close'] - Calc['Day Open']\n",
    "#     Calc['Day Chg Abs']     = Calc['Day Chg'].abs()\n",
    "\n",
    "#     Calc['Intra High Rank'] = Calc.groupby(['Symbol','TF','Date'], sort=0)['High'].rank(method='dense', ascending=0)\n",
    "#     Calc['Intra Low Rank']  = Calc.groupby(['Symbol','TF','Date'], sort=0)['Low'].rank(method='dense', ascending=1)\n",
    "\n",
    "#     WINS = [0, 100, 200, 500, 800, 1000, 1200, 1500, 1800, 2000, 2200, 2500, 2800, 3000, 3200, 3500, 3800, 4000, 4200, 4500, 4800, 5000, inf]\n",
    "#     for (a,b) in [x for x in pd.Series(WINS).rolling(2) if (len(x) == 2)]:\n",
    "#         Calc[f'Day Chg Abs {_int(a)}-{_int(b)}'] = ((a <= Calc['Day Chg Abs']) & (Calc['Day Chg Abs'] < b)) .astype(int)\n",
    "\n",
    "#     return Calc\n",
    "\n",
    "# Calc = CALCULATIONS(Src)\n",
    "# Calc.head(2)"
   ]
  },
  {
   "cell_type": "code",
   "execution_count": null,
   "id": "864270b3",
   "metadata": {},
   "outputs": [],
   "source": [
    "# def STATS(Calc, bins):\n",
    "#     pipe = []\n",
    "#     for x in bins: \n",
    "#         Df1 = Calc[Calc[x]==1] #.reset_index(drop=1)\n",
    "\n",
    "#         for y in ['High','Low']:\n",
    "#             Df2 = Df1[Df1[f'Intra {y} Rank']==1] \n",
    "\n",
    "#             pipe.append({ 'Bins':x, 'HL':y,\n",
    "#                 'Count':    Df2['Time'].count(),\n",
    "#                 'Time Avg': np.round(Df2['Time'].apply(lambda x: x.hour + x.minute/60).mean(), 1),\n",
    "#                 'Time Max': np.round(Df2['Time'].apply(lambda x: x.hour + x.minute/60).max(), 1),\n",
    "#                 'Time Q3':  np.round(Df2['Time'].apply(lambda x: x.hour + x.minute/60).quantile(.75), 1),\n",
    "#                 'Time Med': np.round(Df2['Time'].apply(lambda x: x.hour + x.minute/60).median(), 1),\n",
    "#                 'Time Q1':  np.round(Df2['Time'].apply(lambda x: x.hour + x.minute/60).quantile(.25), 1),\n",
    "#                 'Time Min': np.round(Df2['Time'].apply(lambda x: x.hour + x.minute/60).min(), 1),\n",
    "#             })\n",
    "#         pass\n",
    "#     pass\n",
    "#     return pd.DataFrame(pipe)\n",
    "\n",
    "\n",
    "# Sts = STATS(Calc, bins=Calc.loc[:, f'Day Chg Abs 0-100':f'Day Chg Abs 5000-inf'].columns)\n",
    "# Sts"
   ]
  }
 ],
 "metadata": {
  "kernelspec": {
   "display_name": "Python 3",
   "language": "python",
   "name": "python3"
  },
  "language_info": {
   "codemirror_mode": {
    "name": "ipython",
    "version": 3
   },
   "file_extension": ".py",
   "mimetype": "text/x-python",
   "name": "python",
   "nbconvert_exporter": "python",
   "pygments_lexer": "ipython3",
   "version": "3.13.3"
  }
 },
 "nbformat": 4,
 "nbformat_minor": 5
}
