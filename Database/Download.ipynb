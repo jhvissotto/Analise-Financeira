{
 "cells": [
  {
   "cell_type": "code",
   "execution_count": 1,
   "id": "e7080563",
   "metadata": {},
   "outputs": [],
   "source": [
    "import warnings, os\n",
    "import datetime as dt\n",
    "import itertools as it\n",
    "import pandas as pd\n",
    "\n",
    "warnings.filterwarnings('ignore')\n",
    "pd.set_option('display.width',       None)\n",
    "pd.set_option('display.max_columns', None)"
   ]
  },
  {
   "cell_type": "code",
   "execution_count": 6,
   "id": "dce40b6e",
   "metadata": {},
   "outputs": [],
   "source": [
    "import MetaTrader5 as mt5"
   ]
  },
  {
   "cell_type": "markdown",
   "id": "35ff573d",
   "metadata": {},
   "source": [
    "# Connection"
   ]
  },
  {
   "cell_type": "code",
   "execution_count": null,
   "metadata": {},
   "outputs": [],
   "source": [
    "RICO_REAL   = { 'login':16331371,   'password':'#000000Zz', 'server':'Rico-PRD'                 }\n",
    "CLEAR_REAL  = { 'login':1018156111, 'password':'#000000Zz', 'server':'ClearInvestimentos-CLEAR' }\n",
    "\n",
    "PATH_3 = r'C:\\Program Files\\MetaTrader 5 _3\\terminal64.exe'\n",
    "\n",
    "assert mt5.initialize(PATH_3, **CLEAR_REAL)"
   ]
  },
  {
   "cell_type": "markdown",
   "id": "7b398591",
   "metadata": {},
   "source": [
    "# Variables"
   ]
  },
  {
   "cell_type": "code",
   "execution_count": null,
   "id": "c8b45545",
   "metadata": {},
   "outputs": [],
   "source": [
    "SYMBOLS = ['WIN$'] # ['WDO$']\n",
    "TFRAMES = ['M5','M15','H1','H3','D1','W1']"
   ]
  },
  {
   "cell_type": "markdown",
   "id": "947f9e19",
   "metadata": {},
   "source": [
    "# Consume"
   ]
  },
  {
   "cell_type": "code",
   "execution_count": 9,
   "id": "7dde828a",
   "metadata": {},
   "outputs": [
    {
     "data": {
      "text/html": [
       "<div>\n",
       "<style scoped>\n",
       "    .dataframe tbody tr th:only-of-type {\n",
       "        vertical-align: middle;\n",
       "    }\n",
       "\n",
       "    .dataframe tbody tr th {\n",
       "        vertical-align: top;\n",
       "    }\n",
       "\n",
       "    .dataframe thead th {\n",
       "        text-align: right;\n",
       "    }\n",
       "</style>\n",
       "<table border=\"1\" class=\"dataframe\">\n",
       "  <thead>\n",
       "    <tr style=\"text-align: right;\">\n",
       "      <th></th>\n",
       "      <th>a</th>\n",
       "      <th>z</th>\n",
       "      <th>symbol</th>\n",
       "      <th>tf</th>\n",
       "      <th>datetime</th>\n",
       "      <th>time</th>\n",
       "      <th>open</th>\n",
       "      <th>high</th>\n",
       "      <th>low</th>\n",
       "      <th>close</th>\n",
       "      <th>tick_volume</th>\n",
       "      <th>spread</th>\n",
       "      <th>real_volume</th>\n",
       "    </tr>\n",
       "  </thead>\n",
       "  <tbody>\n",
       "    <tr>\n",
       "      <th>0</th>\n",
       "      <td>1</td>\n",
       "      <td>-99998</td>\n",
       "      <td>WIN$</td>\n",
       "      <td>M5</td>\n",
       "      <td>2021-11-25 12:30:00</td>\n",
       "      <td>1637843400</td>\n",
       "      <td>153184.0</td>\n",
       "      <td>153235.0</td>\n",
       "      <td>153113.0</td>\n",
       "      <td>153199.0</td>\n",
       "      <td>30898</td>\n",
       "      <td>1</td>\n",
       "      <td>108074</td>\n",
       "    </tr>\n",
       "    <tr>\n",
       "      <th>1</th>\n",
       "      <td>2</td>\n",
       "      <td>-99997</td>\n",
       "      <td>WIN$</td>\n",
       "      <td>M5</td>\n",
       "      <td>2021-11-25 12:35:00</td>\n",
       "      <td>1637843700</td>\n",
       "      <td>153206.0</td>\n",
       "      <td>153465.0</td>\n",
       "      <td>153163.0</td>\n",
       "      <td>153163.0</td>\n",
       "      <td>50380</td>\n",
       "      <td>1</td>\n",
       "      <td>186621</td>\n",
       "    </tr>\n",
       "    <tr>\n",
       "      <th>2</th>\n",
       "      <td>3</td>\n",
       "      <td>-99996</td>\n",
       "      <td>WIN$</td>\n",
       "      <td>M5</td>\n",
       "      <td>2021-11-25 12:40:00</td>\n",
       "      <td>1637844000</td>\n",
       "      <td>153163.0</td>\n",
       "      <td>153307.0</td>\n",
       "      <td>153055.0</td>\n",
       "      <td>153235.0</td>\n",
       "      <td>40566</td>\n",
       "      <td>1</td>\n",
       "      <td>137131</td>\n",
       "    </tr>\n",
       "    <tr>\n",
       "      <th>3</th>\n",
       "      <td>4</td>\n",
       "      <td>-99995</td>\n",
       "      <td>WIN$</td>\n",
       "      <td>M5</td>\n",
       "      <td>2021-11-25 12:45:00</td>\n",
       "      <td>1637844300</td>\n",
       "      <td>153242.0</td>\n",
       "      <td>153580.0</td>\n",
       "      <td>153170.0</td>\n",
       "      <td>153522.0</td>\n",
       "      <td>56134</td>\n",
       "      <td>1</td>\n",
       "      <td>202212</td>\n",
       "    </tr>\n",
       "    <tr>\n",
       "      <th>4</th>\n",
       "      <td>5</td>\n",
       "      <td>-99994</td>\n",
       "      <td>WIN$</td>\n",
       "      <td>M5</td>\n",
       "      <td>2021-11-25 12:50:00</td>\n",
       "      <td>1637844600</td>\n",
       "      <td>153522.0</td>\n",
       "      <td>153551.0</td>\n",
       "      <td>153235.0</td>\n",
       "      <td>153242.0</td>\n",
       "      <td>37612</td>\n",
       "      <td>1</td>\n",
       "      <td>126769</td>\n",
       "    </tr>\n",
       "  </tbody>\n",
       "</table>\n",
       "</div>"
      ],
      "text/plain": [
       "   a      z symbol  tf            datetime        time      open      high  \\\n",
       "0  1 -99998   WIN$  M5 2021-11-25 12:30:00  1637843400  153184.0  153235.0   \n",
       "1  2 -99997   WIN$  M5 2021-11-25 12:35:00  1637843700  153206.0  153465.0   \n",
       "2  3 -99996   WIN$  M5 2021-11-25 12:40:00  1637844000  153163.0  153307.0   \n",
       "3  4 -99995   WIN$  M5 2021-11-25 12:45:00  1637844300  153242.0  153580.0   \n",
       "4  5 -99994   WIN$  M5 2021-11-25 12:50:00  1637844600  153522.0  153551.0   \n",
       "\n",
       "        low     close  tick_volume  spread  real_volume  \n",
       "0  153113.0  153199.0        30898       1       108074  \n",
       "1  153163.0  153163.0        50380       1       186621  \n",
       "2  153055.0  153235.0        40566       1       137131  \n",
       "3  153170.0  153522.0        56134       1       202212  \n",
       "4  153235.0  153242.0        37612       1       126769  "
      ]
     },
     "execution_count": 9,
     "metadata": {},
     "output_type": "execute_result"
    }
   ],
   "source": [
    "def MT5_LOAD_DATA(SYMBOLS, TFRAMES, start_pos=0, count=99_999):\n",
    "    Pipe = []\n",
    "    for (symbol, TF) in it.product(SYMBOLS, TFRAMES):\n",
    "        timeframe = { 'M1':mt5.TIMEFRAME_M1, 'M5':mt5.TIMEFRAME_M5, 'M10':mt5.TIMEFRAME_M10, 'M15':mt5.TIMEFRAME_M15, 'M20':mt5.TIMEFRAME_M20, 'M30':mt5.TIMEFRAME_M30, 'H1':mt5.TIMEFRAME_H1, 'H2':mt5.TIMEFRAME_H2, 'H3':mt5.TIMEFRAME_H3, 'H4':mt5.TIMEFRAME_H4, 'H6':mt5.TIMEFRAME_H6, 'H8':mt5.TIMEFRAME_H8, 'H12':mt5.TIMEFRAME_H12, 'D1':mt5.TIMEFRAME_D1, 'W1':mt5.TIMEFRAME_W1 }[TF]\n",
    "        Raw       = pd.DataFrame(mt5.copy_rates_from_pos(symbol, timeframe, start_pos, count))\n",
    "        Raw.insert(0, 'a',          Raw.index + 1)\n",
    "        Raw.insert(1, 'z',          Raw.index - Raw.index.max())\n",
    "        Raw.insert(2, 'symbol',     symbol)\n",
    "        Raw.insert(3, 'tf',         TF)\n",
    "        Raw.insert(4, 'datetime',   pd.to_datetime(Raw['time'], unit='s'))\n",
    "        Pipe.append(Raw)\n",
    "    pass\n",
    "    return pd.concat(Pipe, ignore_index=1)\n",
    "\n",
    "Raw = MT5_LOAD_DATA(SYMBOLS, TFRAMES)\n",
    "Raw.head()"
   ]
  },
  {
   "cell_type": "code",
   "execution_count": null,
   "id": "d86dada3",
   "metadata": {},
   "outputs": [],
   "source": [
    "raise Exception('STOP')"
   ]
  },
  {
   "cell_type": "markdown",
   "id": "fd360177",
   "metadata": {},
   "source": [
    "# Save"
   ]
  },
  {
   "cell_type": "code",
   "execution_count": null,
   "id": "28f8419c",
   "metadata": {},
   "outputs": [],
   "source": [
    "# Raw.to_csv('Raw.csv', index=False)"
   ]
  },
  {
   "cell_type": "markdown",
   "id": "67975448",
   "metadata": {},
   "source": [
    "# Load"
   ]
  },
  {
   "cell_type": "code",
   "execution_count": null,
   "id": "1972eeeb",
   "metadata": {},
   "outputs": [],
   "source": [
    "Raw = pd.read_csv('Raw.csv', parse_dates=['datetime'])\n",
    "Raw.head()"
   ]
  },
  {
   "cell_type": "code",
   "execution_count": null,
   "id": "8d67df41",
   "metadata": {},
   "outputs": [],
   "source": [
    "def QUERY_SELECT(Raw, SYMBOLS, TFRAMES):\n",
    "    return Raw[Raw['symbol'].isin(SYMBOLS) & Raw['tf'].isin(TFRAMES)] .reset_index(drop=1)\n",
    "\n",
    "Query = QUERY_SELECT(Raw, SYMBOLS=[*SYMBOLS], TFRAMES=[*TFRAMES])\n",
    "Query.head()"
   ]
  },
  {
   "cell_type": "markdown",
   "id": "5fe053b3",
   "metadata": {},
   "source": [
    "# Check"
   ]
  },
  {
   "cell_type": "code",
   "execution_count": 33,
   "id": "1dadb7d8",
   "metadata": {},
   "outputs": [
    {
     "data": {
      "text/html": [
       "<div>\n",
       "<style scoped>\n",
       "    .dataframe tbody tr th:only-of-type {\n",
       "        vertical-align: middle;\n",
       "    }\n",
       "\n",
       "    .dataframe tbody tr th {\n",
       "        vertical-align: top;\n",
       "    }\n",
       "\n",
       "    .dataframe thead th {\n",
       "        text-align: right;\n",
       "    }\n",
       "</style>\n",
       "<table border=\"1\" class=\"dataframe\">\n",
       "  <thead>\n",
       "    <tr style=\"text-align: right;\">\n",
       "      <th></th>\n",
       "      <th>datetime</th>\n",
       "    </tr>\n",
       "    <tr>\n",
       "      <th>tf</th>\n",
       "      <th></th>\n",
       "    </tr>\n",
       "  </thead>\n",
       "  <tbody>\n",
       "    <tr>\n",
       "      <th>M5</th>\n",
       "      <td>99999</td>\n",
       "    </tr>\n",
       "    <tr>\n",
       "      <th>M15</th>\n",
       "      <td>46109</td>\n",
       "    </tr>\n",
       "    <tr>\n",
       "      <th>H1</th>\n",
       "      <td>11866</td>\n",
       "    </tr>\n",
       "    <tr>\n",
       "      <th>H3</th>\n",
       "      <td>4408</td>\n",
       "    </tr>\n",
       "    <tr>\n",
       "      <th>D1</th>\n",
       "      <td>1246</td>\n",
       "    </tr>\n",
       "    <tr>\n",
       "      <th>W1</th>\n",
       "      <td>262</td>\n",
       "    </tr>\n",
       "  </tbody>\n",
       "</table>\n",
       "</div>"
      ],
      "text/plain": [
       "     datetime\n",
       "tf           \n",
       "M5      99999\n",
       "M15     46109\n",
       "H1      11866\n",
       "H3       4408\n",
       "D1       1246\n",
       "W1        262"
      ]
     },
     "execution_count": 33,
     "metadata": {},
     "output_type": "execute_result"
    }
   ],
   "source": [
    "Raw.groupby('tf', sort=0)[['datetime']].count()"
   ]
  },
  {
   "cell_type": "code",
   "execution_count": 34,
   "id": "0043405d",
   "metadata": {},
   "outputs": [
    {
     "data": {
      "text/html": [
       "<div>\n",
       "<style scoped>\n",
       "    .dataframe tbody tr th:only-of-type {\n",
       "        vertical-align: middle;\n",
       "    }\n",
       "\n",
       "    .dataframe tbody tr th {\n",
       "        vertical-align: top;\n",
       "    }\n",
       "\n",
       "    .dataframe thead th {\n",
       "        text-align: right;\n",
       "    }\n",
       "</style>\n",
       "<table border=\"1\" class=\"dataframe\">\n",
       "  <thead>\n",
       "    <tr style=\"text-align: right;\">\n",
       "      <th></th>\n",
       "      <th>datetime</th>\n",
       "    </tr>\n",
       "    <tr>\n",
       "      <th>tf</th>\n",
       "      <th></th>\n",
       "    </tr>\n",
       "  </thead>\n",
       "  <tbody>\n",
       "    <tr>\n",
       "      <th>M5</th>\n",
       "      <td>2021-11-25 12:30:00</td>\n",
       "    </tr>\n",
       "    <tr>\n",
       "      <th>M15</th>\n",
       "      <td>2020-07-10 09:00:00</td>\n",
       "    </tr>\n",
       "    <tr>\n",
       "      <th>H1</th>\n",
       "      <td>2020-07-10 09:00:00</td>\n",
       "    </tr>\n",
       "    <tr>\n",
       "      <th>H3</th>\n",
       "      <td>2020-07-10 09:00:00</td>\n",
       "    </tr>\n",
       "    <tr>\n",
       "      <th>D1</th>\n",
       "      <td>2020-07-10 00:00:00</td>\n",
       "    </tr>\n",
       "    <tr>\n",
       "      <th>W1</th>\n",
       "      <td>2020-07-05 00:00:00</td>\n",
       "    </tr>\n",
       "  </tbody>\n",
       "</table>\n",
       "</div>"
      ],
      "text/plain": [
       "               datetime\n",
       "tf                     \n",
       "M5  2021-11-25 12:30:00\n",
       "M15 2020-07-10 09:00:00\n",
       "H1  2020-07-10 09:00:00\n",
       "H3  2020-07-10 09:00:00\n",
       "D1  2020-07-10 00:00:00\n",
       "W1  2020-07-05 00:00:00"
      ]
     },
     "execution_count": 34,
     "metadata": {},
     "output_type": "execute_result"
    }
   ],
   "source": [
    "Raw.groupby('tf', sort=0)[['datetime']].first()"
   ]
  }
 ],
 "metadata": {
  "kernelspec": {
   "display_name": "Python 3",
   "language": "python",
   "name": "python3"
  },
  "language_info": {
   "codemirror_mode": {
    "name": "ipython",
    "version": 3
   },
   "file_extension": ".py",
   "mimetype": "text/x-python",
   "name": "python",
   "nbconvert_exporter": "python",
   "pygments_lexer": "ipython3",
   "version": "3.13.3"
  }
 },
 "nbformat": 4,
 "nbformat_minor": 5
}
